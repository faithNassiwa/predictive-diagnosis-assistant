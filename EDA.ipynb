{
  "nbformat": 4,
  "nbformat_minor": 0,
  "metadata": {
    "colab": {
      "provenance": [],
      "authorship_tag": "ABX9TyPBLyiDyCznneVr3Ws3VyIm",
      "include_colab_link": true
    },
    "kernelspec": {
      "name": "ir",
      "display_name": "R"
    },
    "language_info": {
      "name": "R"
    }
  },
  "cells": [
    {
      "cell_type": "markdown",
      "metadata": {
        "id": "view-in-github",
        "colab_type": "text"
      },
      "source": [
        "<a href=\"https://colab.research.google.com/github/faithNassiwa/predictive-diagnosis-assistant/blob/main/EDA.ipynb\" target=\"_parent\"><img src=\"https://colab.research.google.com/assets/colab-badge.svg\" alt=\"Open In Colab\"/></a>"
      ]
    },
    {
      "cell_type": "code",
      "source": [
        "install.packages(\"data.table\")"
      ],
      "metadata": {
        "colab": {
          "base_uri": "https://localhost:8080/"
        },
        "id": "T3w5NpmOfn18",
        "outputId": "72518f8b-c6f0-47a2-d7b4-259763e1d080"
      },
      "execution_count": 5,
      "outputs": [
        {
          "output_type": "stream",
          "name": "stderr",
          "text": [
            "Installing package into ‘/usr/local/lib/R/site-library’\n",
            "(as ‘lib’ is unspecified)\n",
            "\n"
          ]
        }
      ]
    },
    {
      "cell_type": "code",
      "source": [
        "library(\"data.table\")"
      ],
      "metadata": {
        "id": "yZ7ZShb0f_26"
      },
      "execution_count": 7,
      "outputs": []
    },
    {
      "cell_type": "code",
      "source": [
        "library(\"dplyr\")"
      ],
      "metadata": {
        "colab": {
          "base_uri": "https://localhost:8080/"
        },
        "id": "5HIPTQbNg9sg",
        "outputId": "4d807f12-02e2-47c5-b8c2-a77296214740"
      },
      "execution_count": 12,
      "outputs": [
        {
          "output_type": "stream",
          "name": "stderr",
          "text": [
            "\n",
            "Attaching package: ‘dplyr’\n",
            "\n",
            "\n",
            "The following objects are masked from ‘package:data.table’:\n",
            "\n",
            "    between, first, last\n",
            "\n",
            "\n",
            "The following objects are masked from ‘package:stats’:\n",
            "\n",
            "    filter, lag\n",
            "\n",
            "\n",
            "The following objects are masked from ‘package:base’:\n",
            "\n",
            "    intersect, setdiff, setequal, union\n",
            "\n",
            "\n"
          ]
        }
      ]
    },
    {
      "cell_type": "code",
      "execution_count": 10,
      "metadata": {
        "colab": {
          "base_uri": "https://localhost:8080/"
        },
        "id": "eDWU_WB-ZAVC",
        "outputId": "7312a18e-df44-47f0-ab31-33d9e832973a"
      },
      "outputs": [
        {
          "output_type": "stream",
          "name": "stdout",
          "text": [
            "Avoidable 1.697 seconds. This file is very unusual: it ends abruptly without a final newline, and also its size is a multiple of 4096 bytes. Please properly end the last row with a newline using for example 'echo >> file' to avoid this  time to copy.\n"
          ]
        },
        {
          "output_type": "stream",
          "name": "stderr",
          "text": [
            "Warning message in fread(\"/content/release_train_patients.csv\"):\n",
            "“Discarded single-line footer: <<32,\"[['Possible influenza ou syndrome virémique typique', 0.15935491842551547], ['VIH (Primo-infection)', 0.1357097575392186], ['IVRS ou virémie', 0.13206544787780614], ['Bronchite', 0.114562468660205], ['Pneumonie', 0.11289560425473183], ['Chagas', 0.09435416962145157], ['Tuberculose', 0.08513893674426547], ['Scombroïde', 0.07125526245101613], ['Anémie', 0.057332332665811774], ['Anaphylaxie', 0.037331101759978016]]\",F,Possible influenza ou syndrome virémique typique,\"['douleurxx', 'douleur>>”\n"
          ]
        }
      ],
      "source": [
        "EDA <- fread(\"/content/release_train_patients.csv\")"
      ]
    },
    {
      "cell_type": "code",
      "source": [
        "EDA"
      ],
      "metadata": {
        "id": "2vNXdK7chOoX"
      },
      "execution_count": null,
      "outputs": []
    },
    {
      "cell_type": "code",
      "source": [
        "pathologies <- EDA[,\"PATHOLOGY\"]"
      ],
      "metadata": {
        "id": "gAdNqGDWgckD"
      },
      "execution_count": 14,
      "outputs": []
    },
    {
      "cell_type": "code",
      "source": [
        "pathologies"
      ],
      "metadata": {
        "id": "0KyWIRKohU6q"
      },
      "execution_count": null,
      "outputs": []
    },
    {
      "cell_type": "code",
      "source": [
        "C <- unique(pathologies)"
      ],
      "metadata": {
        "id": "MSlFgf8whkdl"
      },
      "execution_count": 17,
      "outputs": []
    },
    {
      "cell_type": "code",
      "source": [
        "C"
      ],
      "metadata": {
        "colab": {
          "base_uri": "https://localhost:8080/",
          "height": 1000
        },
        "id": "E-UTD2fThpdq",
        "outputId": "0b90106c-d1f2-4dcf-c01c-6e2fd774b8b3"
      },
      "execution_count": 18,
      "outputs": [
        {
          "output_type": "display_data",
          "data": {
            "text/html": [
              "<table class=\"dataframe\">\n",
              "<caption>A data.table: 49 × 1</caption>\n",
              "<thead>\n",
              "\t<tr><th scope=col>PATHOLOGY</th></tr>\n",
              "\t<tr><th scope=col>&lt;chr&gt;</th></tr>\n",
              "</thead>\n",
              "<tbody>\n",
              "\t<tr><td>IVRS ou virémie                                                </td></tr>\n",
              "\t<tr><td>VIH (Primo-infection)                                          </td></tr>\n",
              "\t<tr><td>Pneumonie                                                      </td></tr>\n",
              "\t<tr><td>Rhinosinusite chronique                                        </td></tr>\n",
              "\t<tr><td>Pharyngite virale                                              </td></tr>\n",
              "\t<tr><td>Anémie                                                         </td></tr>\n",
              "\t<tr><td>Fibrillation auriculaire/Flutter auriculaire                   </td></tr>\n",
              "\t<tr><td>Rhinite allergique                                             </td></tr>\n",
              "\t<tr><td>Laryngospasme                                                  </td></tr>\n",
              "\t<tr><td>Céphalée en grappe                                             </td></tr>\n",
              "\t<tr><td>Anaphylaxie                                                    </td></tr>\n",
              "\t<tr><td>Pneumothorax spontané                                          </td></tr>\n",
              "\t<tr><td>OAP/Surcharge pulmonaire                                       </td></tr>\n",
              "\t<tr><td>Tuberculose                                                    </td></tr>\n",
              "\t<tr><td>Myasthénie grave                                               </td></tr>\n",
              "\t<tr><td>Attaque de panique                                             </td></tr>\n",
              "\t<tr><td>Scombroïde                                                     </td></tr>\n",
              "\t<tr><td>Épiglottite                                                    </td></tr>\n",
              "\t<tr><td>Hernie inguinale                                               </td></tr>\n",
              "\t<tr><td>Syndrome de Boerhaave                                          </td></tr>\n",
              "\t<tr><td>Néoplasie du pancréas                                          </td></tr>\n",
              "\t<tr><td>Bronchite                                                      </td></tr>\n",
              "\t<tr><td>Lupus érythémateux disséminé (LED)                             </td></tr>\n",
              "\t<tr><td>Laryngite aigue                                                </td></tr>\n",
              "\t<tr><td>Angine instable                                                </td></tr>\n",
              "\t<tr><td>Bronchiectasies                                                </td></tr>\n",
              "\t<tr><td>Possible NSTEMI / STEMI                                        </td></tr>\n",
              "\t<tr><td>Chagas                                                         </td></tr>\n",
              "\t<tr><td>Oedème localisé ou généralisé sans atteinte pulmonaire associée</td></tr>\n",
              "\t<tr><td>Sarcoïdose                                                     </td></tr>\n",
              "\t<tr><td>Fracture de côte spontanée                                     </td></tr>\n",
              "\t<tr><td>RGO                                                            </td></tr>\n",
              "\t<tr><td>Asthme exacerbé ou bronchospasme                               </td></tr>\n",
              "\t<tr><td>Exacerbation aigue de MPOC et/ou surinfection associée         </td></tr>\n",
              "\t<tr><td>Syndrome de Guillain-Barré                                     </td></tr>\n",
              "\t<tr><td>Possible influenza ou syndrome virémique typique               </td></tr>\n",
              "\t<tr><td>Embolie pulmonaire                                             </td></tr>\n",
              "\t<tr><td>Angine stable                                                  </td></tr>\n",
              "\t<tr><td>Péricardite                                                    </td></tr>\n",
              "\t<tr><td>Rhinosinusite aigue                                            </td></tr>\n",
              "\t<tr><td>Coqueluche                                                     </td></tr>\n",
              "\t<tr><td>Myocardite                                                     </td></tr>\n",
              "\t<tr><td>Réaction dystonique aïgue                                      </td></tr>\n",
              "\t<tr><td>néoplasie pulmonaire                                           </td></tr>\n",
              "\t<tr><td>Otite moyenne aigue (OMA)                                      </td></tr>\n",
              "\t<tr><td>TSVP                                                           </td></tr>\n",
              "\t<tr><td>Laryngo-trachéo-bronchite (Croup)                              </td></tr>\n",
              "\t<tr><td>Ebola                                                          </td></tr>\n",
              "\t<tr><td>Bronchiolite                                                   </td></tr>\n",
              "</tbody>\n",
              "</table>\n"
            ],
            "text/markdown": "\nA data.table: 49 × 1\n\n| PATHOLOGY &lt;chr&gt; |\n|---|\n| IVRS ou virémie                                                 |\n| VIH (Primo-infection)                                           |\n| Pneumonie                                                       |\n| Rhinosinusite chronique                                         |\n| Pharyngite virale                                               |\n| Anémie                                                          |\n| Fibrillation auriculaire/Flutter auriculaire                    |\n| Rhinite allergique                                              |\n| Laryngospasme                                                   |\n| Céphalée en grappe                                              |\n| Anaphylaxie                                                     |\n| Pneumothorax spontané                                           |\n| OAP/Surcharge pulmonaire                                        |\n| Tuberculose                                                     |\n| Myasthénie grave                                                |\n| Attaque de panique                                              |\n| Scombroïde                                                      |\n| Épiglottite                                                     |\n| Hernie inguinale                                                |\n| Syndrome de Boerhaave                                           |\n| Néoplasie du pancréas                                           |\n| Bronchite                                                       |\n| Lupus érythémateux disséminé (LED)                              |\n| Laryngite aigue                                                 |\n| Angine instable                                                 |\n| Bronchiectasies                                                 |\n| Possible NSTEMI / STEMI                                         |\n| Chagas                                                          |\n| Oedème localisé ou généralisé sans atteinte pulmonaire associée |\n| Sarcoïdose                                                      |\n| Fracture de côte spontanée                                      |\n| RGO                                                             |\n| Asthme exacerbé ou bronchospasme                                |\n| Exacerbation aigue de MPOC et/ou surinfection associée          |\n| Syndrome de Guillain-Barré                                      |\n| Possible influenza ou syndrome virémique typique                |\n| Embolie pulmonaire                                              |\n| Angine stable                                                   |\n| Péricardite                                                     |\n| Rhinosinusite aigue                                             |\n| Coqueluche                                                      |\n| Myocardite                                                      |\n| Réaction dystonique aïgue                                       |\n| néoplasie pulmonaire                                            |\n| Otite moyenne aigue (OMA)                                       |\n| TSVP                                                            |\n| Laryngo-trachéo-bronchite (Croup)                               |\n| Ebola                                                           |\n| Bronchiolite                                                    |\n\n",
            "text/latex": "A data.table: 49 × 1\n\\begin{tabular}{l}\n PATHOLOGY\\\\\n <chr>\\\\\n\\hline\n\t IVRS ou virémie                                                \\\\\n\t VIH (Primo-infection)                                          \\\\\n\t Pneumonie                                                      \\\\\n\t Rhinosinusite chronique                                        \\\\\n\t Pharyngite virale                                              \\\\\n\t Anémie                                                         \\\\\n\t Fibrillation auriculaire/Flutter auriculaire                   \\\\\n\t Rhinite allergique                                             \\\\\n\t Laryngospasme                                                  \\\\\n\t Céphalée en grappe                                             \\\\\n\t Anaphylaxie                                                    \\\\\n\t Pneumothorax spontané                                          \\\\\n\t OAP/Surcharge pulmonaire                                       \\\\\n\t Tuberculose                                                    \\\\\n\t Myasthénie grave                                               \\\\\n\t Attaque de panique                                             \\\\\n\t Scombroïde                                                     \\\\\n\t Épiglottite                                                    \\\\\n\t Hernie inguinale                                               \\\\\n\t Syndrome de Boerhaave                                          \\\\\n\t Néoplasie du pancréas                                          \\\\\n\t Bronchite                                                      \\\\\n\t Lupus érythémateux disséminé (LED)                             \\\\\n\t Laryngite aigue                                                \\\\\n\t Angine instable                                                \\\\\n\t Bronchiectasies                                                \\\\\n\t Possible NSTEMI / STEMI                                        \\\\\n\t Chagas                                                         \\\\\n\t Oedème localisé ou généralisé sans atteinte pulmonaire associée\\\\\n\t Sarcoïdose                                                     \\\\\n\t Fracture de côte spontanée                                     \\\\\n\t RGO                                                            \\\\\n\t Asthme exacerbé ou bronchospasme                               \\\\\n\t Exacerbation aigue de MPOC et/ou surinfection associée         \\\\\n\t Syndrome de Guillain-Barré                                     \\\\\n\t Possible influenza ou syndrome virémique typique               \\\\\n\t Embolie pulmonaire                                             \\\\\n\t Angine stable                                                  \\\\\n\t Péricardite                                                    \\\\\n\t Rhinosinusite aigue                                            \\\\\n\t Coqueluche                                                     \\\\\n\t Myocardite                                                     \\\\\n\t Réaction dystonique aïgue                                      \\\\\n\t néoplasie pulmonaire                                           \\\\\n\t Otite moyenne aigue (OMA)                                      \\\\\n\t TSVP                                                           \\\\\n\t Laryngo-trachéo-bronchite (Croup)                              \\\\\n\t Ebola                                                          \\\\\n\t Bronchiolite                                                   \\\\\n\\end{tabular}\n",
            "text/plain": [
              "   PATHOLOGY                                                      \n",
              "1  IVRS ou virémie                                                \n",
              "2  VIH (Primo-infection)                                          \n",
              "3  Pneumonie                                                      \n",
              "4  Rhinosinusite chronique                                        \n",
              "5  Pharyngite virale                                              \n",
              "6  Anémie                                                         \n",
              "7  Fibrillation auriculaire/Flutter auriculaire                   \n",
              "8  Rhinite allergique                                             \n",
              "9  Laryngospasme                                                  \n",
              "10 Céphalée en grappe                                             \n",
              "11 Anaphylaxie                                                    \n",
              "12 Pneumothorax spontané                                          \n",
              "13 OAP/Surcharge pulmonaire                                       \n",
              "14 Tuberculose                                                    \n",
              "15 Myasthénie grave                                               \n",
              "16 Attaque de panique                                             \n",
              "17 Scombroïde                                                     \n",
              "18 Épiglottite                                                    \n",
              "19 Hernie inguinale                                               \n",
              "20 Syndrome de Boerhaave                                          \n",
              "21 Néoplasie du pancréas                                          \n",
              "22 Bronchite                                                      \n",
              "23 Lupus érythémateux disséminé (LED)                             \n",
              "24 Laryngite aigue                                                \n",
              "25 Angine instable                                                \n",
              "26 Bronchiectasies                                                \n",
              "27 Possible NSTEMI / STEMI                                        \n",
              "28 Chagas                                                         \n",
              "29 Oedème localisé ou généralisé sans atteinte pulmonaire associée\n",
              "30 Sarcoïdose                                                     \n",
              "31 Fracture de côte spontanée                                     \n",
              "32 RGO                                                            \n",
              "33 Asthme exacerbé ou bronchospasme                               \n",
              "34 Exacerbation aigue de MPOC et/ou surinfection associée         \n",
              "35 Syndrome de Guillain-Barré                                     \n",
              "36 Possible influenza ou syndrome virémique typique               \n",
              "37 Embolie pulmonaire                                             \n",
              "38 Angine stable                                                  \n",
              "39 Péricardite                                                    \n",
              "40 Rhinosinusite aigue                                            \n",
              "41 Coqueluche                                                     \n",
              "42 Myocardite                                                     \n",
              "43 Réaction dystonique aïgue                                      \n",
              "44 néoplasie pulmonaire                                           \n",
              "45 Otite moyenne aigue (OMA)                                      \n",
              "46 TSVP                                                           \n",
              "47 Laryngo-trachéo-bronchite (Croup)                              \n",
              "48 Ebola                                                          \n",
              "49 Bronchiolite                                                   "
            ]
          },
          "metadata": {}
        }
      ]
    }
  ]
}