{
  "nbformat": 4,
  "nbformat_minor": 0,
  "metadata": {
    "colab": {
      "provenance": []
    },
    "kernelspec": {
      "name": "python3",
      "display_name": "Python 3"
    },
    "language_info": {
      "name": "python"
    }
  },
  "cells": [
    {
      "cell_type": "code",
      "execution_count": 1,
      "metadata": {
        "colab": {
          "base_uri": "https://localhost:8080/"
        },
        "id": "jIHbE-I7NPpM",
        "outputId": "09a8c995-d4d8-4246-ea75-54ec1d090004"
      },
      "outputs": [
        {
          "output_type": "stream",
          "name": "stdout",
          "text": [
            "Mounted at /content/drive\n"
          ]
        }
      ],
      "source": [
        "import pandas as pd\n",
        "import numpy as np\n",
        "import seaborn as sns\n",
        "import matplotlib.pyplot as plt\n",
        "from google.colab import drive\n",
        "drive.mount('/content/drive')\n",
        "from sklearn.preprocessing import LabelEncoder\n",
        "from sklearn import preprocessing\n",
        "from pprint import pprint\n",
        "from sklearn.linear_model import LogisticRegression\n",
        "from sklearn.metrics import accuracy_score\n",
        "from sklearn.metrics import classification_report,confusion_matrix"
      ]
    },
    {
      "cell_type": "code",
      "source": [
        "train_df = pd.read_csv('/content/drive/MyDrive/DS5500 PROJECT/processed_train.csv', low_memory=False)\n",
        "test_df = pd.read_csv('/content/drive/MyDrive/DS5500 PROJECT/processed_test.csv', low_memory=False)\n",
        "pprint(f'Train dataset shape: {train_df.shape}')\n",
        "pprint(f'Test dataset shape: {test_df.shape}')"
      ],
      "metadata": {
        "colab": {
          "base_uri": "https://localhost:8080/"
        },
        "id": "7lk8BKuGNsOZ",
        "outputId": "b9427734-1235-4061-8108-3d7d07e8fbe5"
      },
      "execution_count": 2,
      "outputs": [
        {
          "output_type": "stream",
          "name": "stdout",
          "text": [
            "'Train dataset shape: (1025602, 221)'\n",
            "'Test dataset shape: (134529, 221)'\n"
          ]
        }
      ]
    },
    {
      "cell_type": "code",
      "source": [
        "columns_remove = [\"Have you noticed a diffuse (widespread) redness in one or both eyes?\",\n",
        "         \"Have you lost consciousness associated with violent and sustained muscle contractions or had an absence episode?\",\n",
        "         \"Have you had any vaginal discharge?\"]"
      ],
      "metadata": {
        "id": "u8izoGz6N1Op"
      },
      "execution_count": 3,
      "outputs": []
    },
    {
      "cell_type": "code",
      "source": [
        "train_df = train_df.drop(columns=columns_remove)\n",
        "test_df = test_df.drop(columns=columns_remove)"
      ],
      "metadata": {
        "id": "0UoA4kUQOK7C"
      },
      "execution_count": 4,
      "outputs": []
    },
    {
      "cell_type": "code",
      "source": [
        "train_df = train_df.dropna()\n",
        "test_df = test_df.dropna()\n",
        "pprint(f'Train dataset shape: {train_df.shape}')\n",
        "pprint(f'Test dataset shape: {test_df.shape}')"
      ],
      "metadata": {
        "colab": {
          "base_uri": "https://localhost:8080/"
        },
        "id": "zo_6hvzvOLGe",
        "outputId": "675a0c74-7f5d-4f1f-d6a3-c73c784a065f"
      },
      "execution_count": 5,
      "outputs": [
        {
          "output_type": "stream",
          "name": "stdout",
          "text": [
            "'Train dataset shape: (982224, 218)'\n",
            "'Test dataset shape: (128726, 218)'\n"
          ]
        }
      ]
    },
    {
      "cell_type": "code",
      "source": [
        "# Prepare training and test variables\n",
        "X_columns = [col for col in train_df.columns if col not in ['Unnamed: 0', 'PATHOLOGY']]\n",
        "X_train = train_df[X_columns]\n",
        "y_train = train_df['PATHOLOGY']\n",
        "X_test = test_df[X_columns]\n",
        "y_test = test_df['PATHOLOGY']\n",
        "pprint(f'X_train shape: {X_train.shape}')\n",
        "pprint(f'y_train shape: {y_train.shape}')\n",
        "pprint(f'X_test shape: {X_test.shape}')\n",
        "pprint(f'y_test shape: {y_test.shape}')"
      ],
      "metadata": {
        "colab": {
          "base_uri": "https://localhost:8080/"
        },
        "id": "GByNK7aTOLfu",
        "outputId": "20ab52f6-019e-4704-be51-eeae3bb3b03e"
      },
      "execution_count": 6,
      "outputs": [
        {
          "output_type": "stream",
          "name": "stdout",
          "text": [
            "'X_train shape: (982224, 216)'\n",
            "'y_train shape: (982224,)'\n",
            "'X_test shape: (128726, 216)'\n",
            "'y_test shape: (128726,)'\n"
          ]
        }
      ]
    },
    {
      "cell_type": "code",
      "source": [
        "categorical = X_train.select_dtypes(\"object\").columns\n",
        "categorical"
      ],
      "metadata": {
        "colab": {
          "base_uri": "https://localhost:8080/"
        },
        "id": "nX7osMYWOVs0",
        "outputId": "44fdc188-641d-47c9-ffab-0cca619a6b8f"
      },
      "execution_count": 7,
      "outputs": [
        {
          "output_type": "execute_result",
          "data": {
            "text/plain": [
              "Index(['SEX', 'Characterize your pain:', 'Do you feel pain somewhere?',\n",
              "       'Does the pain radiate to another location?',\n",
              "       'Have you traveled out of the country in the last 4 weeks?',\n",
              "       'What color is the rash?', 'Do your lesions peel off?',\n",
              "       'Where is the affected region located?',\n",
              "       'Is the lesion (or are the lesions) larger than 1cm?',\n",
              "       'Where is the swelling located?'],\n",
              "      dtype='object')"
            ]
          },
          "metadata": {},
          "execution_count": 7
        }
      ]
    },
    {
      "cell_type": "code",
      "source": [
        "import warnings\n",
        "warnings.filterwarnings('ignore')"
      ],
      "metadata": {
        "id": "N9B1MybhOcBe"
      },
      "execution_count": 8,
      "outputs": []
    },
    {
      "cell_type": "code",
      "source": [
        "label_encoder = LabelEncoder()"
      ],
      "metadata": {
        "id": "9UeuY9x0OnGu"
      },
      "execution_count": 10,
      "outputs": []
    },
    {
      "cell_type": "code",
      "source": [
        "for column in categorical:\n",
        "    X_train[column] = label_encoder.fit_transform(X_train[column])"
      ],
      "metadata": {
        "id": "O15SvLUwOdPK"
      },
      "execution_count": 11,
      "outputs": []
    },
    {
      "cell_type": "code",
      "source": [
        "for column in categorical:\n",
        "    X_test[column] = label_encoder.fit_transform(X_test[column])"
      ],
      "metadata": {
        "id": "FEGTXaeaOdVB"
      },
      "execution_count": 12,
      "outputs": []
    },
    {
      "cell_type": "code",
      "source": [
        "logistic_regression = LogisticRegression(penalty='l1', solver='liblinear')\n",
        "\n",
        "#fit model on training data\n",
        "\n",
        "logistic_regression.fit(X_train,y_train )\n",
        "\n",
        "#predictions on testing data\n",
        "\n",
        "y_pred = logistic_regression.predict(X_test)\n",
        "\n",
        "#evaluate model\n",
        "\n",
        "accuracy = accuracy_score(y_test, y_pred)\n",
        "print(f'The accuracy score is {accuracy * 100}%')"
      ],
      "metadata": {
        "colab": {
          "base_uri": "https://localhost:8080/"
        },
        "id": "SB2UPQqwOdYr",
        "outputId": "8f72fa61-d9fc-4cce-bbe7-4f418da96b75"
      },
      "execution_count": 14,
      "outputs": [
        {
          "output_type": "stream",
          "name": "stdout",
          "text": [
            "The accuracy score is 99.3847396796296%\n"
          ]
        }
      ]
    },
    {
      "cell_type": "code",
      "source": [
        "from sklearn.preprocessing import LabelBinarizer"
      ],
      "metadata": {
        "id": "wVq0Jj4YVAER"
      },
      "execution_count": 16,
      "outputs": []
    },
    {
      "cell_type": "code",
      "source": [
        "lb = LabelBinarizer()"
      ],
      "metadata": {
        "id": "o33xrU7TVC5P"
      },
      "execution_count": 17,
      "outputs": []
    },
    {
      "cell_type": "code",
      "source": [
        "y_pred_encoded = lb.fit_transform(y_pred)\n",
        "y_test_encoded = lb.fit_transform(y_test)"
      ],
      "metadata": {
        "id": "lAliWDcLVHLg"
      },
      "execution_count": 18,
      "outputs": []
    },
    {
      "cell_type": "code",
      "source": [
        "y_test_encoded"
      ],
      "metadata": {
        "colab": {
          "base_uri": "https://localhost:8080/"
        },
        "id": "TGwJlOIdVLOi",
        "outputId": "2aba8410-b6d4-4c19-804e-4ff98a96cb99"
      },
      "execution_count": 19,
      "outputs": [
        {
          "output_type": "execute_result",
          "data": {
            "text/plain": [
              "array([[0, 0, 0, ..., 0, 0, 0],\n",
              "       [0, 0, 0, ..., 0, 0, 0],\n",
              "       [0, 1, 0, ..., 0, 0, 0],\n",
              "       ...,\n",
              "       [0, 0, 0, ..., 0, 0, 0],\n",
              "       [0, 0, 0, ..., 0, 0, 0],\n",
              "       [0, 0, 0, ..., 0, 0, 0]])"
            ]
          },
          "metadata": {},
          "execution_count": 19
        }
      ]
    },
    {
      "cell_type": "code",
      "source": [
        "#calculate AUC of model\n",
        "auc = metrics.roc_auc_score(y_test_encoded, y_pred_encoded)\n",
        "\n",
        "#print AUC score\n",
        "print(auc)"
      ],
      "metadata": {
        "colab": {
          "base_uri": "https://localhost:8080/"
        },
        "id": "fGdjXZeUVMli",
        "outputId": "d5c7d5d3-d57c-416b-e502-fef8b9a7d1ee"
      },
      "execution_count": 20,
      "outputs": [
        {
          "output_type": "stream",
          "name": "stdout",
          "text": [
            "0.9959799938917276\n"
          ]
        }
      ]
    },
    {
      "cell_type": "code",
      "source": [
        "print(\"Classification Report\")\n",
        "print(classification_report(y_test, y_pred))\n",
        "print(confusion_matrix(y_test, y_pred))"
      ],
      "metadata": {
        "colab": {
          "base_uri": "https://localhost:8080/"
        },
        "id": "ZTfbNIXVVUBf",
        "outputId": "a9114a45-ced8-4727-ac59-f8ad08e7bf1c"
      },
      "execution_count": 21,
      "outputs": [
        {
          "output_type": "stream",
          "name": "stdout",
          "text": [
            "Classification Report\n",
            "                                          precision    recall  f1-score   support\n",
            "\n",
            "     Acute COPD exacerbation / infection       1.00      1.00      1.00      2153\n",
            "                Acute dystonic reactions       1.00      1.00      1.00      3302\n",
            "                        Acute laryngitis       0.99      0.99      0.99      3214\n",
            "                      Acute otitis media       1.00      1.00      1.00      3509\n",
            "                   Acute pulmonary edema       1.00      1.00      1.00      2598\n",
            "                    Acute rhinosinusitis       1.00      0.67      0.80      1829\n",
            "                      Allergic sinusitis       1.00      1.00      1.00      2411\n",
            "                             Anaphylaxis       1.00      1.00      1.00      3798\n",
            "                                  Anemia       1.00      1.00      1.00      6770\n",
            "                     Atrial fibrillation       1.00      1.00      1.00      2831\n",
            "                               Boerhaave       1.00      1.00      1.00      2083\n",
            "                          Bronchiectasis       1.00      1.00      1.00      2454\n",
            "                           Bronchiolitis       1.00      1.00      1.00        36\n",
            "                              Bronchitis       1.00      1.00      1.00      3577\n",
            "Bronchospasm / acute asthma exacerbation       1.00      1.00      1.00      2222\n",
            "                                  Chagas       1.00      1.00      1.00      1077\n",
            "                  Chronic rhinosinusitis       0.82      1.00      0.90      2747\n",
            "                        Cluster headache       1.00      1.00      1.00      2825\n",
            "                                   Croup       1.00      1.00      1.00       344\n",
            "                                   Ebola       1.00      1.00      1.00       100\n",
            "                            Epiglottitis       1.00      1.00      1.00      2364\n",
            "                                    GERD       1.00      1.00      1.00      3514\n",
            "                 Guillain-Barré syndrome       1.00      1.00      1.00      2601\n",
            "                 HIV (initial infection)       1.00      1.00      1.00      3904\n",
            "                               Influenza       1.00      1.00      1.00      3097\n",
            "                         Inguinal hernia       1.00      1.00      1.00      2488\n",
            "                             Larygospasm       1.00      1.00      1.00       785\n",
            "                         Localized edema       1.00      1.00      1.00      3734\n",
            "                       Myasthenia gravis       1.00      1.00      1.00      2215\n",
            "                             Myocarditis       1.00      1.00      1.00      1468\n",
            "                                    PSVT       1.00      1.00      1.00      1635\n",
            "                     Pancreatic neoplasm       1.00      1.00      1.00      1779\n",
            "                            Panic attack       1.00      1.00      1.00      3387\n",
            "                            Pericarditis       1.00      1.00      1.00      3095\n",
            "                               Pneumonia       1.00      1.00      1.00      3454\n",
            "                 Possible NSTEMI / STEMI       1.00      1.00      1.00      2911\n",
            "                      Pulmonary embolism       1.00      1.00      1.00      3679\n",
            "                      Pulmonary neoplasm       1.00      1.00      1.00      1673\n",
            "                                     SLE       1.00      1.00      1.00      1514\n",
            "                Scombroid food poisoning       1.00      1.00      1.00      2486\n",
            "                Spontaneous pneumothorax       1.00      1.00      1.00      1343\n",
            "                Spontaneous rib fracture       1.00      1.00      1.00       778\n",
            "                           Stable angina       0.98      1.00      0.99      2386\n",
            "                            Tuberculosis       1.00      1.00      1.00      2080\n",
            "                                    URTI       1.00      0.99      1.00      8713\n",
            "                         Unstable angina       1.00      0.98      0.99      2880\n",
            "                       Viral pharyngitis       0.99      1.00      0.99      8334\n",
            "                          Whooping cough       1.00      1.00      1.00       549\n",
            "\n",
            "                                accuracy                           0.99    128726\n",
            "                               macro avg       1.00      0.99      0.99    128726\n",
            "                            weighted avg       0.99      0.99      0.99    128726\n",
            "\n",
            "[[2152    0    0 ...    0    0    0]\n",
            " [   0 3302    0 ...    0    0    0]\n",
            " [   0    0 3191 ...    0   20    0]\n",
            " ...\n",
            " [   0    0    0 ... 2829    0    0]\n",
            " [   0    0   32 ...    0 8296    0]\n",
            " [   0    0    0 ...    0    0  549]]\n"
          ]
        }
      ]
    },
    {
      "cell_type": "code",
      "source": [
        "from sklearn.model_selection import cross_val_score"
      ],
      "metadata": {
        "id": "cn5YB8m8VdLV"
      },
      "execution_count": 22,
      "outputs": []
    },
    {
      "cell_type": "code",
      "source": [
        "X = X_train\n",
        "y = y_train"
      ],
      "metadata": {
        "id": "Nv1sdG4fVghZ"
      },
      "execution_count": 23,
      "outputs": []
    },
    {
      "cell_type": "code",
      "source": [
        "# Took 1h6m to run\n",
        "k = 5\n",
        "scores = cross_val_score(logistic_regression, X, y, cv=k, scoring='accuracy')"
      ],
      "metadata": {
        "id": "msuNOc4hVjL7"
      },
      "execution_count": 24,
      "outputs": []
    },
    {
      "cell_type": "markdown",
      "source": [
        "### this took 1h6 minutes to run"
      ],
      "metadata": {
        "id": "vR4oP5jRk7ev"
      }
    },
    {
      "cell_type": "code",
      "source": [
        "print(f\"Mean Accuracy: {np.mean(scores)}\")"
      ],
      "metadata": {
        "colab": {
          "base_uri": "https://localhost:8080/"
        },
        "id": "pDc3U1MUlAAK",
        "outputId": "ed0604c8-3f2d-47d8-c94f-8c891138ce78"
      },
      "execution_count": 25,
      "outputs": [
        {
          "output_type": "stream",
          "name": "stdout",
          "text": [
            "Mean Accuracy: 0.9938496717196672\n"
          ]
        }
      ]
    }
  ]
}