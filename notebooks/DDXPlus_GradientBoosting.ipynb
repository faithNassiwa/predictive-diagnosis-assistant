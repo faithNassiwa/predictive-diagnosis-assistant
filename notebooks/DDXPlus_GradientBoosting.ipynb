{
  "nbformat": 4,
  "nbformat_minor": 0,
  "metadata": {
    "colab": {
      "provenance": [],
      "machine_shape": "hm",
      "authorship_tag": "ABX9TyNCrwo+5AiCdWoy4Uau+QQc",
      "include_colab_link": true
    },
    "kernelspec": {
      "name": "python3",
      "display_name": "Python 3"
    },
    "language_info": {
      "name": "python"
    }
  },
  "cells": [
    {
      "cell_type": "markdown",
      "metadata": {
        "id": "view-in-github",
        "colab_type": "text"
      },
      "source": [
        "<a href=\"https://colab.research.google.com/github/faithNassiwa/predictive-diagnosis-assistant/blob/main/notebooks/DDXPlus_GradientBoosting.ipynb\" target=\"_parent\"><img src=\"https://colab.research.google.com/assets/colab-badge.svg\" alt=\"Open In Colab\"/></a>"
      ]
    },
    {
      "cell_type": "code",
      "execution_count": 25,
      "metadata": {
        "id": "XPgKaLJJaGk7"
      },
      "outputs": [],
      "source": [
        "# Import required libraries\n",
        "import numpy as np\n",
        "import pandas as pd\n",
        "import matplotlib.pyplot as plt\n",
        "import seaborn as sns\n",
        "import warnings\n",
        "warnings.filterwarnings('ignore')\n",
        "from sklearn import preprocessing\n",
        "from sklearn.metrics import accuracy_score, classification_report, auc, roc_auc_score, roc_curve, confusion_matrix\n",
        "from pprint import pprint\n",
        "from xgboost import XGBClassifier, plot_importance\n",
        "from sklearn.utils import class_weight"
      ]
    },
    {
      "cell_type": "code",
      "source": [
        "# Mount google drive to access folder with data\n",
        "from google.colab import drive\n",
        "drive.mount('/content/drive')"
      ],
      "metadata": {
        "colab": {
          "base_uri": "https://localhost:8080/"
        },
        "id": "WrRzCIMraZjD",
        "outputId": "81a3433e-f719-4d29-a957-507a8f9414e3"
      },
      "execution_count": 48,
      "outputs": [
        {
          "output_type": "stream",
          "name": "stdout",
          "text": [
            "Drive already mounted at /content/drive; to attempt to forcibly remount, call drive.mount(\"/content/drive\", force_remount=True).\n"
          ]
        }
      ]
    },
    {
      "cell_type": "code",
      "source": [
        "# Read the training and test dataset -- Took a minute\n",
        "\n",
        "train_df = pd.read_csv('/content/drive/MyDrive/DS5500/Data/Dataset2/processed_train.csv', low_memory=False)\n",
        "test_df = pd.read_csv('/content/drive/MyDrive/DS5500/Data/Dataset2/processed_test.csv', low_memory=False)\n",
        "pprint(f'Train dataset shape: {train_df.shape}')\n",
        "pprint(f'Test dataset shape: {test_df.shape}')"
      ],
      "metadata": {
        "colab": {
          "base_uri": "https://localhost:8080/"
        },
        "id": "9FOZ-9EMoOYQ",
        "outputId": "ddecd3a3-9cb9-436b-99cb-a80be5b54e7b"
      },
      "execution_count": 49,
      "outputs": [
        {
          "output_type": "stream",
          "name": "stdout",
          "text": [
            "'Train dataset shape: (1025602, 221)'\n",
            "'Test dataset shape: (134529, 221)'\n"
          ]
        }
      ]
    },
    {
      "cell_type": "code",
      "source": [
        "# View values of categorical columns\n",
        "unique_values = {col: train_df[col].unique() for col in train_df.columns if train_df[col].dtype == 'O'}\n",
        "pprint(unique_values)\n"
      ],
      "metadata": {
        "colab": {
          "base_uri": "https://localhost:8080/"
        },
        "id": "UySs0OuCuXDs",
        "outputId": "f8d7fef4-34e1-4734-a18d-a02b57ece0c1"
      },
      "execution_count": 50,
      "outputs": [
        {
          "output_type": "stream",
          "name": "stdout",
          "text": [
            "{'Characterize your pain:': array(['heavy', 'exhausting', 'sharp', 'burning', 'a cramp', '0',\n",
            "       'heartbreaking', 'sickening', 'sensitive', 'scary',\n",
            "       'a knife stroke', 'tugging', 'violent', 'a pulse', 'haunting',\n",
            "       'tedious', nan], dtype=object),\n",
            " 'Do you feel pain somewhere?': array(['temple(L)', 'posterior chest wall(L)', 'eye(R)', 'pharynx', '0',\n",
            "       'temple(R)', 'epigastric', 'breast(L)', 'iliac fossa(L)', 'pubis',\n",
            "       'occiput', 'testicle(L)', 'posterior chest wall(R)', 'shoulder(L)',\n",
            "       'under the jaw', 'hypochondrium(R)', 'forehead', 'trachea',\n",
            "       'sole(L)', 'finger (middle)(R)', 'shoulder(R)', 'breast(R)',\n",
            "       'dorsal aspect of the foot(L)', 'belly', 'eye(L)', 'nose',\n",
            "       'hip(L)', 'top of the head', 'triceps(R)', 'finger (middle)(L)',\n",
            "       'ear(L)', 'ear(R)', 'nowhere', 'sole(R)', 'upper chest',\n",
            "       'cheek(L)', 'hypochondrium(L)', 'knee(R)', 'back of head',\n",
            "       'palace', 'testicle(R)', 'lower chest',\n",
            "       'dorsal aspect of the foot(R)', 'tibia(R)',\n",
            "       'dorsal aspect of the wrist(L)', 'dorsal aspect of the wrist(R)',\n",
            "       'tibia(L)', 'side of the chest(L)', 'calf(R)', 'hip(R)',\n",
            "       'iliac fossa(R)', 'thyroid cartilage', 'toe (1)(R)', 'flank(L)',\n",
            "       'tonsil(R)', 'finger (index)(R)', 'palmar face of the wrist(L)',\n",
            "       'palmar face of the wrist(R)', 'finger (index)(L)', 'calf(L)',\n",
            "       'cheek(R)', 'toe (1)(L)', 'side of the chest(R)', 'thigh(L)',\n",
            "       'toe (2)(L)', 'toe (2)(R)', 'tonsil(L)', 'side of the neck(L)',\n",
            "       'knee(L)', 'back of the neck', 'scapula(R)', 'cervical spine',\n",
            "       'scapula(L)', 'little toe (4)(L)', 'thigh(R)', 'mouth',\n",
            "       'toe (3)(L)', 'triceps(L)', 'side of the neck(R)', 'flank(R)',\n",
            "       'toe (3)(R)', 'little toe (4)(R)', 'thumb(L)', 'thumb(R)',\n",
            "       'ankle(L)', 'thoracic spine', 'biceps(R)', 'biceps(L)'],\n",
            "      dtype=object),\n",
            " 'Do your lesions peel off?': array(['0', 'N', 'Y'], dtype=object),\n",
            " 'Does the pain radiate to another location?': array(['nowhere', 'temple(L)', 'temple(R)', '0', 'shoulder(L)',\n",
            "       'scapula(L)', 'shoulder(R)', 'posterior chest wall(L)',\n",
            "       'lower chest', 'under the jaw', 'upper chest', 'nose',\n",
            "       'triceps(L)', 'thoracic spine', 'posterior chest wall(R)',\n",
            "       'scapula(R)', 'triceps(R)', 'back of head', 'breast(L)',\n",
            "       'forehead', 'trachea', 'breast(R)', 'jaw', 'chin', 'biceps(R)',\n",
            "       'thyroid cartilage', 'biceps(L)', 'side of the chest(L)'],\n",
            "      dtype=object),\n",
            " 'Have you traveled out of the country in the last 4 weeks?': array(['N', 'Central America', 'North America', 'West Africa', 'Asia',\n",
            "       'South America', 'North Africa', 'Caraibes', 'South East Asia',\n",
            "       'South Africa', 'Europe'], dtype=object),\n",
            " 'Is the lesion (or are the lesions) larger than 1cm?': array(['0', 'Y', 'N'], dtype=object),\n",
            " 'PATHOLOGY': array(['URTI', 'HIV (initial infection)', 'Pneumonia',\n",
            "       'Chronic rhinosinusitis', 'Viral pharyngitis', 'Anemia',\n",
            "       'Atrial fibrillation', 'Allergic sinusitis', 'Larygospasm',\n",
            "       'Cluster headache', 'Anaphylaxis', 'Spontaneous pneumothorax',\n",
            "       'Acute pulmonary edema', 'Tuberculosis', 'Myasthenia gravis',\n",
            "       'Panic attack', 'Scombroid food poisoning', 'Epiglottitis',\n",
            "       'Inguinal hernia', 'Boerhaave', 'Pancreatic neoplasm',\n",
            "       'Bronchitis', 'SLE', 'Acute laryngitis', 'Unstable angina',\n",
            "       'Bronchiectasis', 'Possible NSTEMI / STEMI', 'Chagas',\n",
            "       'Localized edema', 'Sarcoidosis', 'Spontaneous rib fracture',\n",
            "       'GERD', 'Bronchospasm / acute asthma exacerbation',\n",
            "       'Acute COPD exacerbation / infection', 'Guillain-Barré syndrome',\n",
            "       'Influenza', 'Pulmonary embolism', 'Stable angina', 'Pericarditis',\n",
            "       'Acute rhinosinusitis', 'Whooping cough', 'Myocarditis',\n",
            "       'Acute dystonic reactions', 'Pulmonary neoplasm',\n",
            "       'Acute otitis media', 'PSVT', 'Croup', 'Ebola', 'Bronchiolitis'],\n",
            "      dtype=object),\n",
            " 'SEX': array(['M', 'F'], dtype=object),\n",
            " 'What color is the rash?': array(['0', 'pale', 'pink', 'yellow', 'red', nan], dtype=object),\n",
            " 'Where is the affected region located?': array(['0', 'internal cheek(L)', 'flank(L)', 'ankle(R)', 'thoracic spine',\n",
            "       'iliac fossa(L)', 'epigastric', 'nose', 'nowhere',\n",
            "       'cervical spine', 'commissure(L)', 'thyroid cartilage', 'forehead',\n",
            "       'ankle(L)', 'side of the neck(R)', 'bottom lip(R)', 'penis',\n",
            "       'iliac fossa(R)', 'shoulder(R)', 'buttock(L)', 'cheek(L)',\n",
            "       'labia minora(R)', 'side of the neck(L)', 'belly',\n",
            "       'internal cheek(R)', 'palace', 'back of the neck', 'upper lip(R)',\n",
            "       'shoulder(L)', 'lumbar spine', 'posterior chest wall(R)',\n",
            "       'posterior chest wall(L)', 'flank(R)', 'cheek(R)', 'thigh(L)',\n",
            "       'thigh(R)', 'buttock(R)', 'commissure(R)', 'labia minora(L)',\n",
            "       'scrotum', 'under the tongue', 'testicle(R)',\n",
            "       'dorsal aspect of the hand(R)', 'testicle(L)'], dtype=object),\n",
            " 'Where is the swelling located?': array(['0', 'cheek(L)', 'tibia(L)', 'nowhere',\n",
            "       'dorsal aspect of the foot(R)', 'nose', 'calf(R)',\n",
            "       'dorsal aspect of the foot(L)', 'calf(L)', 'sole(L)',\n",
            "       'posterior aspect of the ankle(L)', 'sole(R)', 'tibia(R)',\n",
            "       'cheek(R)', 'posterior aspect of the ankle(R)', 'ankle(L)',\n",
            "       'forehead', 'thigh(R)', 'ankle(R)', 'thigh(L)', 'toe (1)(R)',\n",
            "       'toe (1)(L)', 'toe (2)(R)'], dtype=object)}\n"
          ]
        }
      ]
    },
    {
      "cell_type": "code",
      "source": [
        "# Check if there are any nans values\n",
        "pprint(train_df.columns[train_df.isna().any()].tolist())\n",
        "pprint(test_df.columns[test_df.isna().any()].tolist())"
      ],
      "metadata": {
        "colab": {
          "base_uri": "https://localhost:8080/"
        },
        "id": "_f6A4kkgz9rz",
        "outputId": "53a1f9e0-bdb3-4df5-c0d1-1dc7edf58684"
      },
      "execution_count": 51,
      "outputs": [
        {
          "output_type": "stream",
          "name": "stdout",
          "text": [
            "['Characterize your pain:', 'What color is the rash?']\n",
            "['Characterize your pain:', 'What color is the rash?']\n"
          ]
        }
      ]
    },
    {
      "cell_type": "code",
      "source": [
        "# Count of NAN in the columns -- drop these rows\n",
        "\n",
        "print(train_df['Characterize your pain:'].isna().sum())\n",
        "print(train_df['What color is the rash?'].isna().sum())\n",
        "print(test_df['Characterize your pain:'].isna().sum())\n",
        "print(test_df['What color is the rash?'].isna().sum())"
      ],
      "metadata": {
        "colab": {
          "base_uri": "https://localhost:8080/"
        },
        "id": "SKidZsLA2TGI",
        "outputId": "e1c1c092-cfe7-46ba-d847-db9fe1da91a5"
      },
      "execution_count": 52,
      "outputs": [
        {
          "output_type": "stream",
          "name": "stdout",
          "text": [
            "10859\n",
            "32609\n",
            "1379\n",
            "4436\n"
          ]
        }
      ]
    },
    {
      "cell_type": "code",
      "source": [
        "# Drop rows with NAN values\n",
        "\n",
        "train_df_nonan = train_df.dropna(subset=['Characterize your pain:', 'What color is the rash?'])\n",
        "test_df_nonan = test_df.dropna(subset=['Characterize your pain:', 'What color is the rash?'])"
      ],
      "metadata": {
        "id": "oxkY2ksJ3A1E"
      },
      "execution_count": 53,
      "outputs": []
    },
    {
      "cell_type": "code",
      "source": [
        "# Count of NAN in the columns after drop\n",
        "\n",
        "print(train_df_nonan['Characterize your pain:'].isna().sum())\n",
        "print(train_df_nonan['What color is the rash?'].isna().sum())\n",
        "print(test_df_nonan['Characterize your pain:'].isna().sum())\n",
        "print(test_df_nonan['What color is the rash?'].isna().sum())"
      ],
      "metadata": {
        "colab": {
          "base_uri": "https://localhost:8080/"
        },
        "id": "I7wdg5RuRV9j",
        "outputId": "4dcebf14-a502-4e3f-83b0-616b213bc474"
      },
      "execution_count": 54,
      "outputs": [
        {
          "output_type": "stream",
          "name": "stdout",
          "text": [
            "0\n",
            "0\n",
            "0\n",
            "0\n"
          ]
        }
      ]
    },
    {
      "cell_type": "code",
      "source": [
        "pprint(f'Train dataset shape: {train_df_nonan.shape}')\n",
        "pprint(f'Test dataset shape: {test_df_nonan.shape}')"
      ],
      "metadata": {
        "colab": {
          "base_uri": "https://localhost:8080/"
        },
        "id": "PFpgVq-fRqmF",
        "outputId": "f33678cb-0a1d-48be-8194-ea3b085c033e"
      },
      "execution_count": 55,
      "outputs": [
        {
          "output_type": "stream",
          "name": "stdout",
          "text": [
            "'Train dataset shape: (982224, 221)'\n",
            "'Test dataset shape: (128726, 221)'\n"
          ]
        }
      ]
    },
    {
      "cell_type": "code",
      "source": [
        "# Remove columns with one value\n",
        "train_df_nonan.drop(columns=['Have you lost consciousness associated with violent and sustained muscle contractions or had an absence episode?',\n",
        "                             'Have you noticed a diffuse (widespread) redness in one or both eyes?',\n",
        "                             'Have you had any vaginal discharge?'], inplace=True)\n",
        "test_df_nonan.drop(columns=['Have you lost consciousness associated with violent and sustained muscle contractions or had an absence episode?',\n",
        "                             'Have you noticed a diffuse (widespread) redness in one or both eyes?',\n",
        "                             'Have you had any vaginal discharge?'], inplace=True)"
      ],
      "metadata": {
        "id": "ZB_Xc-cKkwPn"
      },
      "execution_count": 56,
      "outputs": []
    },
    {
      "cell_type": "code",
      "source": [
        "from sklearn.preprocessing import LabelEncoder\n",
        "\n",
        "categorical_columns = list(unique_values.keys())\n",
        "\n",
        "# Reset indices of both X_train and X_test\n",
        "train_df_reset = train_df_nonan.reset_index(drop=True)\n",
        "test_df_reset = test_df_nonan.reset_index(drop=True)\n",
        "\n",
        "# Combine the train and test data\n",
        "combined = pd.concat([train_df_reset, test_df_reset], axis=0)\n",
        "\n",
        "# Create a dictionary to store encodings\n",
        "label_encoders = {}\n",
        "\n",
        "\n",
        "# Label encode the combined dataframe for each categorical column\n",
        "for col in categorical_columns:\n",
        "  le = LabelEncoder()\n",
        "  combined[col] = le.fit_transform(combined[col])\n",
        "  label_encoders[col] = le\n",
        "\n",
        "combined_encoded = combined\n",
        "\n",
        "# Split the combined_encoded dataframe back into train and test\n",
        "train_encoded = combined_encoded.iloc[:len(train_df_nonan)]\n",
        "test_encoded = combined_encoded.iloc[len(train_df_nonan):]"
      ],
      "metadata": {
        "id": "USrLg5hKvKOb"
      },
      "execution_count": 57,
      "outputs": []
    },
    {
      "cell_type": "code",
      "source": [
        "# Prepare training and test variables\n",
        "X_columns = [col for col in train_df_nonan.columns if col not in ['Unnamed: 0', 'PATHOLOGY']]\n",
        "X_train = train_encoded[X_columns]\n",
        "y_train = train_encoded['PATHOLOGY']\n",
        "X_test = test_encoded[X_columns]\n",
        "y_test = test_encoded['PATHOLOGY']\n",
        "pprint(f'X_train shape: {X_train.shape}')\n",
        "pprint(f'y_train shape: {y_train.shape}')\n",
        "pprint(f'X_test shape: {X_test.shape}')\n",
        "pprint(f'y_test shape: {y_test.shape}')\n"
      ],
      "metadata": {
        "colab": {
          "base_uri": "https://localhost:8080/"
        },
        "id": "1DUqrjKjolXy",
        "outputId": "6546e48d-5274-413e-c7e4-a30cffccdf64"
      },
      "execution_count": 58,
      "outputs": [
        {
          "output_type": "stream",
          "name": "stdout",
          "text": [
            "'X_train shape: (982224, 216)'\n",
            "'y_train shape: (982224,)'\n",
            "'X_test shape: (128726, 216)'\n",
            "'y_test shape: (128726,)'\n"
          ]
        }
      ]
    },
    {
      "cell_type": "code",
      "source": [
        "# Check dimension after encoding\n",
        "pprint(f'X_train shape: {X_train.shape}')\n",
        "pprint(f'X_test shape: {X_test.shape}')"
      ],
      "metadata": {
        "colab": {
          "base_uri": "https://localhost:8080/"
        },
        "id": "DMakw-EsW5Kj",
        "outputId": "0690bfa8-23a6-4f2f-ee7c-60c99e099bad"
      },
      "execution_count": 61,
      "outputs": [
        {
          "output_type": "stream",
          "name": "stdout",
          "text": [
            "'X_train shape: (982224, 216)'\n",
            "'X_test shape: (128726, 216)'\n"
          ]
        }
      ]
    },
    {
      "cell_type": "code",
      "source": [
        "# XGBoost Model -- Took about 8 minutes\n",
        "\n",
        "# Initialize and fit the model\n",
        "clf = XGBClassifier(random_state=420, class_weight='balanced')\n",
        "clf.fit(X_train, y_train)\n"
      ],
      "metadata": {
        "id": "0LHm1w1OolgX",
        "colab": {
          "base_uri": "https://localhost:8080/",
          "height": 252
        },
        "outputId": "613834bd-319e-4a4d-cf5e-b310f4ba1543"
      },
      "execution_count": 62,
      "outputs": [
        {
          "output_type": "execute_result",
          "data": {
            "text/plain": [
              "XGBClassifier(base_score=None, booster=None, callbacks=None,\n",
              "              class_weight='balanced', colsample_bylevel=None,\n",
              "              colsample_bynode=None, colsample_bytree=None, device=None,\n",
              "              early_stopping_rounds=None, enable_categorical=False,\n",
              "              eval_metric=None, feature_types=None, gamma=None,\n",
              "              grow_policy=None, importance_type=None,\n",
              "              interaction_constraints=None, learning_rate=None, max_bin=None,\n",
              "              max_cat_threshold=None, max_cat_to_onehot=None,\n",
              "              max_delta_step=None, max_depth=None, max_leaves=None,\n",
              "              min_child_weight=None, missing=nan, monotone_constraints=None,\n",
              "              multi_strategy=None, n_estimators=None, n_jobs=None,\n",
              "              num_parallel_tree=None, ...)"
            ],
            "text/html": [
              "<style>#sk-container-id-2 {color: black;background-color: white;}#sk-container-id-2 pre{padding: 0;}#sk-container-id-2 div.sk-toggleable {background-color: white;}#sk-container-id-2 label.sk-toggleable__label {cursor: pointer;display: block;width: 100%;margin-bottom: 0;padding: 0.3em;box-sizing: border-box;text-align: center;}#sk-container-id-2 label.sk-toggleable__label-arrow:before {content: \"▸\";float: left;margin-right: 0.25em;color: #696969;}#sk-container-id-2 label.sk-toggleable__label-arrow:hover:before {color: black;}#sk-container-id-2 div.sk-estimator:hover label.sk-toggleable__label-arrow:before {color: black;}#sk-container-id-2 div.sk-toggleable__content {max-height: 0;max-width: 0;overflow: hidden;text-align: left;background-color: #f0f8ff;}#sk-container-id-2 div.sk-toggleable__content pre {margin: 0.2em;color: black;border-radius: 0.25em;background-color: #f0f8ff;}#sk-container-id-2 input.sk-toggleable__control:checked~div.sk-toggleable__content {max-height: 200px;max-width: 100%;overflow: auto;}#sk-container-id-2 input.sk-toggleable__control:checked~label.sk-toggleable__label-arrow:before {content: \"▾\";}#sk-container-id-2 div.sk-estimator input.sk-toggleable__control:checked~label.sk-toggleable__label {background-color: #d4ebff;}#sk-container-id-2 div.sk-label input.sk-toggleable__control:checked~label.sk-toggleable__label {background-color: #d4ebff;}#sk-container-id-2 input.sk-hidden--visually {border: 0;clip: rect(1px 1px 1px 1px);clip: rect(1px, 1px, 1px, 1px);height: 1px;margin: -1px;overflow: hidden;padding: 0;position: absolute;width: 1px;}#sk-container-id-2 div.sk-estimator {font-family: monospace;background-color: #f0f8ff;border: 1px dotted black;border-radius: 0.25em;box-sizing: border-box;margin-bottom: 0.5em;}#sk-container-id-2 div.sk-estimator:hover {background-color: #d4ebff;}#sk-container-id-2 div.sk-parallel-item::after {content: \"\";width: 100%;border-bottom: 1px solid gray;flex-grow: 1;}#sk-container-id-2 div.sk-label:hover label.sk-toggleable__label {background-color: #d4ebff;}#sk-container-id-2 div.sk-serial::before {content: \"\";position: absolute;border-left: 1px solid gray;box-sizing: border-box;top: 0;bottom: 0;left: 50%;z-index: 0;}#sk-container-id-2 div.sk-serial {display: flex;flex-direction: column;align-items: center;background-color: white;padding-right: 0.2em;padding-left: 0.2em;position: relative;}#sk-container-id-2 div.sk-item {position: relative;z-index: 1;}#sk-container-id-2 div.sk-parallel {display: flex;align-items: stretch;justify-content: center;background-color: white;position: relative;}#sk-container-id-2 div.sk-item::before, #sk-container-id-2 div.sk-parallel-item::before {content: \"\";position: absolute;border-left: 1px solid gray;box-sizing: border-box;top: 0;bottom: 0;left: 50%;z-index: -1;}#sk-container-id-2 div.sk-parallel-item {display: flex;flex-direction: column;z-index: 1;position: relative;background-color: white;}#sk-container-id-2 div.sk-parallel-item:first-child::after {align-self: flex-end;width: 50%;}#sk-container-id-2 div.sk-parallel-item:last-child::after {align-self: flex-start;width: 50%;}#sk-container-id-2 div.sk-parallel-item:only-child::after {width: 0;}#sk-container-id-2 div.sk-dashed-wrapped {border: 1px dashed gray;margin: 0 0.4em 0.5em 0.4em;box-sizing: border-box;padding-bottom: 0.4em;background-color: white;}#sk-container-id-2 div.sk-label label {font-family: monospace;font-weight: bold;display: inline-block;line-height: 1.2em;}#sk-container-id-2 div.sk-label-container {text-align: center;}#sk-container-id-2 div.sk-container {/* jupyter's `normalize.less` sets `[hidden] { display: none; }` but bootstrap.min.css set `[hidden] { display: none !important; }` so we also need the `!important` here to be able to override the default hidden behavior on the sphinx rendered scikit-learn.org. See: https://github.com/scikit-learn/scikit-learn/issues/21755 */display: inline-block !important;position: relative;}#sk-container-id-2 div.sk-text-repr-fallback {display: none;}</style><div id=\"sk-container-id-2\" class=\"sk-top-container\"><div class=\"sk-text-repr-fallback\"><pre>XGBClassifier(base_score=None, booster=None, callbacks=None,\n",
              "              class_weight=&#x27;balanced&#x27;, colsample_bylevel=None,\n",
              "              colsample_bynode=None, colsample_bytree=None, device=None,\n",
              "              early_stopping_rounds=None, enable_categorical=False,\n",
              "              eval_metric=None, feature_types=None, gamma=None,\n",
              "              grow_policy=None, importance_type=None,\n",
              "              interaction_constraints=None, learning_rate=None, max_bin=None,\n",
              "              max_cat_threshold=None, max_cat_to_onehot=None,\n",
              "              max_delta_step=None, max_depth=None, max_leaves=None,\n",
              "              min_child_weight=None, missing=nan, monotone_constraints=None,\n",
              "              multi_strategy=None, n_estimators=None, n_jobs=None,\n",
              "              num_parallel_tree=None, ...)</pre><b>In a Jupyter environment, please rerun this cell to show the HTML representation or trust the notebook. <br />On GitHub, the HTML representation is unable to render, please try loading this page with nbviewer.org.</b></div><div class=\"sk-container\" hidden><div class=\"sk-item\"><div class=\"sk-estimator sk-toggleable\"><input class=\"sk-toggleable__control sk-hidden--visually\" id=\"sk-estimator-id-2\" type=\"checkbox\" checked><label for=\"sk-estimator-id-2\" class=\"sk-toggleable__label sk-toggleable__label-arrow\">XGBClassifier</label><div class=\"sk-toggleable__content\"><pre>XGBClassifier(base_score=None, booster=None, callbacks=None,\n",
              "              class_weight=&#x27;balanced&#x27;, colsample_bylevel=None,\n",
              "              colsample_bynode=None, colsample_bytree=None, device=None,\n",
              "              early_stopping_rounds=None, enable_categorical=False,\n",
              "              eval_metric=None, feature_types=None, gamma=None,\n",
              "              grow_policy=None, importance_type=None,\n",
              "              interaction_constraints=None, learning_rate=None, max_bin=None,\n",
              "              max_cat_threshold=None, max_cat_to_onehot=None,\n",
              "              max_delta_step=None, max_depth=None, max_leaves=None,\n",
              "              min_child_weight=None, missing=nan, monotone_constraints=None,\n",
              "              multi_strategy=None, n_estimators=None, n_jobs=None,\n",
              "              num_parallel_tree=None, ...)</pre></div></div></div></div></div>"
            ]
          },
          "metadata": {},
          "execution_count": 62
        }
      ]
    },
    {
      "cell_type": "code",
      "source": [
        "# Extract feature importances\n",
        "importances = clf.feature_importances_\n",
        "\n",
        "# Get the feature names\n",
        "feature_names = X_train.columns\n",
        "\n",
        "# Create a DataFrame for the importances\n",
        "importance_df = pd.DataFrame({\n",
        "    'Feature': feature_names,\n",
        "    'Importance': importances\n",
        "})\n",
        "\n",
        "# Sort the DataFrame by the importances\n",
        "importance_df = importance_df.sort_values(by='Importance', ascending=False)\n",
        "\n",
        "# Display the top features\n",
        "print(importance_df.head(50))"
      ],
      "metadata": {
        "colab": {
          "base_uri": "https://localhost:8080/"
        },
        "id": "ss1yBLHr0ZLS",
        "outputId": "4a2821b9-6380-4423-ce34-da5dae7b62bd"
      },
      "execution_count": 63,
      "outputs": [
        {
          "output_type": "stream",
          "name": "stdout",
          "text": [
            "                                               Feature  Importance\n",
            "26   Have you had sexual intercourse with an HIV-po...    0.158182\n",
            "166                      Do you have an active cancer?    0.141260\n",
            "193  Are you more irritable or has your mood been v...    0.107329\n",
            "124         Do you have painful mouth ulcers or sores?    0.058418\n",
            "188  Are you currently being treated or have you re...    0.049284\n",
            "167  Have you been unable to move or get up for mor...    0.042474\n",
            "139  Do you have a known kidney problem resulting i...    0.035874\n",
            "76   Have you been in contact with or ate something...    0.032378\n",
            "28                     Have you had chills or shivers?    0.026329\n",
            "75            Do you have a known severe food allergy?    0.024318\n",
            "123  Are you consulting because you have high blood...    0.017996\n",
            "106                 Did your cheeks suddenly turn red?    0.015727\n",
            "134  Have you been unintentionally losing weight or...    0.013395\n",
            "52   Are you taking any new oral anticoagulants ((N...    0.012963\n",
            "18   Have you had unprotected sex with more than on...    0.011464\n",
            "138   Have you ever had surgery to remove lymph nodes?    0.010636\n",
            "162  Have you noticed weakness in your facial muscl...    0.009660\n",
            "160  Have you had 2 or more asthma attacks in the p...    0.009138\n",
            "176  Have you started or taken any antipsychotic me...    0.008770\n",
            "186  Do you have family members who have had lung c...    0.007898\n",
            "196                    Do you currently take hormones?    0.007872\n",
            "104  Do you feel like you are dying or were you afr...    0.007363\n",
            "183  Do you feel your abdomen is bloated or distend...    0.007144\n",
            "152  Do you have a burning sensation that starts in...    0.007052\n",
            "73   Have any of your family members been diagnosed...    0.006659\n",
            "21                           Do your lesions peel off?    0.006481\n",
            "163  Do you have numbness, loss of sensation or tin...    0.006279\n",
            "178  Have you been treated in hospital recently for...    0.005995\n",
            "201            Do you consume energy drinks regularly?    0.005222\n",
            "113  Have you been able to pass stools or gas since...    0.005034\n",
            "174  Do you feel your heart is beating very irregul...    0.004939\n",
            "67   Do you have any close family members who suffe...    0.004777\n",
            "189  Have you had weakness or paralysis on one side...    0.004549\n",
            "191  Have you recently taken decongestants or other...    0.004527\n",
            "69      Is your nose or the back of your throat itchy?    0.004484\n",
            "91   Do you have the perception of seeing two image...    0.004463\n",
            "205  Did you have your first menstrual period befor...    0.004398\n",
            "190              Do you regularly drink coffee or tea?    0.004185\n",
            "114  Were you born prematurely or did you suffer an...    0.004159\n",
            "55       Have you been diagnosed with hyperthyroidism?    0.004025\n",
            "195                       Do you have cystic fibrosis?    0.003735\n",
            "117  Have you vomited several times or have you mad...    0.003616\n",
            "158  Have you had one or several flare ups of chron...    0.003302\n",
            "131       Do you have a problem with poor circulation?    0.002994\n",
            "81       Have you ever had a spontaneous pneumothorax?    0.002917\n",
            "70     Do you have severe itching in one or both eyes?    0.002890\n",
            "126  Do you find that your symptoms have worsened o...    0.002878\n",
            "47            Have you ever had a diagnosis of anemia?    0.002794\n",
            "96                 Do you suffer from chronic anxiety?    0.002643\n",
            "140                        Do you work in agriculture?    0.002623\n"
          ]
        }
      ]
    },
    {
      "cell_type": "code",
      "source": [
        "# Make predictions\n",
        "y_pred = clf.predict(X_test)"
      ],
      "metadata": {
        "id": "fngAKWNyvDMu"
      },
      "execution_count": 64,
      "outputs": []
    },
    {
      "cell_type": "code",
      "source": [
        "# Evaluate the Model\n",
        "\n",
        "# Encode y_values for auc_score\n",
        "from sklearn.preprocessing import LabelBinarizer\n",
        "lb = LabelBinarizer()\n",
        "y_test_2d = lb.fit_transform(y_test)\n",
        "y_pred_2d = lb.fit_transform(y_pred)\n",
        "\n",
        "# Compute scores\n",
        "accuracy = accuracy_score(y_test, y_pred)\n",
        "auc_score_ovo = roc_auc_score(y_test_2d, y_pred_2d, multi_class='ovo')\n",
        "auc_score_ovr = roc_auc_score(y_test_2d, y_pred_2d, multi_class='ovr')\n",
        "report = classification_report(y_test, y_pred)\n",
        "\n",
        "# Print scores\n",
        "print(f'The accuracy score is {accuracy * 100:.2f}%')\n",
        "print(f'One-vs-One AUC score: {auc_score_ovo * 100:.2f}%')\n",
        "print(f'One-vs-Rest AUC score: {auc_score_ovr * 100:.2f}%')\n",
        "print(\"Classification Report\")\n",
        "print(report)"
      ],
      "metadata": {
        "colab": {
          "base_uri": "https://localhost:8080/"
        },
        "id": "8JF7YFc6oljv",
        "outputId": "9763f9fa-8ab5-4666-f73d-3a66c62a5f9f"
      },
      "execution_count": 65,
      "outputs": [
        {
          "output_type": "stream",
          "name": "stdout",
          "text": [
            "The accuracy score is 99.48%\n",
            "One-vs-One AUC score: 99.64%\n",
            "One-vs-Rest AUC score: 99.64%\n",
            "Classification Report\n",
            "              precision    recall  f1-score   support\n",
            "\n",
            "           0       1.00      1.00      1.00      2153\n",
            "           1       1.00      1.00      1.00      3302\n",
            "           2       0.99      0.99      0.99      3214\n",
            "           3       1.00      1.00      1.00      3509\n",
            "           4       1.00      1.00      1.00      2598\n",
            "           5       0.98      0.70      0.82      1829\n",
            "           6       1.00      1.00      1.00      2411\n",
            "           7       1.00      1.00      1.00      3798\n",
            "           8       1.00      1.00      1.00      6770\n",
            "           9       1.00      1.00      1.00      2831\n",
            "          10       1.00      1.00      1.00      2083\n",
            "          11       1.00      1.00      1.00      2454\n",
            "          12       1.00      1.00      1.00        36\n",
            "          13       1.00      1.00      1.00      3577\n",
            "          14       1.00      1.00      1.00      2222\n",
            "          15       1.00      1.00      1.00      1077\n",
            "          16       0.83      0.99      0.90      2747\n",
            "          17       1.00      1.00      1.00      2825\n",
            "          18       1.00      1.00      1.00       344\n",
            "          19       1.00      1.00      1.00       100\n",
            "          20       1.00      1.00      1.00      2364\n",
            "          21       1.00      1.00      1.00      3514\n",
            "          22       1.00      1.00      1.00      2601\n",
            "          23       1.00      1.00      1.00      3904\n",
            "          24       1.00      1.00      1.00      3097\n",
            "          25       1.00      1.00      1.00      2488\n",
            "          26       1.00      1.00      1.00       785\n",
            "          27       1.00      1.00      1.00      3734\n",
            "          28       1.00      1.00      1.00      2215\n",
            "          29       1.00      1.00      1.00      1468\n",
            "          30       1.00      1.00      1.00      1635\n",
            "          31       1.00      1.00      1.00      1779\n",
            "          32       1.00      1.00      1.00      3387\n",
            "          33       1.00      1.00      1.00      3095\n",
            "          34       1.00      1.00      1.00      3454\n",
            "          35       1.00      1.00      1.00      2911\n",
            "          36       1.00      1.00      1.00      3679\n",
            "          37       1.00      1.00      1.00      1673\n",
            "          38       1.00      1.00      1.00      1514\n",
            "          39       1.00      1.00      1.00      2486\n",
            "          40       1.00      1.00      1.00      1343\n",
            "          41       1.00      1.00      1.00       778\n",
            "          42       0.98      1.00      0.99      2386\n",
            "          43       1.00      1.00      1.00      2080\n",
            "          44       1.00      1.00      1.00      8713\n",
            "          45       1.00      0.98      0.99      2880\n",
            "          46       1.00      1.00      1.00      8334\n",
            "          47       1.00      1.00      1.00       549\n",
            "\n",
            "    accuracy                           0.99    128726\n",
            "   macro avg       1.00      0.99      0.99    128726\n",
            "weighted avg       1.00      0.99      0.99    128726\n",
            "\n"
          ]
        }
      ]
    },
    {
      "cell_type": "code",
      "source": [
        "# Convert the report to a DataFrame\n",
        "report = classification_report(y_test, y_pred, output_dict=True)\n",
        "report_df = pd.DataFrame(dict(report)).transpose()\n",
        "class_labels_int = [int(i) for i in report_df.index[0:48].tolist() ]\n",
        "original_labels = label_encoders['PATHOLOGY'].inverse_transform(class_labels_int)\n",
        "new_index = original_labels.tolist() + report_df.index[48:].tolist()\n",
        "report_df.index = new_index\n",
        "report_df.head()\n",
        "\n",
        "# Export report\n",
        "report_df.to_csv('XGBoost_classification_report.csv')"
      ],
      "metadata": {
        "id": "ZheZaksfo4-Y"
      },
      "execution_count": 69,
      "outputs": []
    },
    {
      "cell_type": "code",
      "source": [
        "# Perform Cross Validation  - Took 34 Minutes\n",
        "\n",
        "from sklearn.model_selection import cross_validate\n",
        "\n",
        "# Initialize the model\n",
        "clf = XGBClassifier(random_state=420, class_weight='balanced')\n",
        "\n",
        "# Perform cross validation\n",
        "cv_results = cross_validate(clf, X_train, y_train, cv=5, scoring=['accuracy', 'precision_macro', 'recall_macro', 'f1_macro', 'roc_auc_ovr', 'roc_auc_ovo'], return_estimator=True)\n",
        "\n",
        "# Print the mean scores\n",
        "print(f'Mean Accuracy: {cv_results[\"test_accuracy\"].mean() * 100:.2f}%')\n",
        "print(f'Mean ROC_AUC OVR: {cv_results[\"test_roc_auc_ovr\"].mean() * 100:.2f}%')\n",
        "print(f'Mean ROC_AUC OVO: {cv_results[\"test_roc_auc_ovo\"].mean() * 100:.2f}%')\n",
        "print(f'Mean Precision: {cv_results[\"test_precision_macro\"].mean() * 100:.2f}%')\n",
        "print(f'Mean Recall: {cv_results[\"test_recall_macro\"].mean() * 100:.2f}%')\n",
        "print(f'Mean F1 Score: {cv_results[\"test_f1_macro\"].mean() * 100:.2f}%')"
      ],
      "metadata": {
        "id": "w1FnpY6volmr",
        "colab": {
          "base_uri": "https://localhost:8080/"
        },
        "outputId": "baa932a9-d1f0-43b4-f93e-b3e442a6cf6c"
      },
      "execution_count": 70,
      "outputs": [
        {
          "output_type": "stream",
          "name": "stdout",
          "text": [
            "Mean Accuracy: 99.49%\n",
            "Mean ROC_AUC OVR: 99.99%\n",
            "Mean ROC_AUC OVO: 99.99%\n",
            "Mean Precision: 99.54%\n",
            "Mean Recall: 99.30%\n",
            "Mean F1 Score: 99.36%\n"
          ]
        }
      ]
    },
    {
      "cell_type": "code",
      "source": [
        "# Generate feature importances\n",
        "\n",
        "for idx, model in enumerate(cv_results['estimator']):\n",
        "    # Extract feature importances\n",
        "    importances = model.feature_importances_\n",
        "\n",
        "    # Get the feature names\n",
        "    print(f'Model {idx}')\n",
        "    feature_names = X_train.columns\n",
        "\n",
        "    # Create a DataFrame for the importances\n",
        "    feature_importance = pd.DataFrame({\n",
        "        'Feature': feature_names,\n",
        "        'Importance': importances\n",
        "    })\n",
        "\n",
        "# Sort the DataFrame by the importances\n",
        "feature_importance = feature_importance.sort_values(by='Importance', ascending=False)\n",
        "\n",
        "# Display the top features\n",
        "print(feature_importance.head(50))\n",
        "\n"
      ],
      "metadata": {
        "colab": {
          "base_uri": "https://localhost:8080/"
        },
        "id": "X-f3gSvjAFDi",
        "outputId": "8163d000-0f9f-470e-90e3-fc37158e74e3"
      },
      "execution_count": 71,
      "outputs": [
        {
          "output_type": "stream",
          "name": "stdout",
          "text": [
            "Model 0\n",
            "Model 1\n",
            "Model 2\n",
            "Model 3\n",
            "Model 4\n",
            "                                               Feature  Importance\n",
            "166                      Do you have an active cancer?    0.162417\n",
            "188  Are you currently being treated or have you re...    0.123145\n",
            "124         Do you have painful mouth ulcers or sores?    0.067082\n",
            "193  Are you more irritable or has your mood been v...    0.056563\n",
            "167  Have you been unable to move or get up for mor...    0.048299\n",
            "134  Have you been unintentionally losing weight or...    0.045875\n",
            "75            Do you have a known severe food allergy?    0.032464\n",
            "28                     Have you had chills or shivers?    0.030045\n",
            "123  Are you consulting because you have high blood...    0.020431\n",
            "26   Have you had sexual intercourse with an HIV-po...    0.020166\n",
            "76   Have you been in contact with or ate something...    0.018535\n",
            "106                 Did your cheeks suddenly turn red?    0.018010\n",
            "16   Have you ever had a sexually transmitted infec...    0.015092\n",
            "186  Do you have family members who have had lung c...    0.014421\n",
            "52   Are you taking any new oral anticoagulants ((N...    0.014232\n",
            "139  Do you have a known kidney problem resulting i...    0.013796\n",
            "183  Do you feel your abdomen is bloated or distend...    0.012209\n",
            "138   Have you ever had surgery to remove lymph nodes?    0.012189\n",
            "176  Have you started or taken any antipsychotic me...    0.011532\n",
            "190              Do you regularly drink coffee or tea?    0.009683\n",
            "104  Do you feel like you are dying or were you afr...    0.009361\n",
            "196                    Do you currently take hormones?    0.009067\n",
            "73   Have any of your family members been diagnosed...    0.008944\n",
            "18   Have you had unprotected sex with more than on...    0.008691\n",
            "162  Have you noticed weakness in your facial muscl...    0.008342\n",
            "174  Do you feel your heart is beating very irregul...    0.008320\n",
            "201            Do you consume energy drinks regularly?    0.008181\n",
            "160  Have you had 2 or more asthma attacks in the p...    0.008029\n",
            "117  Have you vomited several times or have you mad...    0.007677\n",
            "21                           Do your lesions peel off?    0.007417\n",
            "152  Do you have a burning sensation that starts in...    0.007376\n",
            "163  Do you have numbness, loss of sensation or tin...    0.006092\n",
            "178  Have you been treated in hospital recently for...    0.005957\n",
            "113  Have you been able to pass stools or gas since...    0.005808\n",
            "155  Do you have difficulty articulating words/spea...    0.005355\n",
            "67   Do you have any close family members who suffe...    0.005248\n",
            "205  Did you have your first menstrual period befor...    0.004967\n",
            "114  Were you born prematurely or did you suffer an...    0.004767\n",
            "195                       Do you have cystic fibrosis?    0.004588\n",
            "69      Is your nose or the back of your throat itchy?    0.004345\n",
            "131       Do you have a problem with poor circulation?    0.004032\n",
            "203  Have you or any member of your family ever had...    0.003979\n",
            "189  Have you had weakness or paralysis on one side...    0.003842\n",
            "129                  Do you have Rheumatoid Arthritis?    0.003825\n",
            "191  Have you recently taken decongestants or other...    0.003717\n",
            "47            Have you ever had a diagnosis of anemia?    0.003680\n",
            "158  Have you had one or several flare ups of chron...    0.003676\n",
            "81       Have you ever had a spontaneous pneumothorax?    0.003344\n",
            "126  Do you find that your symptoms have worsened o...    0.003302\n",
            "74   Do you take medication that dilates your blood...    0.003032\n"
          ]
        }
      ]
    },
    {
      "cell_type": "code",
      "source": [
        "feature_importance.describe"
      ],
      "metadata": {
        "colab": {
          "base_uri": "https://localhost:8080/"
        },
        "id": "yJakyvr--cSN",
        "outputId": "0d5947b4-07c6-4ccb-fd04-02f73fac4694"
      },
      "execution_count": 72,
      "outputs": [
        {
          "output_type": "execute_result",
          "data": {
            "text/plain": [
              "<bound method NDFrame.describe of                                                Feature  Importance\n",
              "166                      Do you have an active cancer?    0.162417\n",
              "188  Are you currently being treated or have you re...    0.123145\n",
              "124         Do you have painful mouth ulcers or sores?    0.067082\n",
              "193  Are you more irritable or has your mood been v...    0.056563\n",
              "167  Have you been unable to move or get up for mor...    0.048299\n",
              "..                                                 ...         ...\n",
              "147  Were you diagnosed with endocrine disease or a...    0.000000\n",
              "206  Have you breastfed one of your children for mo...    0.000000\n",
              "118                  Do you have chronic pancreatitis?    0.000000\n",
              "120            Do you have pale stools and dark urine?    0.000000\n",
              "172  Have you been in contact with someone who has ...    0.000000\n",
              "\n",
              "[216 rows x 2 columns]>"
            ]
          },
          "metadata": {},
          "execution_count": 72
        }
      ]
    },
    {
      "cell_type": "code",
      "source": [
        "feature_importance.to_csv('XGBoost_feature_importance.csv')\n"
      ],
      "metadata": {
        "id": "AWAZQzyP-cV9"
      },
      "execution_count": 73,
      "outputs": []
    }
  ]
}