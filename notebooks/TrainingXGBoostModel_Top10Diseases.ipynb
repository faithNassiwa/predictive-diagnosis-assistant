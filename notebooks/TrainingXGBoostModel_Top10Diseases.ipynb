{
  "nbformat": 4,
  "nbformat_minor": 0,
  "metadata": {
    "colab": {
      "provenance": [],
      "machine_shape": "hm",
      "authorship_tag": "ABX9TyPlxhc99K+/JwgdvuJzJ3up",
      "include_colab_link": true
    },
    "kernelspec": {
      "name": "python3",
      "display_name": "Python 3"
    },
    "language_info": {
      "name": "python"
    }
  },
  "cells": [
    {
      "cell_type": "markdown",
      "metadata": {
        "id": "view-in-github",
        "colab_type": "text"
      },
      "source": [
        "<a href=\"https://colab.research.google.com/github/faithNassiwa/predictive-diagnosis-assistant/blob/main/notebooks/TrainingXGBoostModel_Top10Diseases.ipynb\" target=\"_parent\"><img src=\"https://colab.research.google.com/assets/colab-badge.svg\" alt=\"Open In Colab\"/></a>"
      ]
    },
    {
      "cell_type": "code",
      "execution_count": 1,
      "metadata": {
        "id": "2vRzkK8vaQlK"
      },
      "outputs": [],
      "source": [
        "# Import required libraries\n",
        "import numpy as np\n",
        "import pandas as pd\n",
        "import matplotlib.pyplot as plt\n",
        "import seaborn as sns\n",
        "import warnings\n",
        "warnings.filterwarnings('ignore')\n",
        "from sklearn import preprocessing\n",
        "from sklearn.metrics import accuracy_score, classification_report, auc, roc_auc_score, roc_curve, confusion_matrix\n",
        "from pprint import pprint\n",
        "from xgboost import XGBClassifier, plot_importance, DMatrix\n",
        "from sklearn.utils import class_weight\n",
        "from sklearn.model_selection import GridSearchCV, KFold, ParameterGrid\n",
        "from sklearn.preprocessing import LabelBinarizer"
      ]
    },
    {
      "cell_type": "code",
      "source": [
        "# Mount google drive to access folder with data\n",
        "from google.colab import drive\n",
        "drive.mount('/content/drive')"
      ],
      "metadata": {
        "colab": {
          "base_uri": "https://localhost:8080/"
        },
        "id": "TEZn__eGa2YE",
        "outputId": "cfdfcc31-f050-4cca-cf96-160e38f719e2"
      },
      "execution_count": 6,
      "outputs": [
        {
          "output_type": "stream",
          "name": "stdout",
          "text": [
            "Mounted at /content/drive\n"
          ]
        }
      ]
    },
    {
      "cell_type": "markdown",
      "source": [
        "# Load Data & Preprocessing"
      ],
      "metadata": {
        "id": "BeyohF38cy1J"
      }
    },
    {
      "cell_type": "code",
      "source": [
        "# Read the training and test dataset -- Took a minute\n",
        "\n",
        "train_df = pd.read_csv('/content/drive/MyDrive/DS5500/Data/Dataset2/processed_train.csv', low_memory=False)\n",
        "test_df = pd.read_csv('/content/drive/MyDrive/DS5500/Data/Dataset2/processed_test.csv', low_memory=False)\n",
        "pprint(f'Train dataset shape: {train_df.shape}')\n",
        "pprint(f'Test dataset shape: {test_df.shape}')"
      ],
      "metadata": {
        "colab": {
          "base_uri": "https://localhost:8080/"
        },
        "id": "zY-h5awga2de",
        "outputId": "4b17615d-757c-46fe-bdab-6f91247ccaed"
      },
      "execution_count": 7,
      "outputs": [
        {
          "output_type": "stream",
          "name": "stdout",
          "text": [
            "'Train dataset shape: (1025602, 221)'\n",
            "'Test dataset shape: (134529, 221)'\n"
          ]
        }
      ]
    },
    {
      "cell_type": "code",
      "source": [
        "# Drop rows with NAN values\n",
        "\n",
        "train_df_nonan = train_df.dropna(subset=['Characterize your pain:', 'What color is the rash?'])\n",
        "test_df_nonan = test_df.dropna(subset=['Characterize your pain:', 'What color is the rash?'])"
      ],
      "metadata": {
        "id": "Moikta1Ic7NF"
      },
      "execution_count": 8,
      "outputs": []
    },
    {
      "cell_type": "code",
      "source": [
        "# Remove columns with only one value\n",
        "train_df_nonan.drop(columns=['Have you lost consciousness associated with violent and sustained muscle contractions or had an absence episode?',\n",
        "                             'Have you noticed a diffuse (widespread) redness in one or both eyes?',\n",
        "                             'Have you had any vaginal discharge?'], inplace=True)\n",
        "test_df_nonan.drop(columns=['Have you lost consciousness associated with violent and sustained muscle contractions or had an absence episode?',\n",
        "                             'Have you noticed a diffuse (widespread) redness in one or both eyes?',\n",
        "                             'Have you had any vaginal discharge?'], inplace=True)"
      ],
      "metadata": {
        "id": "SUipYS6Cc7QM"
      },
      "execution_count": 9,
      "outputs": []
    },
    {
      "cell_type": "code",
      "source": [
        "# View values of categorical columns\n",
        "unique_values = {col: train_df[col].unique() for col in train_df.columns if train_df[col].dtype == 'O'}"
      ],
      "metadata": {
        "id": "ELmB5dF-dQ5P"
      },
      "execution_count": 10,
      "outputs": []
    },
    {
      "cell_type": "code",
      "source": [
        "# Handling Categorical Variables  - Label Encoding to avoid creating new features that increase the already many featureset\n",
        "from sklearn.preprocessing import LabelEncoder\n",
        "\n",
        "categorical_columns = list(unique_values.keys())\n",
        "\n",
        "# Reset indices of both X_train and X_test\n",
        "train_df_reset = train_df_nonan.reset_index(drop=True)\n",
        "test_df_reset = test_df_nonan.reset_index(drop=True)\n",
        "\n",
        "# Combine the train and test data\n",
        "combined = pd.concat([train_df_reset, test_df_reset], axis=0)\n",
        "\n",
        "# Create a dictionary to store encodings\n",
        "label_encoders = {}\n",
        "\n",
        "\n",
        "# Label encode the combined dataframe for each categorical column\n",
        "for col in categorical_columns:\n",
        "  le = LabelEncoder()\n",
        "  combined[col] = le.fit_transform(combined[col])\n",
        "  label_encoders[col] = [le.classes_, le.transform(le.classes_)]\n",
        "\n",
        "combined_encoded = combined\n",
        "\n",
        "# Split the combined_encoded dataframe back into train and test\n",
        "train_encoded = combined_encoded.iloc[:len(train_df_nonan)]\n",
        "test_encoded = combined_encoded.iloc[len(train_df_nonan):]\n",
        "\n",
        "pprint(f'{label_encoders}')\n",
        "pprint(f'Train dataset shape: {train_encoded.shape}')\n",
        "pprint(f'Test dataset shape: {test_encoded.shape}')"
      ],
      "metadata": {
        "colab": {
          "base_uri": "https://localhost:8080/"
        },
        "id": "sAeE5Ipmc7TD",
        "outputId": "4420d776-fc9a-4a64-c7e4-8e9b0dbd09b4"
      },
      "execution_count": 11,
      "outputs": [
        {
          "output_type": "stream",
          "name": "stdout",
          "text": [
            "(\"{'SEX': [array(['F', 'M'], dtype=object), array([0, 1])], 'PATHOLOGY': \"\n",
            " \"[array(['Acute COPD exacerbation / infection', 'Acute dystonic reactions',\\n\"\n",
            " \"       'Acute laryngitis', 'Acute otitis media', 'Acute pulmonary edema',\\n\"\n",
            " \"       'Acute rhinosinusitis', 'Allergic sinusitis', 'Anaphylaxis',\\n\"\n",
            " \"       'Anemia', 'Atrial fibrillation', 'Boerhaave', 'Bronchiectasis',\\n\"\n",
            " \"       'Bronchiolitis', 'Bronchitis',\\n\"\n",
            " \"       'Bronchospasm / acute asthma exacerbation', 'Chagas',\\n\"\n",
            " \"       'Chronic rhinosinusitis', 'Cluster headache', 'Croup', 'Ebola',\\n\"\n",
            " \"       'Epiglottitis', 'GERD', 'Guillain-Barré syndrome',\\n\"\n",
            " \"       'HIV (initial infection)', 'Influenza', 'Inguinal hernia',\\n\"\n",
            " \"       'Larygospasm', 'Localized edema', 'Myasthenia gravis',\\n\"\n",
            " \"       'Myocarditis', 'PSVT', 'Pancreatic neoplasm', 'Panic attack',\\n\"\n",
            " \"       'Pericarditis', 'Pneumonia', 'Possible NSTEMI / STEMI',\\n\"\n",
            " \"       'Pulmonary embolism', 'Pulmonary neoplasm', 'SLE',\\n\"\n",
            " \"       'Scombroid food poisoning', 'Spontaneous pneumothorax',\\n\"\n",
            " \"       'Spontaneous rib fracture', 'Stable angina', 'Tuberculosis',\\n\"\n",
            " \"       'URTI', 'Unstable angina', 'Viral pharyngitis', 'Whooping cough'],\\n\"\n",
            " '      dtype=object), array([ 0,  1,  2,  3,  4,  5,  6,  7,  8,  9, 10, 11, '\n",
            " '12, 13, 14, 15, 16,\\n'\n",
            " '       17, 18, 19, 20, 21, 22, 23, 24, 25, 26, 27, 28, 29, 30, 31, 32, 33,\\n'\n",
            " '       34, 35, 36, 37, 38, 39, 40, 41, 42, 43, 44, 45, 46, 47])], '\n",
            " \"'Characterize your pain:': [array(['0', 'a cramp', 'a knife stroke', 'a \"\n",
            " \"pulse', 'burning',\\n\"\n",
            " \"       'exhausting', 'haunting', 'heartbreaking', 'heavy', 'scary',\\n\"\n",
            " \"       'sensitive', 'sharp', 'sickening', 'tedious', 'tugging', 'violent'],\\n\"\n",
            " '      dtype=object), array([ 0,  1,  2,  3,  4,  5,  6,  7,  8,  9, 10, 11, '\n",
            " \"12, 13, 14, 15])], 'Do you feel pain somewhere?': [array(['0', 'ankle(L)', \"\n",
            " \"'ankle(R)', 'back of head', 'back of the neck',\\n\"\n",
            " \"       'belly', 'biceps(L)', 'biceps(R)', 'breast(L)', 'breast(R)',\\n\"\n",
            " \"       'calf(L)', 'calf(R)', 'cervical spine', 'cheek(L)', 'cheek(R)',\\n\"\n",
            " \"       'dorsal aspect of the foot(L)', 'dorsal aspect of the foot(R)',\\n\"\n",
            " \"       'dorsal aspect of the wrist(L)', 'dorsal aspect of the wrist(R)',\\n\"\n",
            " \"       'ear(L)', 'ear(R)', 'epigastric', 'eye(L)', 'eye(R)', 'flank(L)',\\n\"\n",
            " \"       'flank(R)', 'forehead', 'hip(L)', 'hip(R)', 'hypochondrium(L)',\\n\"\n",
            " \"       'hypochondrium(R)', 'iliac fossa(L)', 'iliac fossa(R)', 'knee(L)',\\n\"\n",
            " \"       'knee(R)', 'little toe (4)(L)', 'little toe (4)(R)', 'lower chest',\\n\"\n",
            " \"       'mouth', 'nose', 'occiput', 'palace',\\n\"\n",
            " \"       'palmar face of the wrist(L)', 'palmar face of the wrist(R)',\\n\"\n",
            " \"       'pharynx', 'posterior chest wall(L)', 'posterior chest wall(R)',\\n\"\n",
            " \"       'pubis', 'scapula(L)', 'scapula(R)', 'shoulder(L)', 'shoulder(R)',\\n\"\n",
            " \"       'side of the chest(L)', 'side of the chest(R)',\\n\"\n",
            " \"       'side of the neck(L)', 'side of the neck(R)', 'sole(L)', 'sole(R)',\\n\"\n",
            " \"       'temple(L)', 'temple(R)', 'testicle(L)', 'testicle(R)', 'thigh(L)',\\n\"\n",
            " \"       'thigh(R)', 'thoracic spine', 'thyroid cartilage', 'tibia(L)',\\n\"\n",
            " \"       'tibia(R)', 'toe (1)(L)', 'toe (1)(R)', 'toe (2)(L)', 'toe (2)(R)',\\n\"\n",
            " \"       'toe (3)(L)', 'toe (3)(R)', 'tonsil(L)', 'tonsil(R)',\\n\"\n",
            " \"       'top of the head', 'trachea', 'triceps(L)', 'triceps(R)',\\n\"\n",
            " \"       'under the jaw', 'upper chest'], dtype=object), array([ 0,  1,  2,  \"\n",
            " '3,  4,  5,  6,  7,  8,  9, 10, 11, 12, 13, 14, 15, 16,\\n'\n",
            " '       17, 18, 19, 20, 21, 22, 23, 24, 25, 26, 27, 28, 29, 30, 31, 32, 33,\\n'\n",
            " '       34, 35, 36, 37, 38, 39, 40, 41, 42, 43, 44, 45, 46, 47, 48, 49, 50,\\n'\n",
            " '       51, 52, 53, 54, 55, 56, 57, 58, 59, 60, 61, 62, 63, 64, 65, 66, 67,\\n'\n",
            " \"       68, 69, 70, 71, 72, 73, 74, 75, 76, 77, 78, 79, 80, 81])], 'Does the \"\n",
            " \"pain radiate to another location?': [array(['0', 'back of head', \"\n",
            " \"'biceps(L)', 'biceps(R)', 'breast(L)',\\n\"\n",
            " \"       'breast(R)', 'chin', 'forehead', 'jaw', 'lower chest', 'nose',\\n\"\n",
            " \"       'nowhere', 'posterior chest wall(L)', 'posterior chest wall(R)',\\n\"\n",
            " \"       'scapula(L)', 'scapula(R)', 'shoulder(L)', 'shoulder(R)',\\n\"\n",
            " \"       'side of the chest(L)', 'temple(L)', 'temple(R)', 'thoracic spine',\\n\"\n",
            " \"       'thyroid cartilage', 'trachea', 'triceps(L)', 'triceps(R)',\\n\"\n",
            " \"       'under the jaw', 'upper chest'], dtype=object), array([ 0,  1,  2,  \"\n",
            " '3,  4,  5,  6,  7,  8,  9, 10, 11, 12, 13, 14, 15, 16,\\n'\n",
            " \"       17, 18, 19, 20, 21, 22, 23, 24, 25, 26, 27])], 'Have you traveled out \"\n",
            " \"of the country in the last 4 weeks?': [array(['Asia', 'Caraibes', 'Central \"\n",
            " \"America', 'Europe', 'N',\\n\"\n",
            " \"       'North Africa', 'North America', 'South Africa', 'South America',\\n\"\n",
            " \"       'South East Asia', 'West Africa'], dtype=object), array([ 0,  1,  2,  \"\n",
            " \"3,  4,  5,  6,  7,  8,  9, 10])], 'What color is the rash?': [array(['0', \"\n",
            " \"'pale', 'pink', 'red', 'yellow'], dtype=object), array([0, 1, 2, 3, 4])], \"\n",
            " \"'Do your lesions peel off?': [array(['0', 'N', 'Y'], dtype=object), \"\n",
            " \"array([0, 1, 2])], 'Where is the affected region located?': [array(['0', \"\n",
            " \"'ankle(L)', 'ankle(R)', 'back of the neck', 'belly',\\n\"\n",
            " \"       'bottom lip(R)', 'buttock(L)', 'buttock(R)', 'cervical spine',\\n\"\n",
            " \"       'cheek(L)', 'cheek(R)', 'commissure(L)', 'commissure(R)',\\n\"\n",
            " \"       'dorsal aspect of the hand(R)', 'epigastric', 'flank(L)',\\n\"\n",
            " \"       'flank(R)', 'forehead', 'iliac fossa(L)', 'iliac fossa(R)',\\n\"\n",
            " \"       'internal cheek(L)', 'internal cheek(R)', 'labia minora(L)',\\n\"\n",
            " \"       'labia minora(R)', 'lumbar spine', 'nose', 'palace', 'penis',\\n\"\n",
            " \"       'posterior chest wall(L)', 'posterior chest wall(R)', 'scrotum',\\n\"\n",
            " \"       'shoulder(L)', 'shoulder(R)', 'side of the neck(L)',\\n\"\n",
            " \"       'side of the neck(R)', 'testicle(L)', 'testicle(R)', 'thigh(L)',\\n\"\n",
            " \"       'thigh(R)', 'thoracic spine', 'thyroid cartilage',\\n\"\n",
            " \"       'under the tongue', 'upper lip(R)'], dtype=object), array([ 0,  1,  \"\n",
            " '2,  3,  4,  5,  6,  7,  8,  9, 10, 11, 12, 13, 14, 15, 16,\\n'\n",
            " '       17, 18, 19, 20, 21, 22, 23, 24, 25, 26, 27, 28, 29, 30, 31, 32, 33,\\n'\n",
            " \"       34, 35, 36, 37, 38, 39, 40, 41, 42])], 'Is the lesion (or are the \"\n",
            " \"lesions) larger than 1cm?': [array(['0', 'N', 'Y'], dtype=object), array([0, \"\n",
            " \"1, 2])], 'Where is the swelling located?': [array(['0', 'ankle(L)', \"\n",
            " \"'ankle(R)', 'calf(L)', 'calf(R)', 'cheek(L)',\\n\"\n",
            " \"       'cheek(R)', 'dorsal aspect of the foot(L)',\\n\"\n",
            " \"       'dorsal aspect of the foot(R)', 'forehead', 'nose', 'nowhere',\\n\"\n",
            " \"       'posterior aspect of the ankle(L)',\\n\"\n",
            " \"       'posterior aspect of the ankle(R)', 'sole(L)', 'sole(R)',\\n\"\n",
            " \"       'thigh(L)', 'thigh(R)', 'tibia(L)', 'tibia(R)', 'toe (1)(L)',\\n\"\n",
            " \"       'toe (1)(R)', 'toe (2)(R)'], dtype=object), array([ 0,  1,  2,  3,  \"\n",
            " '4,  5,  6,  7,  8,  9, 10, 11, 12, 13, 14, 15, 16,\\n'\n",
            " '       17, 18, 19, 20, 21, 22])]}')\n",
            "'Train dataset shape: (982224, 218)'\n",
            "'Test dataset shape: (128726, 218)'\n"
          ]
        }
      ]
    },
    {
      "cell_type": "markdown",
      "source": [
        "# Extract Top 10 Diseases and Top 20 Features"
      ],
      "metadata": {
        "id": "7AKoGx8Nd2OD"
      }
    },
    {
      "cell_type": "code",
      "source": [
        "# Top 10 diseases\n",
        "disease_labels_10 = list(train_df['PATHOLOGY'].value_counts().index[:10])\n",
        "print(disease_labels_10)"
      ],
      "metadata": {
        "colab": {
          "base_uri": "https://localhost:8080/"
        },
        "id": "BppAHiW3oshb",
        "outputId": "a51a3dac-1752-4c38-81fa-645c3b2f7671"
      },
      "execution_count": 12,
      "outputs": [
        {
          "output_type": "stream",
          "name": "stdout",
          "text": [
            "['URTI', 'Viral pharyngitis', 'Anemia', 'HIV (initial infection)', 'Localized edema', 'Anaphylaxis', 'Pulmonary embolism', 'Influenza', 'Bronchitis', 'Allergic sinusitis']\n"
          ]
        }
      ]
    },
    {
      "cell_type": "code",
      "source": [
        "# Get pathology distribution sorted\n",
        "pathology_distribution = train_encoded['PATHOLOGY'].value_counts()\n",
        "top_10_pathologies = pathology_distribution.index[:10]\n",
        "disease_label_codes = list(top_10_pathologies)"
      ],
      "metadata": {
        "id": "Scw50PT3d1UQ"
      },
      "execution_count": 20,
      "outputs": []
    },
    {
      "cell_type": "code",
      "source": [
        "disease_label_mappings = zip(disease_label_codes, disease_labels_10)\n",
        "disease_label_mappings = dict(disease_label_mappings)\n",
        "print(disease_label_mappings)"
      ],
      "metadata": {
        "colab": {
          "base_uri": "https://localhost:8080/"
        },
        "id": "LvSP55CC1_vW",
        "outputId": "dd0e939b-45bc-4c1a-ac58-62a395acd4d3"
      },
      "execution_count": 21,
      "outputs": [
        {
          "output_type": "stream",
          "name": "stdout",
          "text": [
            "{44: 'URTI', 46: 'Viral pharyngitis', 8: 'Anemia', 23: 'HIV (initial infection)', 27: 'Localized edema', 7: 'Anaphylaxis', 36: 'Pulmonary embolism', 13: 'Influenza', 6: 'Bronchitis', 1: 'Allergic sinusitis'}\n"
          ]
        }
      ]
    },
    {
      "cell_type": "code",
      "source": [
        "# Prepare training and test variables\n",
        "top_10_pathologies_train_df = train_encoded[train_encoded['PATHOLOGY'].isin(top_10_pathologies)]\n",
        "top_10_pathologies_test_df = test_encoded[test_encoded['PATHOLOGY'].isin(top_10_pathologies)]\n",
        "X_columns = [col for col in top_10_pathologies_train_df.columns if col not in ['Unnamed: 0', 'PATHOLOGY']]\n",
        "X_train = top_10_pathologies_train_df[X_columns]\n",
        "y_train = top_10_pathologies_train_df['PATHOLOGY']\n",
        "X_test = top_10_pathologies_test_df[X_columns]\n",
        "y_test = top_10_pathologies_test_df['PATHOLOGY']\n",
        "pprint(f'X_train shape: {X_train.shape}')\n",
        "pprint(f'y_train shape: {y_train.shape}')\n",
        "pprint(f'X_test shape: {X_test.shape}')\n",
        "pprint(f'y_test shape: {y_test.shape}')"
      ],
      "metadata": {
        "colab": {
          "base_uri": "https://localhost:8080/"
        },
        "id": "7ao2C5Vfei16",
        "outputId": "ac2b2d7f-19a8-42b3-df6a-a753684ffe81"
      },
      "execution_count": 14,
      "outputs": [
        {
          "output_type": "stream",
          "name": "stdout",
          "text": [
            "'X_train shape: (366303, 216)'\n",
            "'y_train shape: (366303,)'\n",
            "'X_test shape: (48222, 216)'\n",
            "'y_test shape: (48222,)'\n"
          ]
        }
      ]
    },
    {
      "cell_type": "code",
      "source": [
        "selected_20_features = ['Do you have swollen or painful lymph nodes?',\n",
        " 'Have you had sexual intercourse with an HIV-positive partner in the past 12 '\n",
        " 'months?',\n",
        " 'Are you taking any new oral anticoagulants ((NOACs)?',\n",
        " 'Have you had unprotected sex with more than one partner in the last 6 '\n",
        " 'months?',\n",
        " 'Is your nose or the back of your throat itchy?',\n",
        " 'Are you immunosuppressed?',\n",
        " 'Have you had surgery within the last month?',\n",
        " 'Do you have a chronic obstructive pulmonary disease (COPD)?',\n",
        " 'Do you regularly take stimulant drugs?',\n",
        " 'Are you exposed to secondhand cigarette smoke on a daily basis?',\n",
        " 'Do you have heart failure?',\n",
        " 'What color is the rash?',\n",
        " 'Have you ever had a diagnosis of anemia?',\n",
        " 'Where is the swelling located?',\n",
        " 'Have you ever had a sexually transmitted infection?',\n",
        " 'Where is the affected region located?',\n",
        " 'Do you have any lesions, redness or problems on your skin that you believe '\n",
        " 'are related to the condition you are consulting for?',\n",
        " 'Have you started or taken any antipsychotic medication within the last 7 '\n",
        " 'days?',\n",
        " 'Do you have pain somewhere, related to your reason for consulting?',\n",
        " 'Do you have severe itching in one or both eyes?']\n",
        "\n",
        "print(f'{len(selected_20_features)}')"
      ],
      "metadata": {
        "colab": {
          "base_uri": "https://localhost:8080/"
        },
        "id": "uwVcc5regvaX",
        "outputId": "d47a8a82-3213-4576-ba38-85ec6f36b0a8"
      },
      "execution_count": 15,
      "outputs": [
        {
          "output_type": "stream",
          "name": "stdout",
          "text": [
            "20\n"
          ]
        }
      ]
    },
    {
      "cell_type": "code",
      "source": [
        "# Get top features from the dataset\n",
        "X_train_selected = X_train[selected_20_features]\n",
        "X_test_selected = X_test[selected_20_features]\n",
        "pprint(f'X_train_selected shape: {X_train_selected.shape}')\n",
        "pprint(f'X_test_selected shape: {X_test_selected.shape}')"
      ],
      "metadata": {
        "colab": {
          "base_uri": "https://localhost:8080/"
        },
        "id": "gsdPzyACltwQ",
        "outputId": "e46e046b-e406-421a-bd57-8da4cd9a5065"
      },
      "execution_count": 16,
      "outputs": [
        {
          "output_type": "stream",
          "name": "stdout",
          "text": [
            "'X_train_selected shape: (366303, 20)'\n",
            "'X_test_selected shape: (48222, 20)'\n"
          ]
        }
      ]
    },
    {
      "cell_type": "code",
      "source": [
        "# XGBoost expects classess to start from 0, so create a new mapping to fit this.\n",
        "unique_classes = np.unique(y_train)\n",
        "class_mapping = {original: new for new, original in enumerate(unique_classes)}\n",
        "\n",
        "y_train_mapped = y_train.map(class_mapping)\n",
        "y_test_mapped = y_test.map(class_mapping)\n",
        "y_train_mapped.unique()"
      ],
      "metadata": {
        "colab": {
          "base_uri": "https://localhost:8080/"
        },
        "id": "ut9RzTzooL9z",
        "outputId": "e29cf5de-ff06-470a-eba7-122a1f283251"
      },
      "execution_count": 17,
      "outputs": [
        {
          "output_type": "execute_result",
          "data": {
            "text/plain": [
              "array([8, 5, 9, 3, 1, 2, 4, 6, 7, 0])"
            ]
          },
          "metadata": {},
          "execution_count": 17
        }
      ]
    },
    {
      "cell_type": "code",
      "source": [
        "class_mapping"
      ],
      "metadata": {
        "colab": {
          "base_uri": "https://localhost:8080/"
        },
        "id": "vzsia1NdogO5",
        "outputId": "d4429832-4d33-4437-dc8f-2de1e2d7f620"
      },
      "execution_count": 33,
      "outputs": [
        {
          "output_type": "execute_result",
          "data": {
            "text/plain": [
              "{1: 0, 6: 1, 7: 2, 8: 3, 13: 4, 23: 5, 27: 6, 36: 7, 44: 8, 46: 9}"
            ]
          },
          "metadata": {},
          "execution_count": 33
        }
      ]
    },
    {
      "cell_type": "code",
      "source": [
        "# Train model -- took 20s\n",
        "cls = XGBClassifier(class_weight='balanced', random_state=43)\n",
        "cls.fit(X_train_selected, y_train_mapped)\n",
        "\n",
        "# Save trained model\n",
        "!pip install joblib\n",
        "from joblib import dump, load\n",
        "dump(cls, 'xgboost_10.joblib')"
      ],
      "metadata": {
        "colab": {
          "base_uri": "https://localhost:8080/"
        },
        "id": "WscVvsZqogSh",
        "outputId": "c0e27d06-f5ae-435a-b411-1f9b9bd9f22a"
      },
      "execution_count": 22,
      "outputs": [
        {
          "output_type": "stream",
          "name": "stdout",
          "text": [
            "Requirement already satisfied: joblib in /usr/local/lib/python3.10/dist-packages (1.3.2)\n"
          ]
        },
        {
          "output_type": "execute_result",
          "data": {
            "text/plain": [
              "['xgboost_10.joblib']"
            ]
          },
          "metadata": {},
          "execution_count": 22
        }
      ]
    },
    {
      "cell_type": "code",
      "source": [
        "trained_model = load('xgboost_10.joblib')\n",
        "y_pred = trained_model.predict(X_test_selected)\n",
        "\n",
        "# Get classification report\n",
        "print(classification_report(y_test_mapped, y_pred, target_names=disease_labels_10))"
      ],
      "metadata": {
        "colab": {
          "base_uri": "https://localhost:8080/"
        },
        "id": "cVXBYiyn23ya",
        "outputId": "5c3a380d-d627-4c34-eaea-8215874159f6"
      },
      "execution_count": 23,
      "outputs": [
        {
          "output_type": "stream",
          "name": "stdout",
          "text": [
            "                         precision    recall  f1-score   support\n",
            "\n",
            "                   URTI       0.97      1.00      0.99      3302\n",
            "      Viral pharyngitis       1.00      0.96      0.98      2411\n",
            "                 Anemia       1.00      1.00      1.00      3798\n",
            "HIV (initial infection)       1.00      0.96      0.98      6770\n",
            "        Localized edema       1.00      0.79      0.89      3577\n",
            "            Anaphylaxis       1.00      1.00      1.00      3904\n",
            "     Pulmonary embolism       1.00      1.00      1.00      3734\n",
            "              Influenza       1.00      1.00      1.00      3679\n",
            "             Bronchitis       1.00      0.63      0.77      8713\n",
            "     Allergic sinusitis       0.66      1.00      0.80      8334\n",
            "\n",
            "               accuracy                           0.91     48222\n",
            "              macro avg       0.96      0.93      0.94     48222\n",
            "           weighted avg       0.94      0.91      0.91     48222\n",
            "\n"
          ]
        }
      ]
    },
    {
      "cell_type": "code",
      "source": [
        "# Get class probability predictions\n",
        "y_pred_proba = trained_model.predict_proba(X_test_selected)\n",
        "\n",
        "# Get the indices of the top 3 predictions for each row\n",
        "top3_indices = np.argsort(-y_pred_proba, axis=1)[:, :3]"
      ],
      "metadata": {
        "id": "nOBOkSxQ4cjR"
      },
      "execution_count": 40,
      "outputs": []
    }
  ]
}