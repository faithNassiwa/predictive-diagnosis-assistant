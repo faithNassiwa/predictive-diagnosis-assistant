{
  "nbformat": 4,
  "nbformat_minor": 0,
  "metadata": {
    "colab": {
      "provenance": [],
      "machine_shape": "hm",
      "authorship_tag": "ABX9TyOHzpRp0UL6hroU5B5q1jlP",
      "include_colab_link": true
    },
    "kernelspec": {
      "name": "python3",
      "display_name": "Python 3"
    },
    "language_info": {
      "name": "python"
    }
  },
  "cells": [
    {
      "cell_type": "markdown",
      "metadata": {
        "id": "view-in-github",
        "colab_type": "text"
      },
      "source": [
        "<a href=\"https://colab.research.google.com/github/faithNassiwa/predictive-diagnosis-assistant/blob/main/notebooks/TrainingXGBoostModel_49Diseases.ipynb\" target=\"_parent\"><img src=\"https://colab.research.google.com/assets/colab-badge.svg\" alt=\"Open In Colab\"/></a>"
      ]
    },
    {
      "cell_type": "code",
      "execution_count": 1,
      "metadata": {
        "id": "2vRzkK8vaQlK"
      },
      "outputs": [],
      "source": [
        "# Import required libraries\n",
        "import numpy as np\n",
        "import pandas as pd\n",
        "import matplotlib.pyplot as plt\n",
        "import seaborn as sns\n",
        "import warnings\n",
        "warnings.filterwarnings('ignore')\n",
        "from sklearn import preprocessing\n",
        "from sklearn.metrics import accuracy_score, classification_report, auc, roc_auc_score, roc_curve, confusion_matrix\n",
        "from pprint import pprint\n",
        "from xgboost import XGBClassifier, plot_importance, DMatrix\n",
        "from sklearn.utils import class_weight\n",
        "from sklearn.model_selection import GridSearchCV, KFold, ParameterGrid\n",
        "from sklearn.preprocessing import LabelBinarizer"
      ]
    },
    {
      "cell_type": "code",
      "source": [
        "# Mount google drive to access folder with data\n",
        "from google.colab import drive\n",
        "drive.mount('/content/drive')"
      ],
      "metadata": {
        "colab": {
          "base_uri": "https://localhost:8080/"
        },
        "id": "TEZn__eGa2YE",
        "outputId": "bcdc8a50-3725-45f9-ece9-7a9625e96094"
      },
      "execution_count": 2,
      "outputs": [
        {
          "output_type": "stream",
          "name": "stdout",
          "text": [
            "Mounted at /content/drive\n"
          ]
        }
      ]
    },
    {
      "cell_type": "markdown",
      "source": [
        "# Load Data & Preprocessing"
      ],
      "metadata": {
        "id": "BeyohF38cy1J"
      }
    },
    {
      "cell_type": "code",
      "source": [
        "# Read the training and test dataset -- Took a minute\n",
        "\n",
        "train_df = pd.read_csv('/content/drive/MyDrive/DS5500/Data/Dataset2/processed_train.csv', low_memory=False)\n",
        "test_df = pd.read_csv('/content/drive/MyDrive/DS5500/Data/Dataset2/processed_test.csv', low_memory=False)\n",
        "pprint(f'Train dataset shape: {train_df.shape}')\n",
        "pprint(f'Test dataset shape: {test_df.shape}')"
      ],
      "metadata": {
        "colab": {
          "base_uri": "https://localhost:8080/"
        },
        "id": "zY-h5awga2de",
        "outputId": "0da1538d-1196-4768-e5ba-a03c2536ee41"
      },
      "execution_count": 3,
      "outputs": [
        {
          "output_type": "stream",
          "name": "stdout",
          "text": [
            "'Train dataset shape: (1025602, 221)'\n",
            "'Test dataset shape: (134529, 221)'\n"
          ]
        }
      ]
    },
    {
      "cell_type": "code",
      "source": [
        "# Drop rows with NAN values\n",
        "\n",
        "train_df_nonan = train_df.dropna(subset=['Characterize your pain:', 'What color is the rash?'])\n",
        "test_df_nonan = test_df.dropna(subset=['Characterize your pain:', 'What color is the rash?'])"
      ],
      "metadata": {
        "id": "Moikta1Ic7NF"
      },
      "execution_count": 4,
      "outputs": []
    },
    {
      "cell_type": "code",
      "source": [
        "# Remove columns with only one value\n",
        "train_df_nonan.drop(columns=['Have you lost consciousness associated with violent and sustained muscle contractions or had an absence episode?',\n",
        "                             'Have you noticed a diffuse (widespread) redness in one or both eyes?',\n",
        "                             'Have you had any vaginal discharge?'], inplace=True)\n",
        "test_df_nonan.drop(columns=['Have you lost consciousness associated with violent and sustained muscle contractions or had an absence episode?',\n",
        "                             'Have you noticed a diffuse (widespread) redness in one or both eyes?',\n",
        "                             'Have you had any vaginal discharge?'], inplace=True)"
      ],
      "metadata": {
        "id": "SUipYS6Cc7QM"
      },
      "execution_count": 5,
      "outputs": []
    },
    {
      "cell_type": "code",
      "source": [
        "# View values of categorical columns\n",
        "unique_values = {col: train_df[col].unique() for col in train_df.columns if train_df[col].dtype == 'O'}"
      ],
      "metadata": {
        "id": "ELmB5dF-dQ5P"
      },
      "execution_count": 6,
      "outputs": []
    },
    {
      "cell_type": "code",
      "source": [
        "# Handling Categorical Variables  - Label Encoding to avoid creating new features that increase the already many featureset\n",
        "from sklearn.preprocessing import LabelEncoder\n",
        "\n",
        "categorical_columns = list(unique_values.keys())\n",
        "\n",
        "# Reset indices of both X_train and X_test\n",
        "train_df_reset = train_df_nonan.reset_index(drop=True)\n",
        "test_df_reset = test_df_nonan.reset_index(drop=True)\n",
        "\n",
        "# Combine the train and test data\n",
        "combined = pd.concat([train_df_reset, test_df_reset], axis=0)\n",
        "\n",
        "# Create a dictionary to store encodings\n",
        "label_encoders = {}\n",
        "\n",
        "\n",
        "# Label encode the combined dataframe for each categorical column\n",
        "for col in categorical_columns:\n",
        "  le = LabelEncoder()\n",
        "  combined[col] = le.fit_transform(combined[col])\n",
        "  label_encoders[col] = [le.classes_, le.transform(le.classes_)]\n",
        "\n",
        "combined_encoded = combined\n",
        "\n",
        "# Split the combined_encoded dataframe back into train and test\n",
        "train_encoded = combined_encoded.iloc[:len(train_df_nonan)]\n",
        "test_encoded = combined_encoded.iloc[len(train_df_nonan):]\n",
        "\n",
        "pprint(f'{label_encoders}')\n",
        "pprint(f'Train dataset shape: {train_encoded.shape}')\n",
        "pprint(f'Test dataset shape: {test_encoded.shape}')"
      ],
      "metadata": {
        "colab": {
          "base_uri": "https://localhost:8080/"
        },
        "id": "sAeE5Ipmc7TD",
        "outputId": "d1dbecd8-8bbe-4f70-b29b-6c5e1b8e2f0a"
      },
      "execution_count": 7,
      "outputs": [
        {
          "output_type": "stream",
          "name": "stdout",
          "text": [
            "(\"{'SEX': [array(['F', 'M'], dtype=object), array([0, 1])], 'PATHOLOGY': \"\n",
            " \"[array(['Acute COPD exacerbation / infection', 'Acute dystonic reactions',\\n\"\n",
            " \"       'Acute laryngitis', 'Acute otitis media', 'Acute pulmonary edema',\\n\"\n",
            " \"       'Acute rhinosinusitis', 'Allergic sinusitis', 'Anaphylaxis',\\n\"\n",
            " \"       'Anemia', 'Atrial fibrillation', 'Boerhaave', 'Bronchiectasis',\\n\"\n",
            " \"       'Bronchiolitis', 'Bronchitis',\\n\"\n",
            " \"       'Bronchospasm / acute asthma exacerbation', 'Chagas',\\n\"\n",
            " \"       'Chronic rhinosinusitis', 'Cluster headache', 'Croup', 'Ebola',\\n\"\n",
            " \"       'Epiglottitis', 'GERD', 'Guillain-Barré syndrome',\\n\"\n",
            " \"       'HIV (initial infection)', 'Influenza', 'Inguinal hernia',\\n\"\n",
            " \"       'Larygospasm', 'Localized edema', 'Myasthenia gravis',\\n\"\n",
            " \"       'Myocarditis', 'PSVT', 'Pancreatic neoplasm', 'Panic attack',\\n\"\n",
            " \"       'Pericarditis', 'Pneumonia', 'Possible NSTEMI / STEMI',\\n\"\n",
            " \"       'Pulmonary embolism', 'Pulmonary neoplasm', 'SLE',\\n\"\n",
            " \"       'Scombroid food poisoning', 'Spontaneous pneumothorax',\\n\"\n",
            " \"       'Spontaneous rib fracture', 'Stable angina', 'Tuberculosis',\\n\"\n",
            " \"       'URTI', 'Unstable angina', 'Viral pharyngitis', 'Whooping cough'],\\n\"\n",
            " '      dtype=object), array([ 0,  1,  2,  3,  4,  5,  6,  7,  8,  9, 10, 11, '\n",
            " '12, 13, 14, 15, 16,\\n'\n",
            " '       17, 18, 19, 20, 21, 22, 23, 24, 25, 26, 27, 28, 29, 30, 31, 32, 33,\\n'\n",
            " '       34, 35, 36, 37, 38, 39, 40, 41, 42, 43, 44, 45, 46, 47])], '\n",
            " \"'Characterize your pain:': [array(['0', 'a cramp', 'a knife stroke', 'a \"\n",
            " \"pulse', 'burning',\\n\"\n",
            " \"       'exhausting', 'haunting', 'heartbreaking', 'heavy', 'scary',\\n\"\n",
            " \"       'sensitive', 'sharp', 'sickening', 'tedious', 'tugging', 'violent'],\\n\"\n",
            " '      dtype=object), array([ 0,  1,  2,  3,  4,  5,  6,  7,  8,  9, 10, 11, '\n",
            " \"12, 13, 14, 15])], 'Do you feel pain somewhere?': [array(['0', 'ankle(L)', \"\n",
            " \"'ankle(R)', 'back of head', 'back of the neck',\\n\"\n",
            " \"       'belly', 'biceps(L)', 'biceps(R)', 'breast(L)', 'breast(R)',\\n\"\n",
            " \"       'calf(L)', 'calf(R)', 'cervical spine', 'cheek(L)', 'cheek(R)',\\n\"\n",
            " \"       'dorsal aspect of the foot(L)', 'dorsal aspect of the foot(R)',\\n\"\n",
            " \"       'dorsal aspect of the wrist(L)', 'dorsal aspect of the wrist(R)',\\n\"\n",
            " \"       'ear(L)', 'ear(R)', 'epigastric', 'eye(L)', 'eye(R)', 'flank(L)',\\n\"\n",
            " \"       'flank(R)', 'forehead', 'hip(L)', 'hip(R)', 'hypochondrium(L)',\\n\"\n",
            " \"       'hypochondrium(R)', 'iliac fossa(L)', 'iliac fossa(R)', 'knee(L)',\\n\"\n",
            " \"       'knee(R)', 'little toe (4)(L)', 'little toe (4)(R)', 'lower chest',\\n\"\n",
            " \"       'mouth', 'nose', 'occiput', 'palace',\\n\"\n",
            " \"       'palmar face of the wrist(L)', 'palmar face of the wrist(R)',\\n\"\n",
            " \"       'pharynx', 'posterior chest wall(L)', 'posterior chest wall(R)',\\n\"\n",
            " \"       'pubis', 'scapula(L)', 'scapula(R)', 'shoulder(L)', 'shoulder(R)',\\n\"\n",
            " \"       'side of the chest(L)', 'side of the chest(R)',\\n\"\n",
            " \"       'side of the neck(L)', 'side of the neck(R)', 'sole(L)', 'sole(R)',\\n\"\n",
            " \"       'temple(L)', 'temple(R)', 'testicle(L)', 'testicle(R)', 'thigh(L)',\\n\"\n",
            " \"       'thigh(R)', 'thoracic spine', 'thyroid cartilage', 'tibia(L)',\\n\"\n",
            " \"       'tibia(R)', 'toe (1)(L)', 'toe (1)(R)', 'toe (2)(L)', 'toe (2)(R)',\\n\"\n",
            " \"       'toe (3)(L)', 'toe (3)(R)', 'tonsil(L)', 'tonsil(R)',\\n\"\n",
            " \"       'top of the head', 'trachea', 'triceps(L)', 'triceps(R)',\\n\"\n",
            " \"       'under the jaw', 'upper chest'], dtype=object), array([ 0,  1,  2,  \"\n",
            " '3,  4,  5,  6,  7,  8,  9, 10, 11, 12, 13, 14, 15, 16,\\n'\n",
            " '       17, 18, 19, 20, 21, 22, 23, 24, 25, 26, 27, 28, 29, 30, 31, 32, 33,\\n'\n",
            " '       34, 35, 36, 37, 38, 39, 40, 41, 42, 43, 44, 45, 46, 47, 48, 49, 50,\\n'\n",
            " '       51, 52, 53, 54, 55, 56, 57, 58, 59, 60, 61, 62, 63, 64, 65, 66, 67,\\n'\n",
            " \"       68, 69, 70, 71, 72, 73, 74, 75, 76, 77, 78, 79, 80, 81])], 'Does the \"\n",
            " \"pain radiate to another location?': [array(['0', 'back of head', \"\n",
            " \"'biceps(L)', 'biceps(R)', 'breast(L)',\\n\"\n",
            " \"       'breast(R)', 'chin', 'forehead', 'jaw', 'lower chest', 'nose',\\n\"\n",
            " \"       'nowhere', 'posterior chest wall(L)', 'posterior chest wall(R)',\\n\"\n",
            " \"       'scapula(L)', 'scapula(R)', 'shoulder(L)', 'shoulder(R)',\\n\"\n",
            " \"       'side of the chest(L)', 'temple(L)', 'temple(R)', 'thoracic spine',\\n\"\n",
            " \"       'thyroid cartilage', 'trachea', 'triceps(L)', 'triceps(R)',\\n\"\n",
            " \"       'under the jaw', 'upper chest'], dtype=object), array([ 0,  1,  2,  \"\n",
            " '3,  4,  5,  6,  7,  8,  9, 10, 11, 12, 13, 14, 15, 16,\\n'\n",
            " \"       17, 18, 19, 20, 21, 22, 23, 24, 25, 26, 27])], 'Have you traveled out \"\n",
            " \"of the country in the last 4 weeks?': [array(['Asia', 'Caraibes', 'Central \"\n",
            " \"America', 'Europe', 'N',\\n\"\n",
            " \"       'North Africa', 'North America', 'South Africa', 'South America',\\n\"\n",
            " \"       'South East Asia', 'West Africa'], dtype=object), array([ 0,  1,  2,  \"\n",
            " \"3,  4,  5,  6,  7,  8,  9, 10])], 'What color is the rash?': [array(['0', \"\n",
            " \"'pale', 'pink', 'red', 'yellow'], dtype=object), array([0, 1, 2, 3, 4])], \"\n",
            " \"'Do your lesions peel off?': [array(['0', 'N', 'Y'], dtype=object), \"\n",
            " \"array([0, 1, 2])], 'Where is the affected region located?': [array(['0', \"\n",
            " \"'ankle(L)', 'ankle(R)', 'back of the neck', 'belly',\\n\"\n",
            " \"       'bottom lip(R)', 'buttock(L)', 'buttock(R)', 'cervical spine',\\n\"\n",
            " \"       'cheek(L)', 'cheek(R)', 'commissure(L)', 'commissure(R)',\\n\"\n",
            " \"       'dorsal aspect of the hand(R)', 'epigastric', 'flank(L)',\\n\"\n",
            " \"       'flank(R)', 'forehead', 'iliac fossa(L)', 'iliac fossa(R)',\\n\"\n",
            " \"       'internal cheek(L)', 'internal cheek(R)', 'labia minora(L)',\\n\"\n",
            " \"       'labia minora(R)', 'lumbar spine', 'nose', 'palace', 'penis',\\n\"\n",
            " \"       'posterior chest wall(L)', 'posterior chest wall(R)', 'scrotum',\\n\"\n",
            " \"       'shoulder(L)', 'shoulder(R)', 'side of the neck(L)',\\n\"\n",
            " \"       'side of the neck(R)', 'testicle(L)', 'testicle(R)', 'thigh(L)',\\n\"\n",
            " \"       'thigh(R)', 'thoracic spine', 'thyroid cartilage',\\n\"\n",
            " \"       'under the tongue', 'upper lip(R)'], dtype=object), array([ 0,  1,  \"\n",
            " '2,  3,  4,  5,  6,  7,  8,  9, 10, 11, 12, 13, 14, 15, 16,\\n'\n",
            " '       17, 18, 19, 20, 21, 22, 23, 24, 25, 26, 27, 28, 29, 30, 31, 32, 33,\\n'\n",
            " \"       34, 35, 36, 37, 38, 39, 40, 41, 42])], 'Is the lesion (or are the \"\n",
            " \"lesions) larger than 1cm?': [array(['0', 'N', 'Y'], dtype=object), array([0, \"\n",
            " \"1, 2])], 'Where is the swelling located?': [array(['0', 'ankle(L)', \"\n",
            " \"'ankle(R)', 'calf(L)', 'calf(R)', 'cheek(L)',\\n\"\n",
            " \"       'cheek(R)', 'dorsal aspect of the foot(L)',\\n\"\n",
            " \"       'dorsal aspect of the foot(R)', 'forehead', 'nose', 'nowhere',\\n\"\n",
            " \"       'posterior aspect of the ankle(L)',\\n\"\n",
            " \"       'posterior aspect of the ankle(R)', 'sole(L)', 'sole(R)',\\n\"\n",
            " \"       'thigh(L)', 'thigh(R)', 'tibia(L)', 'tibia(R)', 'toe (1)(L)',\\n\"\n",
            " \"       'toe (1)(R)', 'toe (2)(R)'], dtype=object), array([ 0,  1,  2,  3,  \"\n",
            " '4,  5,  6,  7,  8,  9, 10, 11, 12, 13, 14, 15, 16,\\n'\n",
            " '       17, 18, 19, 20, 21, 22])]}')\n",
            "'Train dataset shape: (982224, 218)'\n",
            "'Test dataset shape: (128726, 218)'\n"
          ]
        }
      ]
    },
    {
      "cell_type": "markdown",
      "source": [
        "# Extract 102 Most Importance Features"
      ],
      "metadata": {
        "id": "7AKoGx8Nd2OD"
      }
    },
    {
      "cell_type": "code",
      "source": [
        "# Prepare training and test variables\n",
        "X_columns = [col for col in train_encoded.columns if col not in ['Unnamed: 0', 'PATHOLOGY']]\n",
        "X_train = train_encoded[X_columns]\n",
        "y_train = train_encoded['PATHOLOGY']\n",
        "X_test = test_encoded[X_columns]\n",
        "y_test = test_encoded['PATHOLOGY']\n",
        "pprint(f'X_train shape: {X_train.shape}')\n",
        "pprint(f'y_train shape: {y_train.shape}')\n",
        "pprint(f'X_test shape: {X_test.shape}')\n",
        "pprint(f'y_test shape: {y_test.shape}')"
      ],
      "metadata": {
        "colab": {
          "base_uri": "https://localhost:8080/"
        },
        "id": "7ao2C5Vfei16",
        "outputId": "f09eb736-5cf9-4437-9167-230c2e3d5fcd"
      },
      "execution_count": 8,
      "outputs": [
        {
          "output_type": "stream",
          "name": "stdout",
          "text": [
            "'X_train shape: (982224, 216)'\n",
            "'y_train shape: (982224,)'\n",
            "'X_test shape: (128726, 216)'\n",
            "'y_test shape: (128726,)'\n"
          ]
        }
      ]
    },
    {
      "cell_type": "code",
      "source": [
        "selected_102_features = ['Have you had sexual intercourse with an HIV-positive partner in the past 12 '\n",
        " 'months?',\n",
        " 'Do you have an active cancer?',\n",
        " 'Are you more irritable or has your mood been very unstable recently?',\n",
        " 'Do you have painful mouth ulcers or sores?',\n",
        " 'Are you currently being treated or have you recently been treated with an '\n",
        " 'oral antibiotic for an ear infection?',\n",
        " 'Have you been unable to move or get up for more than 3 consecutive days '\n",
        " 'within the last 4 weeks?',\n",
        " 'Do you have a known kidney problem resulting in an inability to retain '\n",
        " 'proteins?',\n",
        " 'Have you been in contact with or ate something that you have an allergy to?',\n",
        " 'Have you had chills or shivers?',\n",
        " 'Do you have a known severe food allergy?',\n",
        " 'Are you consulting because you have high blood pressure?',\n",
        " 'Did your cheeks suddenly turn red?',\n",
        " 'Have you been unintentionally losing weight or have you lost your appetite?',\n",
        " 'Are you taking any new oral anticoagulants ((NOACs)?',\n",
        " 'Have you had unprotected sex with more than one partner in the last 6 '\n",
        " 'months?',\n",
        " 'Have you ever had surgery to remove lymph nodes?',\n",
        " 'Have you noticed weakness in your facial muscles and/or eyes?',\n",
        " 'Have you had 2 or more asthma attacks in the past year?',\n",
        " 'Have you started or taken any antipsychotic medication within the last 7 '\n",
        " 'days?',\n",
        " 'Do you have family members who have had lung cancer?',\n",
        " 'Do you currently take hormones?',\n",
        " 'Do you feel like you are dying or were you afraid that you were about do '\n",
        " 'die?',\n",
        " 'Do you feel your abdomen is bloated or distended (swollen due to pressure '\n",
        " 'from inside)?',\n",
        " 'Do you have a burning sensation that starts in your stomach then goes up '\n",
        " 'into your throat, and can be associated with a bitter taste in your mouth?',\n",
        " 'Have any of your family members been diagnosed with cluster headaches?',\n",
        " 'Do your lesions peel off?',\n",
        " 'Do you have numbness, loss of sensation or tingling in the feet?',\n",
        " 'Have you been treated in hospital recently for nausea, agitation, '\n",
        " 'intoxication or aggressive behavior and received medication via an '\n",
        " 'intravenous or intramuscular route?',\n",
        " 'Do you consume energy drinks regularly?',\n",
        " 'Have you been able to pass stools or gas since your symptoms increased?',\n",
        " 'Do you feel your heart is beating very irregularly or in a disorganized '\n",
        " 'pattern?',\n",
        " 'Do you have any close family members who suffer from allergies (any type), '\n",
        " 'hay fever or eczema?',\n",
        " 'Have you had weakness or paralysis on one side of the face, which may still '\n",
        " 'be present or completely resolved?',\n",
        " 'Have you recently taken decongestants or other substances that may have '\n",
        " 'stimulant effects?',\n",
        " 'Is your nose or the back of your throat itchy?',\n",
        " 'Do you have the perception of seeing two images of a single object seen '\n",
        " 'overlapping or adjacent to each other (double vision)?',\n",
        " 'Did you have your first menstrual period before the age of 12?',\n",
        " 'Do you regularly drink coffee or tea?',\n",
        " 'Were you born prematurely or did you suffer any complication at birth?',\n",
        " 'Have you been diagnosed with hyperthyroidism?',\n",
        " 'Do you have cystic fibrosis?',\n",
        " 'Have you vomited several times or have you made several efforts to vomit?',\n",
        " 'Have you had one or several flare ups of chronic obstructive pulmonary '\n",
        " 'disease (COPD) in the past year?',\n",
        " 'Do you have a problem with poor circulation?',\n",
        " 'Have you ever had a spontaneous pneumothorax?',\n",
        " 'Do you have severe itching in one or both eyes?',\n",
        " 'Do you find that your symptoms have worsened over the last 2 weeks and that '\n",
        " 'progressively less effort is required to cause the symptoms?',\n",
        " 'Have you ever had a diagnosis of anemia?',\n",
        " 'Do you suffer from chronic anxiety?',\n",
        " 'Do you work in agriculture?',\n",
        " 'Do you take medication that dilates your blood vessels?',\n",
        " 'Do you have a known heart defect?',\n",
        " 'Do you feel out of breath with minimal physical effort?',\n",
        " 'Have you been diagnosed with chronic sinusitis?',\n",
        " 'Do you have pain that improves when you lean forward?',\n",
        " 'Do you have Rheumatoid Arthritis?',\n",
        " 'Have you had diarrhea or an increase in stool frequency?',\n",
        " 'Have you or any member of your family ever had croup?',\n",
        " 'Have you noticed that you produce more saliva than usual?',\n",
        " 'Have you ever had fluid in your lungs?',\n",
        " 'Have you ever had a pericarditis?',\n",
        " 'Did you vomit after coughing?',\n",
        " 'Do you have pain that is increased with movement?',\n",
        " 'Do you have a sore throat?',\n",
        " 'Have you ever had a sexually transmitted infection?',\n",
        " 'Do you have symptoms that get worse after eating?',\n",
        " 'Do you have chronic kidney failure?',\n",
        " 'Are you infected with the human immunodeficiency virus (HIV)?',\n",
        " 'Do you have annoying muscle spasms in your face, neck or any other part of '\n",
        " 'your body?',\n",
        " 'Have you ever been diagnosed with obstructive sleep apnea (OSA)?',\n",
        " 'Do you work in the mining sector?',\n",
        " 'Have you been in contact with a person with similar symptoms in the past 2 '\n",
        " 'weeks?',\n",
        " 'Do you have liver cirrhosis?',\n",
        " 'Are your symptoms more prominent at night?',\n",
        " 'Are the symptoms or pain increased with coughing, with an effort like '\n",
        " 'lifting a weight or from forcing a bowel movement?',\n",
        " 'Do you have any lesions, redness or problems on your skin that you believe '\n",
        " 'are related to the condition you are consulting for?',\n",
        " 'Have you noticed that the tone of your voice has become deeper, softer or '\n",
        " 'hoarse?',\n",
        " 'Do you have difficulty articulating words/speaking?',\n",
        " 'In the last month, have you been in contact with anyone infected with the '\n",
        " 'Ebola virus?',\n",
        " 'Do you take a calcium channel blockers (medication)?',\n",
        " 'Is the lesion (or are the lesions) larger than 1cm?',\n",
        " 'Are you currently using intravenous drugs?',\n",
        " 'Are you immunosuppressed?',\n",
        " 'Have any of your family members ever had a pneumothorax?',\n",
        " 'Do you feel that your eyes produce excessive tears?',\n",
        " 'Does the person have a whooping cough?',\n",
        " 'Do you feel so tired that you are unable to do your usual activities or are '\n",
        " 'you stuck in your bed all day long?',\n",
        " 'What color is the rash?',\n",
        " 'Do you have pain or weakness in your jaw?',\n",
        " 'Have you ever been diagnosed with depression?',\n",
        " 'Where is the swelling located?',\n",
        " 'Have you been hospitalized for an asthma attack in the past year?',\n",
        " 'Do you have polyps in your nose?',\n",
        " 'Do you suffer from Crohn’s disease or ulcerative colitis (UC)?',\n",
        " 'Do you work in construction?',\n",
        " 'Do you have pain somewhere, related to your reason for consulting?',\n",
        " 'Do you have chest pain even at rest?',\n",
        " 'Do you currently undergo dialysis?',\n",
        " 'Do you have a poor diet?',\n",
        " 'Are your vaccinations up to date?',\n",
        " 'Are you exposed to secondhand cigarette smoke on a daily basis?',\n",
        " 'Do you have a decrease in appetite?']\n",
        "\n",
        "print(f'{len(selected_102_features)}')"
      ],
      "metadata": {
        "colab": {
          "base_uri": "https://localhost:8080/"
        },
        "id": "uwVcc5regvaX",
        "outputId": "78f792d2-07b6-41e0-bd6e-731c4f26b019"
      },
      "execution_count": 9,
      "outputs": [
        {
          "output_type": "stream",
          "name": "stdout",
          "text": [
            "102\n"
          ]
        }
      ]
    },
    {
      "cell_type": "code",
      "source": [
        "# Get top features from the dataset\n",
        "X_train_selected = X_train[selected_102_features]\n",
        "X_test_selected = X_test[selected_102_features]\n",
        "pprint(f'X_train_selected shape: {X_train_selected.shape}')\n",
        "pprint(f'X_test_selected shape: {X_test_selected.shape}')"
      ],
      "metadata": {
        "colab": {
          "base_uri": "https://localhost:8080/"
        },
        "id": "gsdPzyACltwQ",
        "outputId": "5f4db856-bb34-4b16-b967-9f96f79107c2"
      },
      "execution_count": 10,
      "outputs": [
        {
          "output_type": "stream",
          "name": "stdout",
          "text": [
            "'X_train_selected shape: (982224, 102)'\n",
            "'X_test_selected shape: (128726, 102)'\n"
          ]
        }
      ]
    },
    {
      "cell_type": "code",
      "source": [
        "# Train model -- took 5 minutes\n",
        "cls = XGBClassifier(class_weight='balanced', random_state=43)\n",
        "cls.fit(X_train_selected, y_train)\n",
        "\n",
        "# Save trained model\n",
        "!pip install joblib\n",
        "from joblib import dump, load\n",
        "dump(cls, 'xgboost_49.joblib')"
      ],
      "metadata": {
        "colab": {
          "base_uri": "https://localhost:8080/"
        },
        "id": "WscVvsZqogSh",
        "outputId": "f222d7c6-b615-4c12-fbe4-a05902635924"
      },
      "execution_count": 14,
      "outputs": [
        {
          "output_type": "stream",
          "name": "stdout",
          "text": [
            "Requirement already satisfied: joblib in /usr/local/lib/python3.10/dist-packages (1.3.2)\n"
          ]
        },
        {
          "output_type": "execute_result",
          "data": {
            "text/plain": [
              "['xgboost_49.joblib']"
            ]
          },
          "metadata": {},
          "execution_count": 14
        }
      ]
    },
    {
      "cell_type": "code",
      "source": [
        "# Disease Labels\n",
        "disease_labels = [\n",
        "    'Acute COPD exacerbation / infection', 'Acute dystonic reactions',\n",
        "    'Acute laryngitis', 'Acute otitis media', 'Acute pulmonary edema',\n",
        "    'Acute rhinosinusitis', 'Allergic sinusitis', 'Anaphylaxis',\n",
        "    'Anemia', 'Atrial fibrillation', 'Boerhaave', 'Bronchiectasis',\n",
        "    'Bronchiolitis', 'Bronchitis',\n",
        "    'Bronchospasm / acute asthma exacerbation', 'Chagas',\n",
        "    'Chronic rhinosinusitis', 'Cluster headache', 'Croup', 'Ebola',\n",
        "    'Epiglottitis', 'GERD', 'Guillain-Barré syndrome',\n",
        "    'HIV (initial infection)', 'Influenza', 'Inguinal hernia',\n",
        "    'Larygospasm', 'Localized edema', 'Myasthenia gravis',\n",
        "    'Myocarditis', 'PSVT', 'Pancreatic neoplasm', 'Panic attack',\n",
        "    'Pericarditis', 'Pneumonia', 'Possible NSTEMI / STEMI',\n",
        "    'Pulmonary embolism', 'Pulmonary neoplasm', 'SLE',\n",
        "    'Scombroid food poisoning', 'Spontaneous pneumothorax',\n",
        "    'Spontaneous rib fracture', 'Stable angina', 'Tuberculosis',\n",
        "    'URTI', 'Unstable angina', 'Viral pharyngitis', 'Whooping cough'\n",
        "]"
      ],
      "metadata": {
        "id": "TMbCsW2cSSPx"
      },
      "execution_count": 32,
      "outputs": []
    },
    {
      "cell_type": "code",
      "source": [
        "y_test_disease_labels = y_test.unique()\n",
        "pprint(y_test_disease_labels)\n",
        "print(len(y_test_disease_labels))"
      ],
      "metadata": {
        "colab": {
          "base_uri": "https://localhost:8080/"
        },
        "id": "Wjwk-xduVpIX",
        "outputId": "ff8cae3f-48d6-4613-89b3-58a26c000dcc"
      },
      "execution_count": 28,
      "outputs": [
        {
          "output_type": "stream",
          "name": "stdout",
          "text": [
            "array([21, 13,  1,  2, 44, 25, 40,  8, 26, 16, 32, 36, 24,  3, 41,  9, 34,\n",
            "       46, 27, 20, 23, 33, 31,  5, 17, 42,  6, 30, 35, 11,  0, 29, 43,  4,\n",
            "       39, 14, 28, 38, 37,  7, 10, 22, 18, 45, 15, 19, 47, 12])\n",
            "48\n"
          ]
        }
      ]
    },
    {
      "cell_type": "code",
      "source": [
        "trained_model = load('xgboost_49.joblib')\n",
        "y_pred = trained_model.predict(X_test_selected)\n",
        "\n",
        "# Get classification report\n",
        "print(classification_report(y_test, y_pred, target_names=disease_labels))"
      ],
      "metadata": {
        "colab": {
          "base_uri": "https://localhost:8080/"
        },
        "id": "cVXBYiyn23ya",
        "outputId": "251e84bf-b3f4-4c59-afc9-e530f8676f2d"
      },
      "execution_count": 33,
      "outputs": [
        {
          "output_type": "stream",
          "name": "stdout",
          "text": [
            "                                          precision    recall  f1-score   support\n",
            "\n",
            "     Acute COPD exacerbation / infection       1.00      0.98      0.99      2153\n",
            "                Acute dystonic reactions       1.00      0.97      0.98      3302\n",
            "                        Acute laryngitis       0.97      0.86      0.91      3214\n",
            "                      Acute otitis media       0.88      0.90      0.89      3509\n",
            "                   Acute pulmonary edema       1.00      1.00      1.00      2598\n",
            "                    Acute rhinosinusitis       1.00      0.45      0.63      1829\n",
            "                      Allergic sinusitis       1.00      0.99      1.00      2411\n",
            "                             Anaphylaxis       1.00      1.00      1.00      3798\n",
            "                                  Anemia       1.00      1.00      1.00      6770\n",
            "                     Atrial fibrillation       1.00      0.97      0.99      2831\n",
            "                               Boerhaave       1.00      0.81      0.89      2083\n",
            "                          Bronchiectasis       1.00      1.00      1.00      2454\n",
            "                           Bronchiolitis       1.00      0.61      0.76        36\n",
            "                              Bronchitis       1.00      0.66      0.80      3577\n",
            "Bronchospasm / acute asthma exacerbation       1.00      0.99      0.99      2222\n",
            "                                  Chagas       0.96      1.00      0.98      1077\n",
            "                  Chronic rhinosinusitis       0.75      0.90      0.82      2747\n",
            "                        Cluster headache       1.00      0.98      0.99      2825\n",
            "                                   Croup       1.00      0.99      1.00       344\n",
            "                                   Ebola       1.00      1.00      1.00       100\n",
            "                            Epiglottitis       1.00      0.94      0.97      2364\n",
            "                                    GERD       1.00      0.95      0.98      3514\n",
            "                 Guillain-Barré syndrome       1.00      0.94      0.97      2601\n",
            "                 HIV (initial infection)       1.00      1.00      1.00      3904\n",
            "                               Influenza       1.00      1.00      1.00      3097\n",
            "                         Inguinal hernia       1.00      1.00      1.00      2488\n",
            "                             Larygospasm       0.49      1.00      0.66       785\n",
            "                         Localized edema       1.00      1.00      1.00      3734\n",
            "                       Myasthenia gravis       1.00      0.99      0.99      2215\n",
            "                             Myocarditis       1.00      0.61      0.75      1468\n",
            "                                    PSVT       1.00      0.93      0.97      1635\n",
            "                     Pancreatic neoplasm       1.00      1.00      1.00      1779\n",
            "                            Panic attack       1.00      0.99      0.99      3387\n",
            "                            Pericarditis       1.00      0.84      0.91      3095\n",
            "                               Pneumonia       1.00      1.00      1.00      3454\n",
            "                 Possible NSTEMI / STEMI       1.00      0.92      0.96      2911\n",
            "                      Pulmonary embolism       1.00      0.99      0.99      3679\n",
            "                      Pulmonary neoplasm       0.79      0.93      0.85      1673\n",
            "                                     SLE       1.00      1.00      1.00      1514\n",
            "                Scombroid food poisoning       1.00      1.00      1.00      2486\n",
            "                Spontaneous pneumothorax       1.00      0.95      0.97      1343\n",
            "                Spontaneous rib fracture       1.00      1.00      1.00       778\n",
            "                           Stable angina       0.32      1.00      0.48      2386\n",
            "                            Tuberculosis       1.00      0.84      0.91      2080\n",
            "                                    URTI       0.95      0.87      0.91      8713\n",
            "                         Unstable angina       0.98      0.91      0.94      2880\n",
            "                       Viral pharyngitis       0.94      0.92      0.93      8334\n",
            "                          Whooping cough       0.98      0.99      0.99       549\n",
            "\n",
            "                                accuracy                           0.93    128726\n",
            "                               macro avg       0.96      0.93      0.93    128726\n",
            "                            weighted avg       0.96      0.93      0.94    128726\n",
            "\n"
          ]
        }
      ]
    },
    {
      "cell_type": "code",
      "source": [
        "# Get class probability predictions\n",
        "y_pred_proba = trained_model.predict_proba(X_test_selected)\n",
        "\n",
        "# Get the indices of the top 3 predictions for each row\n",
        "top3_indices = np.argsort(-y_pred_proba, axis=1)[:, :3]"
      ],
      "metadata": {
        "id": "nOBOkSxQ4cjR"
      },
      "execution_count": 34,
      "outputs": []
    }
  ]
}