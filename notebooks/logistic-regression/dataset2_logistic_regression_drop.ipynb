{
  "cells": [
    {
      "cell_type": "code",
      "execution_count": 1,
      "metadata": {
        "colab": {
          "base_uri": "https://localhost:8080/"
        },
        "id": "GqejAiHM-C1M",
        "outputId": "da35c2e2-d982-47e5-d6fc-480a1c1c60e4"
      },
      "outputs": [
        {
          "output_type": "stream",
          "name": "stdout",
          "text": [
            "Mounted at /content/drive\n"
          ]
        }
      ],
      "source": [
        "import pandas as pd\n",
        "import numpy as np\n",
        "import seaborn as sns\n",
        "import matplotlib.pyplot as plt\n",
        "from google.colab import drive\n",
        "drive.mount('/content/drive')\n",
        "from sklearn.preprocessing import LabelEncoder\n",
        "from sklearn import preprocessing\n",
        "from pprint import pprint\n",
        "from sklearn.linear_model import LogisticRegression\n",
        "from sklearn.metrics import accuracy_score\n",
        "from sklearn.metrics import classification_report,confusion_matrix"
      ]
    },
    {
      "cell_type": "code",
      "execution_count": 4,
      "metadata": {
        "colab": {
          "base_uri": "https://localhost:8080/"
        },
        "id": "_HQ4XJgu-p_s",
        "outputId": "52ba8ad6-ed28-40a2-e6c5-d877a78372d7"
      },
      "outputs": [
        {
          "output_type": "stream",
          "name": "stdout",
          "text": [
            "'Train dataset shape: (1025602, 221)'\n",
            "'Test dataset shape: (134529, 221)'\n"
          ]
        }
      ],
      "source": [
        "train_df = pd.read_csv('/content/drive/MyDrive/DS5500 PROJECT/processed_train.csv', low_memory=False)\n",
        "test_df = pd.read_csv('/content/drive/MyDrive/DS5500 PROJECT/processed_test.csv', low_memory=False)\n",
        "pprint(f'Train dataset shape: {train_df.shape}')\n",
        "pprint(f'Test dataset shape: {test_df.shape}')"
      ]
    },
    {
      "cell_type": "code",
      "source": [
        "columns_remove = [\"Have you noticed a diffuse (widespread) redness in one or both eyes?\",\n",
        "         \"Have you lost consciousness associated with violent and sustained muscle contractions or had an absence episode?\",\n",
        "         \"Have you had any vaginal discharge?\"]\n",
        ""
      ],
      "metadata": {
        "id": "FGeI25QkraTM"
      },
      "execution_count": 5,
      "outputs": []
    },
    {
      "cell_type": "code",
      "execution_count": 6,
      "metadata": {
        "id": "fZA2JFQ1_p6C"
      },
      "outputs": [],
      "source": [
        "train_df = train_df.drop(columns=columns_remove)\n",
        "test_df = test_df.drop(columns=columns_remove)"
      ]
    },
    {
      "cell_type": "code",
      "source": [
        "train_df = train_df.dropna()\n",
        "test_df = test_df.dropna()\n",
        "pprint(f'Train dataset shape: {train_df.shape}')\n",
        "pprint(f'Test dataset shape: {test_df.shape}')"
      ],
      "metadata": {
        "colab": {
          "base_uri": "https://localhost:8080/"
        },
        "id": "JDy34giPs1-n",
        "outputId": "cc9bc458-bd84-4004-a6ce-7003f3d25bf1"
      },
      "execution_count": 7,
      "outputs": [
        {
          "output_type": "stream",
          "name": "stdout",
          "text": [
            "'Train dataset shape: (982224, 218)'\n",
            "'Test dataset shape: (128726, 218)'\n"
          ]
        }
      ]
    },
    {
      "cell_type": "code",
      "source": [
        "# Prepare training and test variables\n",
        "X_columns = [col for col in train_df.columns if col not in ['Unnamed: 0', 'PATHOLOGY']]\n",
        "X_train = train_df[X_columns]\n",
        "y_train = train_df['PATHOLOGY']\n",
        "X_test = test_df[X_columns]\n",
        "y_test = test_df['PATHOLOGY']\n",
        "pprint(f'X_train shape: {X_train.shape}')\n",
        "pprint(f'y_train shape: {y_train.shape}')\n",
        "pprint(f'X_test shape: {X_test.shape}')\n",
        "pprint(f'y_test shape: {y_test.shape}')"
      ],
      "metadata": {
        "colab": {
          "base_uri": "https://localhost:8080/"
        },
        "id": "igE2yugftfRl",
        "outputId": "bc92e0be-3267-43fd-efcc-697fe724ca56"
      },
      "execution_count": 8,
      "outputs": [
        {
          "output_type": "stream",
          "name": "stdout",
          "text": [
            "'X_train shape: (982224, 216)'\n",
            "'y_train shape: (982224,)'\n",
            "'X_test shape: (128726, 216)'\n",
            "'y_test shape: (128726,)'\n"
          ]
        }
      ]
    },
    {
      "cell_type": "code",
      "source": [
        "from sklearn.preprocessing import LabelEncoder"
      ],
      "metadata": {
        "id": "TUaIqpY0tlt7"
      },
      "execution_count": 9,
      "outputs": []
    },
    {
      "cell_type": "code",
      "source": [
        "categorical = X_train.select_dtypes(\"object\").columns"
      ],
      "metadata": {
        "id": "grn4QmtztsIE"
      },
      "execution_count": 10,
      "outputs": []
    },
    {
      "cell_type": "code",
      "source": [
        "categorical"
      ],
      "metadata": {
        "colab": {
          "base_uri": "https://localhost:8080/"
        },
        "id": "o7Wt9jfGt2yB",
        "outputId": "a31353f7-b5eb-46e0-f832-02166773f930"
      },
      "execution_count": 11,
      "outputs": [
        {
          "output_type": "execute_result",
          "data": {
            "text/plain": [
              "Index(['SEX', 'Characterize your pain:', 'Do you feel pain somewhere?',\n",
              "       'Does the pain radiate to another location?',\n",
              "       'Have you traveled out of the country in the last 4 weeks?',\n",
              "       'What color is the rash?', 'Do your lesions peel off?',\n",
              "       'Where is the affected region located?',\n",
              "       'Is the lesion (or are the lesions) larger than 1cm?',\n",
              "       'Where is the swelling located?'],\n",
              "      dtype='object')"
            ]
          },
          "metadata": {},
          "execution_count": 11
        }
      ]
    },
    {
      "cell_type": "code",
      "source": [
        "categorical = [col for col in X_train.columns if X_train[col].dtype == 'O']"
      ],
      "metadata": {
        "id": "UY4XvGLSt8LM"
      },
      "execution_count": 12,
      "outputs": []
    },
    {
      "cell_type": "code",
      "source": [
        "len(categorical)"
      ],
      "metadata": {
        "colab": {
          "base_uri": "https://localhost:8080/"
        },
        "id": "FJ_bYffquC5Z",
        "outputId": "e7b2fecc-fd47-4f32-8ad7-78babc849663"
      },
      "execution_count": 13,
      "outputs": [
        {
          "output_type": "execute_result",
          "data": {
            "text/plain": [
              "10"
            ]
          },
          "metadata": {},
          "execution_count": 13
        }
      ]
    },
    {
      "cell_type": "code",
      "source": [
        "label_encoder = LabelEncoder()"
      ],
      "metadata": {
        "id": "oLIRc0QluLhW"
      },
      "execution_count": 14,
      "outputs": []
    },
    {
      "cell_type": "code",
      "source": [
        "import warnings\n",
        "warnings.filterwarnings('ignore')"
      ],
      "metadata": {
        "id": "Ajp1OFgSuY29"
      },
      "execution_count": 15,
      "outputs": []
    },
    {
      "cell_type": "code",
      "source": [
        "for column in categorical:\n",
        "    X_train[column] = label_encoder.fit_transform(X_train[column])"
      ],
      "metadata": {
        "id": "-3bg1RLmud7l"
      },
      "execution_count": 16,
      "outputs": []
    },
    {
      "cell_type": "code",
      "source": [
        "for column in categorical:\n",
        "    X_test[column] = label_encoder.fit_transform(X_test[column])"
      ],
      "metadata": {
        "id": "7sMjit0XuvJg"
      },
      "execution_count": 17,
      "outputs": []
    },
    {
      "cell_type": "code",
      "execution_count": 18,
      "metadata": {
        "colab": {
          "base_uri": "https://localhost:8080/"
        },
        "id": "q6Q1uqujBwRV",
        "outputId": "c918fe47-fbdb-4324-e2aa-da2b063cfe1e"
      },
      "outputs": [
        {
          "output_type": "execute_result",
          "data": {
            "text/plain": [
              "216"
            ]
          },
          "metadata": {},
          "execution_count": 18
        }
      ],
      "source": [
        "len(X_columns)"
      ]
    },
    {
      "cell_type": "markdown",
      "source": [
        "### Logistic regression model"
      ],
      "metadata": {
        "id": "tbwfqNQovIpN"
      }
    },
    {
      "cell_type": "code",
      "source": [
        "logistic_regression = LogisticRegression()\n",
        "\n",
        "#fit model on training data\n",
        "\n",
        "logistic_regression.fit(X_train,y_train )\n",
        "\n",
        "#predictions on testing data\n",
        "\n",
        "y_pred = logistic_regression.predict(X_test)\n",
        "\n",
        "#evaluate model\n",
        "\n",
        "accuracy = accuracy_score(y_test, y_pred)\n",
        "print(f'The accuracy score is {accuracy * 100}%')"
      ],
      "metadata": {
        "colab": {
          "base_uri": "https://localhost:8080/"
        },
        "id": "KR_949KdwmSO",
        "outputId": "5528ff01-ce9c-4c8e-dcf6-3ae3bdf401c9"
      },
      "execution_count": 19,
      "outputs": [
        {
          "output_type": "stream",
          "name": "stdout",
          "text": [
            "The accuracy score is 94.82388950173237%\n"
          ]
        }
      ]
    },
    {
      "cell_type": "code",
      "source": [
        "from sklearn.preprocessing import LabelBinarizer"
      ],
      "metadata": {
        "id": "F2mwdZ-wJ_Cj"
      },
      "execution_count": 20,
      "outputs": []
    },
    {
      "cell_type": "code",
      "source": [
        "lb = LabelBinarizer()"
      ],
      "metadata": {
        "id": "FPi_CRRyKDC8"
      },
      "execution_count": 21,
      "outputs": []
    },
    {
      "cell_type": "code",
      "source": [
        "y_pred_encoded = lb.fit_transform(y_pred)\n",
        "y_test_encoded = lb.fit_transform(y_test)"
      ],
      "metadata": {
        "id": "j3ty_eK4KHAI"
      },
      "execution_count": 22,
      "outputs": []
    },
    {
      "cell_type": "code",
      "source": [
        "y_test_encoded"
      ],
      "metadata": {
        "colab": {
          "base_uri": "https://localhost:8080/"
        },
        "id": "Nm3tvRQqKK_3",
        "outputId": "8e4f79d8-e90f-448e-9bcd-8c1240cef7f3"
      },
      "execution_count": 23,
      "outputs": [
        {
          "output_type": "execute_result",
          "data": {
            "text/plain": [
              "array([[0, 0, 0, ..., 0, 0, 0],\n",
              "       [0, 0, 0, ..., 0, 0, 0],\n",
              "       [0, 1, 0, ..., 0, 0, 0],\n",
              "       ...,\n",
              "       [0, 0, 0, ..., 0, 0, 0],\n",
              "       [0, 0, 0, ..., 0, 0, 0],\n",
              "       [0, 0, 0, ..., 0, 0, 0]])"
            ]
          },
          "metadata": {},
          "execution_count": 23
        }
      ]
    },
    {
      "cell_type": "code",
      "source": [
        "import sklearn.metrics as metrics"
      ],
      "metadata": {
        "id": "0TMw--KlKWYt"
      },
      "execution_count": 25,
      "outputs": []
    },
    {
      "cell_type": "code",
      "source": [
        "#calculate AUC of model\n",
        "auc = metrics.roc_auc_score(y_test_encoded, y_pred_encoded)\n",
        "\n",
        "#print AUC score\n",
        "print(auc)\n"
      ],
      "metadata": {
        "colab": {
          "base_uri": "https://localhost:8080/"
        },
        "id": "8RG4RR7GKP1v",
        "outputId": "47df504b-478b-43eb-825e-d66aeec04a87"
      },
      "execution_count": 26,
      "outputs": [
        {
          "output_type": "stream",
          "name": "stdout",
          "text": [
            "0.6175314292504236\n"
          ]
        }
      ]
    },
    {
      "cell_type": "code",
      "source": [
        "print(\"Classification Report\")\n",
        "print(classification_report(y_test, y_pred))\n",
        "print(confusion_matrix(y_test, y_pred))"
      ],
      "metadata": {
        "colab": {
          "base_uri": "https://localhost:8080/"
        },
        "id": "E5X3SiN7KZHu",
        "outputId": "c05706a1-2d5f-49b5-c0b0-57948309978e"
      },
      "execution_count": 27,
      "outputs": [
        {
          "output_type": "stream",
          "name": "stdout",
          "text": [
            "Classification Report\n",
            "                                          precision    recall  f1-score   support\n",
            "\n",
            "     Acute COPD exacerbation / infection       1.00      1.00      1.00      2153\n",
            "                Acute dystonic reactions       1.00      1.00      1.00      3302\n",
            "                        Acute laryngitis       0.97      0.70      0.81      3214\n",
            "                      Acute otitis media       0.95      0.99      0.97      3509\n",
            "                   Acute pulmonary edema       0.92      0.97      0.95      2598\n",
            "                    Acute rhinosinusitis       0.99      0.39      0.56      1829\n",
            "                      Allergic sinusitis       1.00      1.00      1.00      2411\n",
            "                             Anaphylaxis       1.00      0.98      0.99      3798\n",
            "                                  Anemia       1.00      0.99      0.99      6770\n",
            "                     Atrial fibrillation       1.00      1.00      1.00      2831\n",
            "                               Boerhaave       0.98      0.94      0.96      2083\n",
            "                          Bronchiectasis       1.00      1.00      1.00      2454\n",
            "                           Bronchiolitis       0.00      0.00      0.00        36\n",
            "                              Bronchitis       0.92      0.98      0.95      3577\n",
            "Bronchospasm / acute asthma exacerbation       1.00      1.00      1.00      2222\n",
            "                                  Chagas       0.93      0.83      0.88      1077\n",
            "                  Chronic rhinosinusitis       0.71      0.95      0.81      2747\n",
            "                        Cluster headache       0.92      0.95      0.94      2825\n",
            "                                   Croup       0.73      0.27      0.40       344\n",
            "                                   Ebola       0.00      0.00      0.00       100\n",
            "                            Epiglottitis       0.94      0.97      0.95      2364\n",
            "                                    GERD       0.96      0.94      0.95      3514\n",
            "                 Guillain-Barré syndrome       0.99      1.00      0.99      2601\n",
            "                 HIV (initial infection)       1.00      0.99      0.99      3904\n",
            "                               Influenza       0.99      0.97      0.98      3097\n",
            "                         Inguinal hernia       1.00      1.00      1.00      2488\n",
            "                             Larygospasm       0.86      0.99      0.92       785\n",
            "                         Localized edema       0.97      0.98      0.98      3734\n",
            "                       Myasthenia gravis       1.00      1.00      1.00      2215\n",
            "                             Myocarditis       0.70      0.58      0.63      1468\n",
            "                                    PSVT       0.94      0.90      0.92      1635\n",
            "                     Pancreatic neoplasm       0.93      0.99      0.96      1779\n",
            "                            Panic attack       0.96      0.99      0.98      3387\n",
            "                            Pericarditis       0.79      0.97      0.87      3095\n",
            "                               Pneumonia       1.00      0.99      1.00      3454\n",
            "                 Possible NSTEMI / STEMI       0.99      0.99      0.99      2911\n",
            "                      Pulmonary embolism       0.99      0.99      0.99      3679\n",
            "                      Pulmonary neoplasm       0.83      0.80      0.81      1673\n",
            "                                     SLE       0.98      0.99      0.99      1514\n",
            "                Scombroid food poisoning       1.00      1.00      1.00      2486\n",
            "                Spontaneous pneumothorax       0.75      0.61      0.67      1343\n",
            "                Spontaneous rib fracture       0.59      0.75      0.66       778\n",
            "                           Stable angina       0.89      0.99      0.94      2386\n",
            "                            Tuberculosis       0.97      1.00      0.99      2080\n",
            "                                    URTI       0.96      0.99      0.97      8713\n",
            "                         Unstable angina       1.00      0.91      0.95      2880\n",
            "                       Viral pharyngitis       0.94      0.96      0.95      8334\n",
            "                          Whooping cough       1.00      0.98      0.99       549\n",
            "\n",
            "                                accuracy                           0.95    128726\n",
            "                               macro avg       0.89      0.88      0.88    128726\n",
            "                            weighted avg       0.95      0.95      0.95    128726\n",
            "\n",
            "[[2151    0    0 ...    0    0    0]\n",
            " [   0 3301    0 ...    0    0    0]\n",
            " [   0    0 2242 ...    0  420    0]\n",
            " ...\n",
            " [   0    0    0 ... 2614    0    0]\n",
            " [   0    0   25 ...    0 8004    0]\n",
            " [   0    0    0 ...    0    0  538]]\n"
          ]
        }
      ]
    },
    {
      "cell_type": "code",
      "source": [
        "from sklearn.model_selection import cross_val_score"
      ],
      "metadata": {
        "id": "OCK8kiISSKvI"
      },
      "execution_count": 31,
      "outputs": []
    },
    {
      "cell_type": "code",
      "source": [
        "X = X_train\n",
        "y = y_train"
      ],
      "metadata": {
        "id": "ynCh8_i5UHOD"
      },
      "execution_count": 29,
      "outputs": []
    },
    {
      "cell_type": "code",
      "source": [
        "# Took 17n minutes\n",
        "k = 5\n",
        "scores = cross_val_score(logistic_regression, X, y, cv=k, scoring='accuracy')"
      ],
      "metadata": {
        "id": "pZ7_p9-WSOcT"
      },
      "execution_count": 32,
      "outputs": []
    },
    {
      "cell_type": "code",
      "source": [
        "print(f\"Mean Accuracy: {np.mean(scores)}\")"
      ],
      "metadata": {
        "colab": {
          "base_uri": "https://localhost:8080/"
        },
        "id": "dRdVw99ZYxsZ",
        "outputId": "165a97e5-dc94-4301-aafc-56ab67f0ccda"
      },
      "execution_count": 34,
      "outputs": [
        {
          "output_type": "stream",
          "name": "stdout",
          "text": [
            "Mean Accuracy: 0.9501977148093573\n"
          ]
        }
      ]
    }
  ],
  "metadata": {
    "colab": {
      "provenance": [],
      "machine_shape": "hm"
    },
    "kernelspec": {
      "display_name": "Python 3",
      "name": "python3"
    },
    "language_info": {
      "name": "python"
    }
  },
  "nbformat": 4,
  "nbformat_minor": 0
}