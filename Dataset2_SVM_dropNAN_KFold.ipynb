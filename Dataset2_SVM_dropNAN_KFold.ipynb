{
  "cells": [
    {
      "cell_type": "markdown",
      "metadata": {
        "id": "view-in-github",
        "colab_type": "text"
      },
      "source": [
        "<a href=\"https://colab.research.google.com/github/faithNassiwa/predictive-diagnosis-assistant/blob/main/Dataset2_SVM_dropNAN_KFold.ipynb\" target=\"_parent\"><img src=\"https://colab.research.google.com/assets/colab-badge.svg\" alt=\"Open In Colab\"/></a>"
      ]
    },
    {
      "cell_type": "code",
      "execution_count": null,
      "metadata": {
        "id": "XPgKaLJJaGk7"
      },
      "outputs": [],
      "source": [
        "# Import required libraries\n",
        "import numpy as np\n",
        "import pandas as pd\n",
        "import matplotlib.pyplot as plt\n",
        "from sklearn import preprocessing\n",
        "from sklearn.svm import SVC\n",
        "from sklearn.metrics import accuracy_score, classification_report, confusion_matrix\n",
        "\n",
        "from pprint import pprint"
      ]
    },
    {
      "cell_type": "code",
      "execution_count": null,
      "metadata": {
        "colab": {
          "base_uri": "https://localhost:8080/"
        },
        "id": "QGqEbHBIwywE",
        "outputId": "33a40be9-e28e-4ddf-b809-70f588766045"
      },
      "outputs": [
        {
          "name": "stdout",
          "output_type": "stream",
          "text": [
            "Drive already mounted at /content/drive; to attempt to forcibly remount, call drive.mount(\"/content/drive\", force_remount=True).\n"
          ]
        }
      ],
      "source": [
        "from google.colab import drive\n",
        "drive.mount('/content/drive')"
      ]
    },
    {
      "cell_type": "code",
      "execution_count": null,
      "metadata": {
        "colab": {
          "base_uri": "https://localhost:8080/"
        },
        "id": "9FOZ-9EMoOYQ",
        "outputId": "0d7400d5-fc06-436b-89ef-35c332ffaf30"
      },
      "outputs": [
        {
          "name": "stdout",
          "output_type": "stream",
          "text": [
            "'Train dataset shape: (1025602, 221)'\n",
            "'Test dataset shape: (134529, 221)'\n"
          ]
        }
      ],
      "source": [
        "# Read the training and test dataset -- Took a minute\n",
        "train_df = pd.read_csv('/content/drive/MyDrive/Project/processed_train.csv', low_memory=False)\n",
        "test_df = pd.read_csv('/content/drive/MyDrive/Project/processed_test.csv', low_memory=False)\n",
        "pprint(f'Train dataset shape: {train_df.shape}')\n",
        "pprint(f'Test dataset shape: {test_df.shape}')\n"
      ]
    },
    {
      "cell_type": "code",
      "execution_count": null,
      "metadata": {
        "colab": {
          "base_uri": "https://localhost:8080/"
        },
        "id": "Zl5ckpRRcHpu",
        "outputId": "47c4a228-a466-47de-a1fe-148d772ca138"
      },
      "outputs": [
        {
          "name": "stdout",
          "output_type": "stream",
          "text": [
            "'Train dataset shape: (982224, 221)'\n",
            "'Test dataset shape: (128726, 221)'\n"
          ]
        }
      ],
      "source": [
        "train_df = train_df.dropna()\n",
        "test_df = test_df.dropna()\n",
        "pprint(f'Train dataset shape: {train_df.shape}')\n",
        "pprint(f'Test dataset shape: {test_df.shape}')\n"
      ]
    },
    {
      "cell_type": "code",
      "execution_count": null,
      "metadata": {
        "colab": {
          "base_uri": "https://localhost:8080/"
        },
        "id": "1DUqrjKjolXy",
        "outputId": "51593830-01a9-4c5b-b117-c5910d25f966"
      },
      "outputs": [
        {
          "name": "stdout",
          "output_type": "stream",
          "text": [
            "'X_train shape: (982224, 219)'\n",
            "'y_train shape: (982224,)'\n",
            "'X_test shape: (128726, 219)'\n",
            "'y_test shape: (128726,)'\n"
          ]
        }
      ],
      "source": [
        "# Prepare training and test variables\n",
        "X_columns = [col for col in train_df.columns if col not in ['Unnamed: 0', 'PATHOLOGY']]\n",
        "X_train = train_df[X_columns]\n",
        "y_train = train_df['PATHOLOGY']\n",
        "X_test = test_df[X_columns]\n",
        "y_test = test_df['PATHOLOGY']\n",
        "pprint(f'X_train shape: {X_train.shape}')\n",
        "pprint(f'y_train shape: {y_train.shape}')\n",
        "pprint(f'X_test shape: {X_test.shape}')\n",
        "pprint(f'y_test shape: {y_test.shape}')\n"
      ]
    },
    {
      "cell_type": "code",
      "execution_count": null,
      "metadata": {
        "id": "QmjKwjxMCcZy"
      },
      "outputs": [],
      "source": [
        "from sklearn.preprocessing import LabelEncoder"
      ]
    },
    {
      "cell_type": "code",
      "execution_count": null,
      "metadata": {
        "id": "VNUgUD8lchgD"
      },
      "outputs": [],
      "source": [
        "categorical = X_train.select_dtypes(\"object\").columns"
      ]
    },
    {
      "cell_type": "code",
      "execution_count": null,
      "metadata": {
        "colab": {
          "base_uri": "https://localhost:8080/"
        },
        "id": "njsiONIzdpyC",
        "outputId": "1e6c717a-27f2-4bbc-f7e4-d61f4138caec"
      },
      "outputs": [
        {
          "data": {
            "text/plain": [
              "Index(['SEX', 'Characterize your pain:', 'Do you feel pain somewhere?',\n",
              "       'Does the pain radiate to another location?',\n",
              "       'Have you traveled out of the country in the last 4 weeks?',\n",
              "       'What color is the rash?', 'Do your lesions peel off?',\n",
              "       'Where is the affected region located?',\n",
              "       'Is the lesion (or are the lesions) larger than 1cm?',\n",
              "       'Where is the swelling located?'],\n",
              "      dtype='object')"
            ]
          },
          "execution_count": 8,
          "metadata": {},
          "output_type": "execute_result"
        }
      ],
      "source": [
        "categorical"
      ]
    },
    {
      "cell_type": "code",
      "execution_count": null,
      "metadata": {
        "id": "K8NcUG1FDZJk"
      },
      "outputs": [],
      "source": [
        "categorical = [col for col in X_train.columns if X_train[col].dtype == 'O']\n"
      ]
    },
    {
      "cell_type": "code",
      "execution_count": null,
      "metadata": {
        "id": "eUC_FIx0CeF8"
      },
      "outputs": [],
      "source": [
        "label_encoder = LabelEncoder()"
      ]
    },
    {
      "cell_type": "code",
      "execution_count": null,
      "metadata": {
        "id": "4CmJqVcwCkYw"
      },
      "outputs": [],
      "source": [
        "for column in categorical:\n",
        "    X_train[column] = label_encoder.fit_transform(X_train[column])"
      ]
    },
    {
      "cell_type": "code",
      "execution_count": null,
      "metadata": {
        "id": "ta6XV-76EwIH"
      },
      "outputs": [],
      "source": [
        "for column in categorical:\n",
        "    X_test[column] = label_encoder.fit_transform(X_test[column])"
      ]
    },
    {
      "cell_type": "code",
      "execution_count": null,
      "metadata": {
        "id": "nk2A0RXdj-u1"
      },
      "outputs": [],
      "source": [
        "svm_classifier = SVC(kernel='linear', C=1.0)"
      ]
    },
    {
      "cell_type": "code",
      "execution_count": null,
      "metadata": {
        "colab": {
          "base_uri": "https://localhost:8080/",
          "height": 75
        },
        "id": "cJM1igJrkDow",
        "outputId": "48fbbaa5-505d-4d42-aef0-1660698cb594"
      },
      "outputs": [
        {
          "data": {
            "text/html": [
              "<style>#sk-container-id-1 {color: black;background-color: white;}#sk-container-id-1 pre{padding: 0;}#sk-container-id-1 div.sk-toggleable {background-color: white;}#sk-container-id-1 label.sk-toggleable__label {cursor: pointer;display: block;width: 100%;margin-bottom: 0;padding: 0.3em;box-sizing: border-box;text-align: center;}#sk-container-id-1 label.sk-toggleable__label-arrow:before {content: \"▸\";float: left;margin-right: 0.25em;color: #696969;}#sk-container-id-1 label.sk-toggleable__label-arrow:hover:before {color: black;}#sk-container-id-1 div.sk-estimator:hover label.sk-toggleable__label-arrow:before {color: black;}#sk-container-id-1 div.sk-toggleable__content {max-height: 0;max-width: 0;overflow: hidden;text-align: left;background-color: #f0f8ff;}#sk-container-id-1 div.sk-toggleable__content pre {margin: 0.2em;color: black;border-radius: 0.25em;background-color: #f0f8ff;}#sk-container-id-1 input.sk-toggleable__control:checked~div.sk-toggleable__content {max-height: 200px;max-width: 100%;overflow: auto;}#sk-container-id-1 input.sk-toggleable__control:checked~label.sk-toggleable__label-arrow:before {content: \"▾\";}#sk-container-id-1 div.sk-estimator input.sk-toggleable__control:checked~label.sk-toggleable__label {background-color: #d4ebff;}#sk-container-id-1 div.sk-label input.sk-toggleable__control:checked~label.sk-toggleable__label {background-color: #d4ebff;}#sk-container-id-1 input.sk-hidden--visually {border: 0;clip: rect(1px 1px 1px 1px);clip: rect(1px, 1px, 1px, 1px);height: 1px;margin: -1px;overflow: hidden;padding: 0;position: absolute;width: 1px;}#sk-container-id-1 div.sk-estimator {font-family: monospace;background-color: #f0f8ff;border: 1px dotted black;border-radius: 0.25em;box-sizing: border-box;margin-bottom: 0.5em;}#sk-container-id-1 div.sk-estimator:hover {background-color: #d4ebff;}#sk-container-id-1 div.sk-parallel-item::after {content: \"\";width: 100%;border-bottom: 1px solid gray;flex-grow: 1;}#sk-container-id-1 div.sk-label:hover label.sk-toggleable__label {background-color: #d4ebff;}#sk-container-id-1 div.sk-serial::before {content: \"\";position: absolute;border-left: 1px solid gray;box-sizing: border-box;top: 0;bottom: 0;left: 50%;z-index: 0;}#sk-container-id-1 div.sk-serial {display: flex;flex-direction: column;align-items: center;background-color: white;padding-right: 0.2em;padding-left: 0.2em;position: relative;}#sk-container-id-1 div.sk-item {position: relative;z-index: 1;}#sk-container-id-1 div.sk-parallel {display: flex;align-items: stretch;justify-content: center;background-color: white;position: relative;}#sk-container-id-1 div.sk-item::before, #sk-container-id-1 div.sk-parallel-item::before {content: \"\";position: absolute;border-left: 1px solid gray;box-sizing: border-box;top: 0;bottom: 0;left: 50%;z-index: -1;}#sk-container-id-1 div.sk-parallel-item {display: flex;flex-direction: column;z-index: 1;position: relative;background-color: white;}#sk-container-id-1 div.sk-parallel-item:first-child::after {align-self: flex-end;width: 50%;}#sk-container-id-1 div.sk-parallel-item:last-child::after {align-self: flex-start;width: 50%;}#sk-container-id-1 div.sk-parallel-item:only-child::after {width: 0;}#sk-container-id-1 div.sk-dashed-wrapped {border: 1px dashed gray;margin: 0 0.4em 0.5em 0.4em;box-sizing: border-box;padding-bottom: 0.4em;background-color: white;}#sk-container-id-1 div.sk-label label {font-family: monospace;font-weight: bold;display: inline-block;line-height: 1.2em;}#sk-container-id-1 div.sk-label-container {text-align: center;}#sk-container-id-1 div.sk-container {/* jupyter's `normalize.less` sets `[hidden] { display: none; }` but bootstrap.min.css set `[hidden] { display: none !important; }` so we also need the `!important` here to be able to override the default hidden behavior on the sphinx rendered scikit-learn.org. See: https://github.com/scikit-learn/scikit-learn/issues/21755 */display: inline-block !important;position: relative;}#sk-container-id-1 div.sk-text-repr-fallback {display: none;}</style><div id=\"sk-container-id-1\" class=\"sk-top-container\"><div class=\"sk-text-repr-fallback\"><pre>SVC(kernel=&#x27;linear&#x27;)</pre><b>In a Jupyter environment, please rerun this cell to show the HTML representation or trust the notebook. <br />On GitHub, the HTML representation is unable to render, please try loading this page with nbviewer.org.</b></div><div class=\"sk-container\" hidden><div class=\"sk-item\"><div class=\"sk-estimator sk-toggleable\"><input class=\"sk-toggleable__control sk-hidden--visually\" id=\"sk-estimator-id-1\" type=\"checkbox\" checked><label for=\"sk-estimator-id-1\" class=\"sk-toggleable__label sk-toggleable__label-arrow\">SVC</label><div class=\"sk-toggleable__content\"><pre>SVC(kernel=&#x27;linear&#x27;)</pre></div></div></div></div></div>"
            ],
            "text/plain": [
              "SVC(kernel='linear')"
            ]
          },
          "execution_count": 25,
          "metadata": {},
          "output_type": "execute_result"
        }
      ],
      "source": [
        "svm_classifier.fit(X_train, y_train)"
      ]
    },
    {
      "cell_type": "code",
      "execution_count": null,
      "metadata": {
        "id": "P7KvHHx3kHKh"
      },
      "outputs": [],
      "source": [
        "y_pred = svm_classifier.predict(X_test)"
      ]
    },
    {
      "cell_type": "code",
      "execution_count": null,
      "metadata": {
        "colab": {
          "base_uri": "https://localhost:8080/"
        },
        "id": "Z4xE4TV6kXhc",
        "outputId": "1210533e-fe35-4279-f391-5900c7f1db3b"
      },
      "outputs": [
        {
          "name": "stdout",
          "output_type": "stream",
          "text": [
            "The accuracy score is 98.71%\n",
            "Classification Report\n",
            "                                          precision    recall  f1-score   support\n",
            "\n",
            "     Acute COPD exacerbation / infection       1.00      1.00      1.00      2153\n",
            "                Acute dystonic reactions       1.00      1.00      1.00      3302\n",
            "                        Acute laryngitis       0.99      0.99      0.99      3214\n",
            "                      Acute otitis media       1.00      1.00      1.00      3509\n",
            "                   Acute pulmonary edema       1.00      1.00      1.00      2598\n",
            "                    Acute rhinosinusitis       1.00      0.67      0.80      1829\n",
            "                      Allergic sinusitis       1.00      1.00      1.00      2411\n",
            "                             Anaphylaxis       1.00      1.00      1.00      3798\n",
            "                                  Anemia       1.00      1.00      1.00      6770\n",
            "                     Atrial fibrillation       1.00      1.00      1.00      2831\n",
            "                               Boerhaave       1.00      1.00      1.00      2083\n",
            "                          Bronchiectasis       1.00      1.00      1.00      2454\n",
            "                           Bronchiolitis       1.00      1.00      1.00        36\n",
            "                              Bronchitis       0.84      1.00      0.91      3577\n",
            "Bronchospasm / acute asthma exacerbation       1.00      1.00      1.00      2222\n",
            "                                  Chagas       1.00      1.00      1.00      1077\n",
            "                  Chronic rhinosinusitis       0.82      1.00      0.90      2747\n",
            "                        Cluster headache       1.00      1.00      1.00      2825\n",
            "                                   Croup       1.00      1.00      1.00       344\n",
            "                                   Ebola       1.00      1.00      1.00       100\n",
            "                            Epiglottitis       1.00      1.00      1.00      2364\n",
            "                                    GERD       1.00      1.00      1.00      3514\n",
            "                 Guillain-Barré syndrome       1.00      1.00      1.00      2601\n",
            "                 HIV (initial infection)       1.00      1.00      1.00      3904\n",
            "                               Influenza       1.00      1.00      1.00      3097\n",
            "                         Inguinal hernia       1.00      1.00      1.00      2488\n",
            "                             Larygospasm       1.00      1.00      1.00       785\n",
            "                         Localized edema       1.00      1.00      1.00      3734\n",
            "                       Myasthenia gravis       1.00      1.00      1.00      2215\n",
            "                             Myocarditis       0.98      1.00      0.99      1468\n",
            "                                    PSVT       1.00      1.00      1.00      1635\n",
            "                     Pancreatic neoplasm       1.00      1.00      1.00      1779\n",
            "                            Panic attack       1.00      1.00      1.00      3387\n",
            "                            Pericarditis       1.00      1.00      1.00      3095\n",
            "                               Pneumonia       1.00      1.00      1.00      3454\n",
            "                 Possible NSTEMI / STEMI       1.00      1.00      1.00      2911\n",
            "                      Pulmonary embolism       1.00      1.00      1.00      3679\n",
            "                      Pulmonary neoplasm       1.00      0.57      0.73      1673\n",
            "                                     SLE       1.00      1.00      1.00      1514\n",
            "                Scombroid food poisoning       1.00      1.00      1.00      2486\n",
            "                Spontaneous pneumothorax       1.00      1.00      1.00      1343\n",
            "                Spontaneous rib fracture       1.00      1.00      1.00       778\n",
            "                           Stable angina       0.98      1.00      0.99      2386\n",
            "                            Tuberculosis       1.00      1.00      1.00      2080\n",
            "                                    URTI       0.98      0.99      0.99      8713\n",
            "                         Unstable angina       1.00      0.98      0.99      2880\n",
            "                       Viral pharyngitis       0.99      0.97      0.98      8334\n",
            "                          Whooping cough       1.00      1.00      1.00       549\n",
            "\n",
            "                                accuracy                           0.99    128726\n",
            "                               macro avg       0.99      0.98      0.98    128726\n",
            "                            weighted avg       0.99      0.99      0.99    128726\n",
            "\n",
            "[[2153    0    0 ...    0    0    0]\n",
            " [   0 3302    0 ...    0    0    0]\n",
            " [   0    0 3197 ...    0   17    0]\n",
            " ...\n",
            " [   0    0    0 ... 2830    0    0]\n",
            " [   0    0   34 ...    0 8115    0]\n",
            " [   0    0    0 ...    0    0  549]]\n"
          ]
        }
      ],
      "source": [
        "accuracy = accuracy_score(y_test, y_pred)\n",
        "print(f'The accuracy score is {accuracy * 100:.2f}%')\n",
        "print(\"Classification Report\")\n",
        "print(classification_report(y_test, y_pred))\n",
        "print(confusion_matrix(y_test, y_pred))"
      ]
    },
    {
      "cell_type": "code",
      "execution_count": null,
      "metadata": {
        "id": "A2AMqyhzyo1P"
      },
      "outputs": [],
      "source": [
        "import numpy as np\n",
        "from sklearn.model_selection import KFold, cross_val_score\n",
        "from sklearn.model_selection import train_test_split\n",
        "from sklearn.metrics import accuracy_score"
      ]
    },
    {
      "cell_type": "code",
      "execution_count": null,
      "metadata": {
        "id": "M9fseKft2RmC"
      },
      "outputs": [],
      "source": [
        "k = 5\n",
        "kf = KFold(n_splits=k, shuffle=True, random_state=42)\n"
      ]
    },
    {
      "cell_type": "code",
      "execution_count": null,
      "metadata": {
        "id": "HUzepCsR2kwk"
      },
      "outputs": [],
      "source": [
        "X = X_train\n",
        "y = y_train"
      ]
    },
    {
      "cell_type": "code",
      "execution_count": null,
      "metadata": {
        "colab": {
          "background_save": true
        },
        "id": "yUQmFbi04Nc0"
      },
      "outputs": [],
      "source": [
        "scores = cross_val_score(svm_classifier, X, y, cv=kf, scoring='accuracy')\n"
      ]
    },
    {
      "cell_type": "code",
      "execution_count": 34,
      "metadata": {
        "id": "o9Sf6jQ43B-2",
        "colab": {
          "base_uri": "https://localhost:8080/"
        },
        "outputId": "72595938-b584-45a7-a1b4-0399f6821d10"
      },
      "outputs": [
        {
          "output_type": "stream",
          "name": "stdout",
          "text": [
            "Fold 1 Score: 0.9940\n",
            "Fold 2 Score: 0.9940\n",
            "Fold 3 Score: 0.9942\n",
            "Fold 4 Score: 0.9940\n",
            "Fold 5 Score: 0.9940\n"
          ]
        }
      ],
      "source": [
        "for fold, score in enumerate(scores):\n",
        "    print(f\"Fold {fold+1} Score: {score:.4f}\")\n"
      ]
    },
    {
      "cell_type": "code",
      "execution_count": 33,
      "metadata": {
        "id": "0Yn1gmMb214b",
        "colab": {
          "base_uri": "https://localhost:8080/"
        },
        "outputId": "2487b279-5d66-4f2f-d272-ec054e274c14"
      },
      "outputs": [
        {
          "output_type": "stream",
          "name": "stdout",
          "text": [
            "Mean Score: 0.9940\n",
            "Standard Deviation: 0.0001\n"
          ]
        }
      ],
      "source": [
        "mean_score = np.mean(scores)\n",
        "std_score = np.std(scores)\n",
        "print(f\"Mean Score: {mean_score:.4f}\")\n",
        "print(f\"Standard Deviation: {std_score:.4f}\")"
      ]
    }
  ],
  "metadata": {
    "colab": {
      "machine_shape": "hm",
      "provenance": [],
      "include_colab_link": true
    },
    "kernelspec": {
      "display_name": "Python 3",
      "name": "python3"
    },
    "language_info": {
      "name": "python"
    }
  },
  "nbformat": 4,
  "nbformat_minor": 0
}