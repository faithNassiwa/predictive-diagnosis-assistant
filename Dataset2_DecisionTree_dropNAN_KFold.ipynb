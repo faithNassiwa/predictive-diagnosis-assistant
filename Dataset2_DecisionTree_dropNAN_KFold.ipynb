{
  "nbformat": 4,
  "nbformat_minor": 0,
  "metadata": {
    "colab": {
      "provenance": [],
      "machine_shape": "hm",
      "include_colab_link": true
    },
    "kernelspec": {
      "name": "python3",
      "display_name": "Python 3"
    },
    "language_info": {
      "name": "python"
    }
  },
  "cells": [
    {
      "cell_type": "markdown",
      "metadata": {
        "id": "view-in-github",
        "colab_type": "text"
      },
      "source": [
        "<a href=\"https://colab.research.google.com/github/faithNassiwa/predictive-diagnosis-assistant/blob/main/Dataset2_DecisionTree_dropNAN_KFold.ipynb\" target=\"_parent\"><img src=\"https://colab.research.google.com/assets/colab-badge.svg\" alt=\"Open In Colab\"/></a>"
      ]
    },
    {
      "cell_type": "code",
      "execution_count": null,
      "metadata": {
        "id": "XPgKaLJJaGk7"
      },
      "outputs": [],
      "source": [
        "# Import required libraries\n",
        "import numpy as np\n",
        "import pandas as pd\n",
        "import matplotlib.pyplot as plt\n",
        "from sklearn import preprocessing\n",
        "from sklearn.metrics import accuracy_score, classification_report\n",
        "from sklearn.tree import DecisionTreeClassifier, plot_tree\n",
        "from pprint import pprint"
      ]
    },
    {
      "cell_type": "code",
      "source": [
        "from google.colab import drive\n",
        "drive.mount('/content/drive')"
      ],
      "metadata": {
        "colab": {
          "base_uri": "https://localhost:8080/"
        },
        "id": "QGqEbHBIwywE",
        "outputId": "33a40be9-e28e-4ddf-b809-70f588766045"
      },
      "execution_count": null,
      "outputs": [
        {
          "output_type": "stream",
          "name": "stdout",
          "text": [
            "Drive already mounted at /content/drive; to attempt to forcibly remount, call drive.mount(\"/content/drive\", force_remount=True).\n"
          ]
        }
      ]
    },
    {
      "cell_type": "code",
      "source": [
        "# Read the training and test dataset -- Took a minute\n",
        "train_df = pd.read_csv('/content/drive/MyDrive/Project/processed_train.csv', low_memory=False)\n",
        "test_df = pd.read_csv('/content/drive/MyDrive/Project/processed_test.csv', low_memory=False)\n",
        "pprint(f'Train dataset shape: {train_df.shape}')\n",
        "pprint(f'Test dataset shape: {test_df.shape}')\n"
      ],
      "metadata": {
        "colab": {
          "base_uri": "https://localhost:8080/"
        },
        "id": "9FOZ-9EMoOYQ",
        "outputId": "0d7400d5-fc06-436b-89ef-35c332ffaf30"
      },
      "execution_count": null,
      "outputs": [
        {
          "output_type": "stream",
          "name": "stdout",
          "text": [
            "'Train dataset shape: (1025602, 221)'\n",
            "'Test dataset shape: (134529, 221)'\n"
          ]
        }
      ]
    },
    {
      "cell_type": "code",
      "source": [
        "train_df = train_df.dropna()\n",
        "test_df = test_df.dropna()\n",
        "pprint(f'Train dataset shape: {train_df.shape}')\n",
        "pprint(f'Test dataset shape: {test_df.shape}')\n"
      ],
      "metadata": {
        "colab": {
          "base_uri": "https://localhost:8080/"
        },
        "id": "Zl5ckpRRcHpu",
        "outputId": "47c4a228-a466-47de-a1fe-148d772ca138"
      },
      "execution_count": null,
      "outputs": [
        {
          "output_type": "stream",
          "name": "stdout",
          "text": [
            "'Train dataset shape: (982224, 221)'\n",
            "'Test dataset shape: (128726, 221)'\n"
          ]
        }
      ]
    },
    {
      "cell_type": "code",
      "source": [
        "# Prepare training and test variables\n",
        "X_columns = [col for col in train_df.columns if col not in ['Unnamed: 0', 'PATHOLOGY']]\n",
        "X_train = train_df[X_columns]\n",
        "y_train = train_df['PATHOLOGY']\n",
        "X_test = test_df[X_columns]\n",
        "y_test = test_df['PATHOLOGY']\n",
        "pprint(f'X_train shape: {X_train.shape}')\n",
        "pprint(f'y_train shape: {y_train.shape}')\n",
        "pprint(f'X_test shape: {X_test.shape}')\n",
        "pprint(f'y_test shape: {y_test.shape}')\n"
      ],
      "metadata": {
        "colab": {
          "base_uri": "https://localhost:8080/"
        },
        "id": "1DUqrjKjolXy",
        "outputId": "51593830-01a9-4c5b-b117-c5910d25f966"
      },
      "execution_count": null,
      "outputs": [
        {
          "output_type": "stream",
          "name": "stdout",
          "text": [
            "'X_train shape: (982224, 219)'\n",
            "'y_train shape: (982224,)'\n",
            "'X_test shape: (128726, 219)'\n",
            "'y_test shape: (128726,)'\n"
          ]
        }
      ]
    },
    {
      "cell_type": "code",
      "source": [
        "from sklearn.preprocessing import LabelEncoder"
      ],
      "metadata": {
        "id": "QmjKwjxMCcZy"
      },
      "execution_count": null,
      "outputs": []
    },
    {
      "cell_type": "code",
      "source": [
        "categorical = X_train.select_dtypes(\"object\").columns"
      ],
      "metadata": {
        "id": "VNUgUD8lchgD"
      },
      "execution_count": null,
      "outputs": []
    },
    {
      "cell_type": "code",
      "source": [
        "categorical"
      ],
      "metadata": {
        "colab": {
          "base_uri": "https://localhost:8080/"
        },
        "id": "njsiONIzdpyC",
        "outputId": "1e6c717a-27f2-4bbc-f7e4-d61f4138caec"
      },
      "execution_count": null,
      "outputs": [
        {
          "output_type": "execute_result",
          "data": {
            "text/plain": [
              "Index(['SEX', 'Characterize your pain:', 'Do you feel pain somewhere?',\n",
              "       'Does the pain radiate to another location?',\n",
              "       'Have you traveled out of the country in the last 4 weeks?',\n",
              "       'What color is the rash?', 'Do your lesions peel off?',\n",
              "       'Where is the affected region located?',\n",
              "       'Is the lesion (or are the lesions) larger than 1cm?',\n",
              "       'Where is the swelling located?'],\n",
              "      dtype='object')"
            ]
          },
          "metadata": {},
          "execution_count": 8
        }
      ]
    },
    {
      "cell_type": "code",
      "source": [
        "categorical = [col for col in X_train.columns if X_train[col].dtype == 'O']\n"
      ],
      "metadata": {
        "id": "K8NcUG1FDZJk"
      },
      "execution_count": null,
      "outputs": []
    },
    {
      "cell_type": "code",
      "source": [
        "label_encoder = LabelEncoder()"
      ],
      "metadata": {
        "id": "eUC_FIx0CeF8"
      },
      "execution_count": null,
      "outputs": []
    },
    {
      "cell_type": "code",
      "source": [
        "for column in categorical:\n",
        "    X_train[column] = label_encoder.fit_transform(X_train[column])"
      ],
      "metadata": {
        "id": "4CmJqVcwCkYw"
      },
      "execution_count": null,
      "outputs": []
    },
    {
      "cell_type": "code",
      "source": [
        "for column in categorical:\n",
        "    X_test[column] = label_encoder.fit_transform(X_test[column])"
      ],
      "metadata": {
        "id": "ta6XV-76EwIH"
      },
      "execution_count": null,
      "outputs": []
    },
    {
      "cell_type": "code",
      "source": [
        "# Decision Tree Model -- Took about 30 seconds\n",
        "\n",
        "# Initialize and fit the model\n",
        "clf = DecisionTreeClassifier(random_state=420)\n",
        "clf.fit(X_train_encoded, y_train)\n",
        "\n",
        "# make predictions\n",
        "y_pred = clf.predict(X_test_encoded)"
      ],
      "metadata": {
        "id": "Gy7HrtAzpFXh"
      },
      "execution_count": null,
      "outputs": []
    },
    {
      "cell_type": "code",
      "source": [
        "# Evaluate Model\n",
        "accuracy = accuracy_score(y_test, y_pred)\n",
        "print(f'The accuracy score is {accuracy * 100:.2f}%')\n",
        "print(\"Classification Report\")\n",
        "print(classification_report(y_test, y_pred))"
      ],
      "metadata": {
        "colab": {
          "base_uri": "https://localhost:8080/"
        },
        "id": "8JF7YFc6oljv",
        "outputId": "abefeaa6-5fc4-47af-a125-89dea09e0774"
      },
      "execution_count": null,
      "outputs": [
        {
          "output_type": "stream",
          "name": "stdout",
          "text": [
            "The accuracy score is 97.60%\n",
            "Classification Report\n",
            "                                          precision    recall  f1-score   support\n",
            "\n",
            "     Acute COPD exacerbation / infection       1.00      1.00      1.00      2153\n",
            "                Acute dystonic reactions       1.00      1.00      1.00      3302\n",
            "                        Acute laryngitis       0.98      0.99      0.98      3214\n",
            "                      Acute otitis media       0.78      1.00      0.88      3509\n",
            "                   Acute pulmonary edema       1.00      1.00      1.00      2598\n",
            "                    Acute rhinosinusitis       0.71      0.77      0.74      1829\n",
            "                      Allergic sinusitis       1.00      1.00      1.00      2411\n",
            "                             Anaphylaxis       1.00      1.00      1.00      3798\n",
            "                                  Anemia       1.00      1.00      1.00      6770\n",
            "                     Atrial fibrillation       1.00      1.00      1.00      2831\n",
            "                               Boerhaave       0.95      0.99      0.97      2083\n",
            "                          Bronchiectasis       1.00      1.00      1.00      2454\n",
            "                           Bronchiolitis       1.00      1.00      1.00        36\n",
            "                              Bronchitis       0.98      1.00      0.99      3577\n",
            "Bronchospasm / acute asthma exacerbation       1.00      1.00      1.00      2222\n",
            "                                  Chagas       1.00      0.72      0.84      1077\n",
            "                  Chronic rhinosinusitis       0.76      0.79      0.77      2747\n",
            "                        Cluster headache       1.00      0.95      0.97      2825\n",
            "                                   Croup       1.00      0.99      1.00       344\n",
            "                                   Ebola       1.00      1.00      1.00       100\n",
            "                            Epiglottitis       0.96      1.00      0.98      2364\n",
            "                                    GERD       1.00      0.79      0.88      3514\n",
            "                 Guillain-Barré syndrome       1.00      1.00      1.00      2601\n",
            "                 HIV (initial infection)       1.00      1.00      1.00      3904\n",
            "                               Influenza       1.00      1.00      1.00      3097\n",
            "                         Inguinal hernia       1.00      1.00      1.00      2488\n",
            "                             Larygospasm       1.00      1.00      1.00       785\n",
            "                         Localized edema       1.00      1.00      1.00      3734\n",
            "                       Myasthenia gravis       1.00      1.00      1.00      2215\n",
            "                             Myocarditis       1.00      0.99      0.99      1468\n",
            "                                    PSVT       1.00      0.88      0.94      1635\n",
            "                     Pancreatic neoplasm       1.00      1.00      1.00      1779\n",
            "                            Panic attack       0.97      0.99      0.98      3387\n",
            "                            Pericarditis       0.97      0.93      0.95      3095\n",
            "                               Pneumonia       1.00      1.00      1.00      3454\n",
            "                 Possible NSTEMI / STEMI       1.00      0.99      1.00      2911\n",
            "                      Pulmonary embolism       1.00      1.00      1.00      3679\n",
            "                      Pulmonary neoplasm       0.99      1.00      1.00      1673\n",
            "                                     SLE       1.00      1.00      1.00      1514\n",
            "                Scombroid food poisoning       1.00      1.00      1.00      2486\n",
            "                Spontaneous pneumothorax       1.00      1.00      1.00      1343\n",
            "                Spontaneous rib fracture       1.00      1.00      1.00       778\n",
            "                           Stable angina       0.98      0.96      0.97      2386\n",
            "                            Tuberculosis       1.00      1.00      1.00      2080\n",
            "                                    URTI       0.99      0.99      0.99      8713\n",
            "                         Unstable angina       0.97      0.98      0.98      2880\n",
            "                       Viral pharyngitis       1.00      0.98      0.99      8334\n",
            "                          Whooping cough       1.00      1.00      1.00       549\n",
            "\n",
            "                                accuracy                           0.98    128726\n",
            "                               macro avg       0.98      0.97      0.97    128726\n",
            "                            weighted avg       0.98      0.98      0.98    128726\n",
            "\n"
          ]
        }
      ]
    },
    {
      "cell_type": "code",
      "source": [
        "import numpy as np\n",
        "from sklearn.model_selection import KFold, cross_val_score\n",
        "from sklearn.model_selection import train_test_split\n",
        "from sklearn.metrics import accuracy_score"
      ],
      "metadata": {
        "id": "A2AMqyhzyo1P"
      },
      "execution_count": null,
      "outputs": []
    },
    {
      "cell_type": "code",
      "source": [
        "k = 5\n",
        "kf = KFold(n_splits=k, shuffle=True, random_state=42)\n"
      ],
      "metadata": {
        "id": "M9fseKft2RmC"
      },
      "execution_count": null,
      "outputs": []
    },
    {
      "cell_type": "code",
      "source": [
        "X = X_train\n",
        "y = y_train"
      ],
      "metadata": {
        "id": "HUzepCsR2kwk"
      },
      "execution_count": null,
      "outputs": []
    },
    {
      "cell_type": "code",
      "source": [
        "model = DecisionTreeClassifier()\n"
      ],
      "metadata": {
        "id": "Ti_HgiDC2X_c"
      },
      "execution_count": null,
      "outputs": []
    },
    {
      "cell_type": "code",
      "source": [
        "scores = cross_val_score(model, X, y, cv=kf, scoring='accuracy')\n"
      ],
      "metadata": {
        "id": "yUQmFbi04Nc0"
      },
      "execution_count": null,
      "outputs": []
    },
    {
      "cell_type": "code",
      "source": [
        "for fold, score in enumerate(scores):\n",
        "    print(f\"Fold {fold+1} Score: {score:.4f}\")\n"
      ],
      "metadata": {
        "colab": {
          "base_uri": "https://localhost:8080/"
        },
        "id": "o9Sf6jQ43B-2",
        "outputId": "745e4e41-a631-4462-8984-a592cb186f1f"
      },
      "execution_count": null,
      "outputs": [
        {
          "output_type": "stream",
          "name": "stdout",
          "text": [
            "Fold 1 Score: 0.9917\n",
            "Fold 2 Score: 0.9916\n",
            "Fold 3 Score: 0.9916\n",
            "Fold 4 Score: 0.9916\n",
            "Fold 5 Score: 0.9914\n"
          ]
        }
      ]
    }
  ]
}